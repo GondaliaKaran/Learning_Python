{
 "cells": [
  {
   "cell_type": "code",
   "execution_count": 1,
   "metadata": {},
   "outputs": [
    {
     "data": {
      "text/plain": [
       "6"
      ]
     },
     "execution_count": 1,
     "metadata": {},
     "output_type": "execute_result"
    }
   ],
   "source": [
    "x=1\n",
    "y=5\n",
    "x+y"
   ]
  },
  {
   "cell_type": "code",
   "execution_count": 2,
   "metadata": {},
   "outputs": [
    {
     "data": {
      "text/plain": [
       "1"
      ]
     },
     "execution_count": 2,
     "metadata": {},
     "output_type": "execute_result"
    }
   ],
   "source": [
    "x\n"
   ]
  },
  {
   "cell_type": "code",
   "execution_count": 3,
   "metadata": {},
   "outputs": [
    {
     "ename": "SyntaxError",
     "evalue": "invalid syntax (<ipython-input-3-828bced258a6>, line 1)",
     "output_type": "error",
     "traceback": [
      "\u001b[0;36m  File \u001b[0;32m\"<ipython-input-3-828bced258a6>\"\u001b[0;36m, line \u001b[0;32m1\u001b[0m\n\u001b[0;31m    def add_numbers=(x,y):\u001b[0m\n\u001b[0m                   ^\u001b[0m\n\u001b[0;31mSyntaxError\u001b[0m\u001b[0;31m:\u001b[0m invalid syntax\n"
     ]
    }
   ],
   "source": [
    "def add_numbers=(x,y):\n",
    "    return x+y\n",
    "\n",
    "add_numbers=(8,10)"
   ]
  },
  {
   "cell_type": "code",
   "execution_count": 4,
   "metadata": {},
   "outputs": [],
   "source": [
    "def add_numbers(x,y):\n",
    "    return x+y\n",
    "\n",
    "add_numbers=(8,10)"
   ]
  },
  {
   "cell_type": "code",
   "execution_count": null,
   "metadata": {},
   "outputs": [],
   "source": []
  },
  {
   "cell_type": "code",
   "execution_count": null,
   "metadata": {},
   "outputs": [],
   "source": []
  },
  {
   "cell_type": "code",
   "execution_count": null,
   "metadata": {},
   "outputs": [],
   "source": []
  },
  {
   "cell_type": "code",
   "execution_count": null,
   "metadata": {},
   "outputs": [],
   "source": []
  },
  {
   "cell_type": "code",
   "execution_count": null,
   "metadata": {},
   "outputs": [],
   "source": []
  },
  {
   "cell_type": "code",
   "execution_count": null,
   "metadata": {},
   "outputs": [],
   "source": []
  },
  {
   "cell_type": "code",
   "execution_count": 5,
   "metadata": {},
   "outputs": [
    {
     "data": {
      "text/plain": [
       "18"
      ]
     },
     "execution_count": 5,
     "metadata": {},
     "output_type": "execute_result"
    }
   ],
   "source": [
    "def add_numbers(x, y):\n",
    "    return x + y\n",
    "\n",
    "add_numbers(8,10)"
   ]
  },
  {
   "cell_type": "code",
   "execution_count": 6,
   "metadata": {},
   "outputs": [
    {
     "data": {
      "text/plain": [
       "33"
      ]
     },
     "execution_count": 6,
     "metadata": {},
     "output_type": "execute_result"
    }
   ],
   "source": [
    "def add_numbers(x, y, z):\n",
    "    return x + y + z\n",
    "\n",
    "add_numbers(8, 10, 15)"
   ]
  },
  {
   "cell_type": "code",
   "execution_count": 7,
   "metadata": {},
   "outputs": [
    {
     "name": "stdout",
     "output_type": "stream",
     "text": [
      "6\n",
      "12\n"
     ]
    }
   ],
   "source": [
    "def add_numbers(x, y, z=None):\n",
    "    if (z == None):\n",
    "        return x + y\n",
    "    else:\n",
    "        return x + y + z\n",
    "    \n",
    "    \n",
    "print(add_numbers(2,4))\n",
    "print(add_numbers(2,4,6))"
   ]
  },
  {
   "cell_type": "code",
   "execution_count": 8,
   "metadata": {},
   "outputs": [
    {
     "ename": "SyntaxError",
     "evalue": "invalid syntax (<ipython-input-8-62dd5f2e63fc>, line 1)",
     "output_type": "error",
     "traceback": [
      "\u001b[0;36m  File \u001b[0;32m\"<ipython-input-8-62dd5f2e63fc>\"\u001b[0;36m, line \u001b[0;32m1\u001b[0m\n\u001b[0;31m    def do_math(?, ?, ?):\u001b[0m\n\u001b[0m                ^\u001b[0m\n\u001b[0;31mSyntaxError\u001b[0m\u001b[0;31m:\u001b[0m invalid syntax\n"
     ]
    }
   ],
   "source": [
    "def do_math(?, ?, ?):\n",
    "  if (kind=='add'):\n",
    "    return a+b\n",
    "  else:\n",
    "    return a-b\n",
    "\n",
    "do_math(1, 2)"
   ]
  },
  {
   "cell_type": "code",
   "execution_count": 9,
   "metadata": {},
   "outputs": [
    {
     "ename": "NameError",
     "evalue": "name 'add' is not defined",
     "output_type": "error",
     "traceback": [
      "\u001b[0;31m---------------------------------------------------------------------------\u001b[0m",
      "\u001b[0;31mNameError\u001b[0m                                 Traceback (most recent call last)",
      "\u001b[0;32m<ipython-input-9-643cd70f04cf>\u001b[0m in \u001b[0;36m<module>\u001b[0;34m()\u001b[0m\n\u001b[0;32m----> 1\u001b[0;31m \u001b[0;32mdef\u001b[0m \u001b[0mdo_math\u001b[0m\u001b[0;34m(\u001b[0m\u001b[0ma\u001b[0m\u001b[0;34m,\u001b[0m \u001b[0mb\u001b[0m\u001b[0;34m,\u001b[0m \u001b[0mkind\u001b[0m\u001b[0;34m=\u001b[0m\u001b[0madd\u001b[0m\u001b[0;34m)\u001b[0m\u001b[0;34m:\u001b[0m\u001b[0;34m\u001b[0m\u001b[0m\n\u001b[0m\u001b[1;32m      2\u001b[0m   \u001b[0;32mif\u001b[0m \u001b[0;34m(\u001b[0m\u001b[0mkind\u001b[0m\u001b[0;34m==\u001b[0m\u001b[0madd\u001b[0m\u001b[0;34m)\u001b[0m\u001b[0;34m:\u001b[0m\u001b[0;34m\u001b[0m\u001b[0m\n\u001b[1;32m      3\u001b[0m     \u001b[0;32mreturn\u001b[0m \u001b[0ma\u001b[0m\u001b[0;34m+\u001b[0m\u001b[0mb\u001b[0m\u001b[0;34m\u001b[0m\u001b[0m\n\u001b[1;32m      4\u001b[0m   \u001b[0;32melse\u001b[0m\u001b[0;34m:\u001b[0m\u001b[0;34m\u001b[0m\u001b[0m\n\u001b[1;32m      5\u001b[0m     \u001b[0;32mreturn\u001b[0m \u001b[0ma\u001b[0m\u001b[0;34m-\u001b[0m\u001b[0mb\u001b[0m\u001b[0;34m\u001b[0m\u001b[0m\n",
      "\u001b[0;31mNameError\u001b[0m: name 'add' is not defined"
     ]
    }
   ],
   "source": [
    "def do_math(a, b, kind=add):\n",
    "  if (kind==add):\n",
    "    return a+b\n",
    "  else:\n",
    "    return a-b\n",
    "\n",
    "print(do_math(1, 2))"
   ]
  },
  {
   "cell_type": "code",
   "execution_count": null,
   "metadata": {},
   "outputs": [],
   "source": []
  },
  {
   "cell_type": "code",
   "execution_count": null,
   "metadata": {},
   "outputs": [],
   "source": []
  },
  {
   "cell_type": "code",
   "execution_count": null,
   "metadata": {},
   "outputs": [],
   "source": []
  },
  {
   "cell_type": "code",
   "execution_count": null,
   "metadata": {},
   "outputs": [],
   "source": []
  },
  {
   "cell_type": "code",
   "execution_count": null,
   "metadata": {},
   "outputs": [],
   "source": []
  },
  {
   "cell_type": "code",
   "execution_count": null,
   "metadata": {},
   "outputs": [],
   "source": []
  },
  {
   "cell_type": "code",
   "execution_count": null,
   "metadata": {},
   "outputs": [],
   "source": []
  },
  {
   "cell_type": "code",
   "execution_count": null,
   "metadata": {},
   "outputs": [],
   "source": []
  },
  {
   "cell_type": "code",
   "execution_count": null,
   "metadata": {},
   "outputs": [],
   "source": []
  },
  {
   "cell_type": "code",
   "execution_count": null,
   "metadata": {},
   "outputs": [],
   "source": []
  },
  {
   "cell_type": "code",
   "execution_count": null,
   "metadata": {},
   "outputs": [],
   "source": []
  },
  {
   "cell_type": "code",
   "execution_count": 10,
   "metadata": {},
   "outputs": [
    {
     "ename": "NameError",
     "evalue": "name 'add_number' is not defined",
     "output_type": "error",
     "traceback": [
      "\u001b[0;31m---------------------------------------------------------------------------\u001b[0m",
      "\u001b[0;31mNameError\u001b[0m                                 Traceback (most recent call last)",
      "\u001b[0;32m<ipython-input-10-eb0f41a3b47e>\u001b[0m in \u001b[0;36m<module>\u001b[0;34m()\u001b[0m\n\u001b[0;32m----> 1\u001b[0;31m \u001b[0mtype\u001b[0m\u001b[0;34m(\u001b[0m\u001b[0madd_number\u001b[0m\u001b[0;34m)\u001b[0m\u001b[0;34m\u001b[0m\u001b[0m\n\u001b[0m",
      "\u001b[0;31mNameError\u001b[0m: name 'add_number' is not defined"
     ]
    }
   ],
   "source": [
    "type(add_number)\n"
   ]
  },
  {
   "cell_type": "code",
   "execution_count": 11,
   "metadata": {},
   "outputs": [
    {
     "data": {
      "text/plain": [
       "function"
      ]
     },
     "execution_count": 11,
     "metadata": {},
     "output_type": "execute_result"
    }
   ],
   "source": [
    "type(add_numbers)"
   ]
  },
  {
   "cell_type": "code",
   "execution_count": null,
   "metadata": {},
   "outputs": [],
   "source": [
    "\n"
   ]
  },
  {
   "cell_type": "code",
   "execution_count": 12,
   "metadata": {},
   "outputs": [],
   "source": [
    "x = (1, 'a', 2, 'b')"
   ]
  },
  {
   "cell_type": "code",
   "execution_count": 13,
   "metadata": {},
   "outputs": [
    {
     "data": {
      "text/plain": [
       "tuple"
      ]
     },
     "execution_count": 13,
     "metadata": {},
     "output_type": "execute_result"
    }
   ],
   "source": [
    "type(x)"
   ]
  },
  {
   "cell_type": "code",
   "execution_count": 14,
   "metadata": {},
   "outputs": [],
   "source": [
    "x = [1, 'a', 2, 'b']"
   ]
  },
  {
   "cell_type": "code",
   "execution_count": 15,
   "metadata": {},
   "outputs": [
    {
     "data": {
      "text/plain": [
       "list"
      ]
     },
     "execution_count": 15,
     "metadata": {},
     "output_type": "execute_result"
    }
   ],
   "source": [
    "type(x)"
   ]
  },
  {
   "cell_type": "code",
   "execution_count": 16,
   "metadata": {},
   "outputs": [],
   "source": [
    "x.append(3.3)"
   ]
  },
  {
   "cell_type": "code",
   "execution_count": 17,
   "metadata": {},
   "outputs": [
    {
     "name": "stdout",
     "output_type": "stream",
     "text": [
      "[1, 'a', 2, 'b', 3.3]\n"
     ]
    }
   ],
   "source": [
    "print(x)"
   ]
  },
  {
   "cell_type": "code",
   "execution_count": 18,
   "metadata": {},
   "outputs": [
    {
     "ename": "SyntaxError",
     "evalue": "invalid syntax (<ipython-input-18-80c07a0279f7>, line 1)",
     "output_type": "error",
     "traceback": [
      "\u001b[0;36m  File \u001b[0;32m\"<ipython-input-18-80c07a0279f7>\"\u001b[0;36m, line \u001b[0;32m1\u001b[0m\n\u001b[0;31m    from item in (x):\u001b[0m\n\u001b[0m               ^\u001b[0m\n\u001b[0;31mSyntaxError\u001b[0m\u001b[0;31m:\u001b[0m invalid syntax\n"
     ]
    }
   ],
   "source": [
    "from item in (x):\n",
    "    print item;\n",
    "    "
   ]
  },
  {
   "cell_type": "code",
   "execution_count": 19,
   "metadata": {},
   "outputs": [
    {
     "name": "stdout",
     "output_type": "stream",
     "text": [
      "1\n",
      "a\n",
      "2\n",
      "b\n",
      "3.3\n"
     ]
    }
   ],
   "source": [
    "for item in (x):\n",
    "    print (item)"
   ]
  },
  {
   "cell_type": "code",
   "execution_count": 20,
   "metadata": {},
   "outputs": [
    {
     "name": "stdout",
     "output_type": "stream",
     "text": [
      "1\n",
      "a\n",
      "2\n",
      "b\n",
      "3.3\n"
     ]
    }
   ],
   "source": [
    "i= 0\n",
    "while( i != len(x) ):\n",
    "    print(x[i])\n",
    "    i = i + 1"
   ]
  },
  {
   "cell_type": "code",
   "execution_count": 21,
   "metadata": {},
   "outputs": [
    {
     "data": {
      "text/plain": [
       "[1, 2, 3, 4]"
      ]
     },
     "execution_count": 21,
     "metadata": {},
     "output_type": "execute_result"
    }
   ],
   "source": [
    "[1, 2] + [3, 4]\n"
   ]
  },
  {
   "cell_type": "code",
   "execution_count": 22,
   "metadata": {},
   "outputs": [
    {
     "data": {
      "text/plain": [
       "True"
      ]
     },
     "execution_count": 22,
     "metadata": {},
     "output_type": "execute_result"
    }
   ],
   "source": [
    "1 in [1, 4, 8]"
   ]
  },
  {
   "cell_type": "code",
   "execution_count": 23,
   "metadata": {},
   "outputs": [
    {
     "data": {
      "text/plain": [
       "False"
      ]
     },
     "execution_count": 23,
     "metadata": {},
     "output_type": "execute_result"
    }
   ],
   "source": [
    "2 in [1, 4, 8]"
   ]
  },
  {
   "cell_type": "code",
   "execution_count": 25,
   "metadata": {},
   "outputs": [
    {
     "name": "stdout",
     "output_type": "stream",
     "text": [
      "Christopher\n"
     ]
    }
   ],
   "source": [
    "x = 'Dr. Christopher Brooks'\n",
    "\n",
    "print(x[4:-7])"
   ]
  },
  {
   "cell_type": "code",
   "execution_count": 26,
   "metadata": {},
   "outputs": [
    {
     "ename": "NameError",
     "evalue": "name 'messi' is not defined",
     "output_type": "error",
     "traceback": [
      "\u001b[0;31m---------------------------------------------------------------------------\u001b[0m",
      "\u001b[0;31mNameError\u001b[0m                                 Traceback (most recent call last)",
      "\u001b[0;32m<ipython-input-26-d8653cd28d35>\u001b[0m in \u001b[0;36m<module>\u001b[0;34m()\u001b[0m\n\u001b[1;32m      1\u001b[0m \u001b[0mx\u001b[0m \u001b[0;34m=\u001b[0m \u001b[0;34m{\u001b[0m\u001b[0;34m'karangondalia'\u001b[0m \u001b[0;34m:\u001b[0m \u001b[0;34m'karan.gondalia@gmail.com'\u001b[0m \u001b[0;34m,\u001b[0m \u001b[0;34m'messi'\u001b[0m \u001b[0;34m:\u001b[0m \u001b[0;34m'messi@gmail'\u001b[0m\u001b[0;34m}\u001b[0m\u001b[0;34m\u001b[0m\u001b[0m\n\u001b[0;32m----> 2\u001b[0;31m \u001b[0mx\u001b[0m\u001b[0;34m[\u001b[0m\u001b[0mmessi\u001b[0m\u001b[0;34m]\u001b[0m\u001b[0;34m\u001b[0m\u001b[0m\n\u001b[0m",
      "\u001b[0;31mNameError\u001b[0m: name 'messi' is not defined"
     ]
    }
   ],
   "source": [
    "x = {'karangondalia' : 'karan.gondalia@gmail.com' , 'messi' : 'messi@gmail'}\n",
    "x[messi]"
   ]
  },
  {
   "cell_type": "code",
   "execution_count": 27,
   "metadata": {},
   "outputs": [
    {
     "data": {
      "text/plain": [
       "'messi@gmail'"
      ]
     },
     "execution_count": 27,
     "metadata": {},
     "output_type": "execute_result"
    }
   ],
   "source": [
    "x['messi']"
   ]
  },
  {
   "cell_type": "code",
   "execution_count": 28,
   "metadata": {},
   "outputs": [],
   "source": [
    "x['ronaldo'] = None\n",
    "x['ronaldo']"
   ]
  },
  {
   "cell_type": "code",
   "execution_count": 29,
   "metadata": {},
   "outputs": [
    {
     "name": "stdout",
     "output_type": "stream",
     "text": [
      "messi@gmail\n",
      "None\n",
      "karan.gondalia@gmail.com\n"
     ]
    }
   ],
   "source": [
    "for name in x:\n",
    "    print(x[name])"
   ]
  },
  {
   "cell_type": "code",
   "execution_count": 30,
   "metadata": {},
   "outputs": [
    {
     "name": "stdout",
     "output_type": "stream",
     "text": [
      "messi@gmail\n",
      "None\n",
      "karan.gondalia@gmail.com\n"
     ]
    }
   ],
   "source": [
    "for email in x.values():\n",
    "    print(email)"
   ]
  },
  {
   "cell_type": "code",
   "execution_count": 31,
   "metadata": {},
   "outputs": [
    {
     "name": "stdout",
     "output_type": "stream",
     "text": [
      "messi\n",
      "messi@gmail\n",
      "ronaldo\n",
      "None\n",
      "karangondalia\n",
      "karan.gondalia@gmail.com\n"
     ]
    }
   ],
   "source": [
    "for name,email in x.items():\n",
    "    print(name)\n",
    "    print(email)"
   ]
  },
  {
   "cell_type": "code",
   "execution_count": 32,
   "metadata": {},
   "outputs": [],
   "source": [
    "#DATA FILES AND SUMMARY STATISTICS"
   ]
  },
  {
   "cell_type": "code",
   "execution_count": 33,
   "metadata": {},
   "outputs": [
    {
     "data": {
      "text/plain": [
       "u'%.2f'"
      ]
     },
     "execution_count": 33,
     "metadata": {},
     "output_type": "execute_result"
    }
   ],
   "source": [
    "import csv\n",
    "\n",
    "%precision 2\n",
    "\n"
   ]
  },
  {
   "cell_type": "code",
   "execution_count": 34,
   "metadata": {},
   "outputs": [
    {
     "data": {
      "text/plain": [
       "5"
      ]
     },
     "execution_count": 34,
     "metadata": {},
     "output_type": "execute_result"
    }
   ],
   "source": [
    "\n",
    "\n",
    "\n",
    "\n",
    "\n",
    "i"
   ]
  },
  {
   "cell_type": "code",
   "execution_count": 35,
   "metadata": {},
   "outputs": [],
   "source": [
    "import datetime as dt\n",
    "import time as tm"
   ]
  },
  {
   "cell_type": "code",
   "execution_count": 36,
   "metadata": {},
   "outputs": [
    {
     "data": {
      "text/plain": [
       "1527352372.52"
      ]
     },
     "execution_count": 36,
     "metadata": {},
     "output_type": "execute_result"
    }
   ],
   "source": [
    "tm.time()"
   ]
  },
  {
   "cell_type": "code",
   "execution_count": 37,
   "metadata": {},
   "outputs": [
    {
     "data": {
      "text/plain": [
       "datetime.datetime(2018, 5, 26, 22, 4, 17, 489790)"
      ]
     },
     "execution_count": 37,
     "metadata": {},
     "output_type": "execute_result"
    }
   ],
   "source": [
    "dtnow = dt.datetime.fromtimestamp(tm.time())\n",
    "dtnow"
   ]
  },
  {
   "cell_type": "code",
   "execution_count": 38,
   "metadata": {},
   "outputs": [
    {
     "name": "stdout",
     "output_type": "stream",
     "text": [
      "True\n",
      "True\n",
      "True\n",
      "True\n"
     ]
    },
    {
     "data": {
      "text/plain": [
       "True"
      ]
     },
     "execution_count": 38,
     "metadata": {},
     "output_type": "execute_result"
    }
   ],
   "source": [
    "people = ['Dr. Christopher Brooks', 'Dr. Kevyn Collins-Thompson', 'Dr. VG Vinod Vydiswaran', 'Dr. Daniel Romero']\n",
    "\n",
    "def split_title_and_name(person):\n",
    "    return person.split()[0] + ' ' + person.split()[-1]\n",
    "\n",
    "#option 1\n",
    "for person in people:\n",
    "    print(split_title_and_name(person) == (lambda x: x.split()[0] + ' ' + x.split()[-1])(person))\n",
    "\n",
    "#option 2\n",
    "list(map(split_title_and_name, people)) == list(map(lambda person: person.split()[0] + ' ' + person.split()[-1], people))"
   ]
  },
  {
   "cell_type": "code",
   "execution_count": 39,
   "metadata": {},
   "outputs": [
    {
     "data": {
      "text/plain": [
       "True"
      ]
     },
     "execution_count": 39,
     "metadata": {},
     "output_type": "execute_result"
    }
   ],
   "source": [
    "def times_tables():\n",
    "    lst = []\n",
    "    for i in range(10):\n",
    "        for j in range (10):\n",
    "            lst.append(i*j)\n",
    "    return lst\n",
    "\n",
    "times_tables() == [j*i for i in range(10) for j in range (10)]"
   ]
  },
  {
   "cell_type": "code",
   "execution_count": 40,
   "metadata": {},
   "outputs": [
    {
     "ename": "NameError",
     "evalue": "name 'correct_answer' is not defined",
     "output_type": "error",
     "traceback": [
      "\u001b[0;31m---------------------------------------------------------------------------\u001b[0m",
      "\u001b[0;31mNameError\u001b[0m                                 Traceback (most recent call last)",
      "\u001b[0;32m<ipython-input-40-4a6b07041f08>\u001b[0m in \u001b[0;36m<module>\u001b[0;34m()\u001b[0m\n\u001b[1;32m      3\u001b[0m \u001b[0;34m\u001b[0m\u001b[0m\n\u001b[1;32m      4\u001b[0m \u001b[0manswer\u001b[0m \u001b[0;34m=\u001b[0m \u001b[0;34m[\u001b[0m\u001b[0;34m]\u001b[0m\u001b[0;34m\u001b[0m\u001b[0m\n\u001b[0;32m----> 5\u001b[0;31m \u001b[0mcorrect_answer\u001b[0m \u001b[0;34m==\u001b[0m \u001b[0manswer\u001b[0m\u001b[0;34m\u001b[0m\u001b[0m\n\u001b[0m",
      "\u001b[0;31mNameError\u001b[0m: name 'correct_answer' is not defined"
     ]
    }
   ],
   "source": [
    "lowercase = 'abcdefghijklmnopqrstuvwxyz'\n",
    "digits = '0123456789'\n",
    "\n",
    "answer = []\n",
    "correct_answer == answer"
   ]
  },
  {
   "cell_type": "code",
   "execution_count": null,
   "metadata": {},
   "outputs": [],
   "source": [
    "\n",
    "\n"
   ]
  },
  {
   "cell_type": "code",
   "execution_count": 41,
   "metadata": {},
   "outputs": [
    {
     "data": {
      "text/plain": [
       "['aa00',\n",
       " 'aa01',\n",
       " 'aa02',\n",
       " 'aa03',\n",
       " 'aa04',\n",
       " 'aa05',\n",
       " 'aa06',\n",
       " 'aa07',\n",
       " 'aa08',\n",
       " 'aa09',\n",
       " 'aa10',\n",
       " 'aa11',\n",
       " 'aa12',\n",
       " 'aa13',\n",
       " 'aa14',\n",
       " 'aa15',\n",
       " 'aa16',\n",
       " 'aa17',\n",
       " 'aa18',\n",
       " 'aa19',\n",
       " 'aa20',\n",
       " 'aa21',\n",
       " 'aa22',\n",
       " 'aa23',\n",
       " 'aa24',\n",
       " 'aa25',\n",
       " 'aa26',\n",
       " 'aa27',\n",
       " 'aa28',\n",
       " 'aa29',\n",
       " 'aa30',\n",
       " 'aa31',\n",
       " 'aa32',\n",
       " 'aa33',\n",
       " 'aa34',\n",
       " 'aa35',\n",
       " 'aa36',\n",
       " 'aa37',\n",
       " 'aa38',\n",
       " 'aa39',\n",
       " 'aa40',\n",
       " 'aa41',\n",
       " 'aa42',\n",
       " 'aa43',\n",
       " 'aa44',\n",
       " 'aa45',\n",
       " 'aa46',\n",
       " 'aa47',\n",
       " 'aa48',\n",
       " 'aa49']"
      ]
     },
     "execution_count": 41,
     "metadata": {},
     "output_type": "execute_result"
    }
   ],
   "source": [
    "lowercase = 'abcdefghijklmnopqrstuvwxyz'\n",
    "digits = '0123456789'\n",
    "\n",
    "correct_answer = [a+b+c+d for a in lowercase for b in lowercase for c in digits for d in digits]\n",
    "\n",
    "correct_answer[:50] # Display first 50 ids\n"
   ]
  },
  {
   "cell_type": "code",
   "execution_count": 42,
   "metadata": {},
   "outputs": [],
   "source": [
    "#NUMPY"
   ]
  },
  {
   "cell_type": "code",
   "execution_count": 46,
   "metadata": {},
   "outputs": [],
   "source": [
    "import numpy as np"
   ]
  },
  {
   "cell_type": "code",
   "execution_count": 47,
   "metadata": {},
   "outputs": [],
   "source": [
    "m = np.array([[7,8,9],[12,13,15]])"
   ]
  },
  {
   "cell_type": "code",
   "execution_count": 48,
   "metadata": {},
   "outputs": [
    {
     "data": {
      "text/plain": [
       "array([[ 7,  8,  9],\n",
       "       [12, 13, 15]])"
      ]
     },
     "execution_count": 48,
     "metadata": {},
     "output_type": "execute_result"
    }
   ],
   "source": [
    "m"
   ]
  },
  {
   "cell_type": "code",
   "execution_count": 49,
   "metadata": {},
   "outputs": [
    {
     "data": {
      "text/plain": [
       "(2, 3)"
      ]
     },
     "execution_count": 49,
     "metadata": {},
     "output_type": "execute_result"
    }
   ],
   "source": [
    "m.shape\n"
   ]
  },
  {
   "cell_type": "code",
   "execution_count": 50,
   "metadata": {},
   "outputs": [],
   "source": [
    "n = np.arange(0,30,2)"
   ]
  },
  {
   "cell_type": "code",
   "execution_count": 51,
   "metadata": {},
   "outputs": [
    {
     "data": {
      "text/plain": [
       "array([ 0,  2,  4,  6,  8, 10, 12, 14, 16, 18, 20, 22, 24, 26, 28])"
      ]
     },
     "execution_count": 51,
     "metadata": {},
     "output_type": "execute_result"
    }
   ],
   "source": [
    "n"
   ]
  },
  {
   "cell_type": "code",
   "execution_count": null,
   "metadata": {},
   "outputs": [],
   "source": [
    "\n",
    "\n",
    "\n",
    "\n",
    "\n",
    "\n",
    "\n"
   ]
  },
  {
   "cell_type": "code",
   "execution_count": 53,
   "metadata": {},
   "outputs": [],
   "source": [
    "n = n.reshape(3,5)"
   ]
  },
  {
   "cell_type": "markdown",
   "metadata": {},
   "source": [
    "n"
   ]
  },
  {
   "cell_type": "code",
   "execution_count": 54,
   "metadata": {},
   "outputs": [
    {
     "data": {
      "text/plain": [
       "array([[ 0,  2,  4,  6,  8],\n",
       "       [10, 12, 14, 16, 18],\n",
       "       [20, 22, 24, 26, 28]])"
      ]
     },
     "execution_count": 54,
     "metadata": {},
     "output_type": "execute_result"
    }
   ],
   "source": [
    "n"
   ]
  },
  {
   "cell_type": "code",
   "execution_count": null,
   "metadata": {},
   "outputs": [],
   "source": []
  },
  {
   "cell_type": "code",
   "execution_count": 55,
   "metadata": {},
   "outputs": [
    {
     "name": "stdout",
     "output_type": "stream",
     "text": [
      "[[0 0 1]\n",
      " [1 1 1]]\n"
     ]
    }
   ],
   "source": [
    "old = np.array([[1, 1, 1],\n",
    "                [1, 1, 1]])\n",
    "\n",
    "new = old\n",
    "new[0, :2] = 0\n",
    "\n",
    "print(old)"
   ]
  },
  {
   "cell_type": "code",
   "execution_count": 56,
   "metadata": {},
   "outputs": [
    {
     "name": "stdout",
     "output_type": "stream",
     "text": [
      "[[1 1 1]\n",
      " [1 1 1]]\n"
     ]
    }
   ],
   "source": [
    "old = np.array([[1, 1, 1],\n",
    "                [1, 1, 1]])\n",
    "\n",
    "new = old.copy()\n",
    "new[:, 0] = 0\n",
    "\n",
    "print(old)"
   ]
  },
  {
   "cell_type": "code",
   "execution_count": 57,
   "metadata": {},
   "outputs": [
    {
     "data": {
      "text/plain": [
       "function"
      ]
     },
     "execution_count": 57,
     "metadata": {},
     "output_type": "execute_result"
    }
   ],
   "source": [
    "type(lambda x: x+1)"
   ]
  },
  {
   "cell_type": "code",
   "execution_count": 2,
   "metadata": {},
   "outputs": [],
   "source": [
    "import pandas as pd\n",
    "pd.Series?"
   ]
  },
  {
   "cell_type": "code",
   "execution_count": 3,
   "metadata": {},
   "outputs": [
    {
     "data": {
      "text/plain": [
       "0    Tiger\n",
       "1     Bear\n",
       "2    Moose\n",
       "dtype: object"
      ]
     },
     "execution_count": 3,
     "metadata": {},
     "output_type": "execute_result"
    }
   ],
   "source": [
    "animals = ['Tiger', 'Bear', 'Moose']\n",
    "pd.Series(animals)"
   ]
  },
  {
   "cell_type": "code",
   "execution_count": 4,
   "metadata": {},
   "outputs": [
    {
     "data": {
      "text/plain": [
       "0    1\n",
       "1    2\n",
       "2    3\n",
       "dtype: int64"
      ]
     },
     "execution_count": 4,
     "metadata": {},
     "output_type": "execute_result"
    }
   ],
   "source": [
    "numbers = [1, 2, 3]\n",
    "pd.Series(numbers)"
   ]
  },
  {
   "cell_type": "code",
   "execution_count": null,
   "metadata": {},
   "outputs": [],
   "source": []
  },
  {
   "cell_type": "code",
   "execution_count": 5,
   "metadata": {},
   "outputs": [
    {
     "data": {
      "text/plain": [
       "0    Tiger\n",
       "1     Bear\n",
       "2     None\n",
       "dtype: object"
      ]
     },
     "execution_count": 5,
     "metadata": {},
     "output_type": "execute_result"
    }
   ],
   "source": [
    "animals = ['Tiger', 'Bear', None]\n",
    "pd.Series(animals)"
   ]
  },
  {
   "cell_type": "code",
   "execution_count": null,
   "metadata": {},
   "outputs": [],
   "source": []
  },
  {
   "cell_type": "code",
   "execution_count": 6,
   "metadata": {},
   "outputs": [
    {
     "data": {
      "text/plain": [
       "0    1.0\n",
       "1    2.0\n",
       "2    NaN\n",
       "dtype: float64"
      ]
     },
     "execution_count": 6,
     "metadata": {},
     "output_type": "execute_result"
    }
   ],
   "source": [
    "numbers = [1, 2, None]\n",
    "pd.Series(numbers)"
   ]
  },
  {
   "cell_type": "code",
   "execution_count": 7,
   "metadata": {},
   "outputs": [
    {
     "data": {
      "text/plain": [
       "False"
      ]
     },
     "execution_count": 7,
     "metadata": {},
     "output_type": "execute_result"
    }
   ],
   "source": [
    "import numpy as np\n",
    "np.nan == None"
   ]
  },
  {
   "cell_type": "code",
   "execution_count": 8,
   "metadata": {},
   "outputs": [
    {
     "data": {
      "text/plain": [
       "False"
      ]
     },
     "execution_count": 8,
     "metadata": {},
     "output_type": "execute_result"
    }
   ],
   "source": [
    "np.nan == np.nan"
   ]
  },
  {
   "cell_type": "code",
   "execution_count": 9,
   "metadata": {},
   "outputs": [
    {
     "data": {
      "text/plain": [
       "True"
      ]
     },
     "execution_count": 9,
     "metadata": {},
     "output_type": "execute_result"
    }
   ],
   "source": [
    "np.isnan(np.nan)"
   ]
  },
  {
   "cell_type": "code",
   "execution_count": 10,
   "metadata": {},
   "outputs": [
    {
     "data": {
      "text/plain": [
       "Archery           Bhutan\n",
       "Golf            Scotland\n",
       "Sumo               Japan\n",
       "Taekwondo    South Korea\n",
       "dtype: object"
      ]
     },
     "execution_count": 10,
     "metadata": {},
     "output_type": "execute_result"
    }
   ],
   "source": [
    "sports = {'Archery': 'Bhutan',\n",
    "          'Golf': 'Scotland',\n",
    "          'Sumo': 'Japan',\n",
    "          'Taekwondo': 'South Korea'}\n",
    "s = pd.Series(sports)\n",
    "s\n"
   ]
  },
  {
   "cell_type": "code",
   "execution_count": 11,
   "metadata": {},
   "outputs": [
    {
     "data": {
      "text/plain": [
       "Index([u'Archery', u'Golf', u'Sumo', u'Taekwondo'], dtype='object')"
      ]
     },
     "execution_count": 11,
     "metadata": {},
     "output_type": "execute_result"
    }
   ],
   "source": [
    "s.index"
   ]
  },
  {
   "cell_type": "code",
   "execution_count": 12,
   "metadata": {},
   "outputs": [
    {
     "data": {
      "text/plain": [
       "India      Tiger\n",
       "America     Bear\n",
       "Canada     Moose\n",
       "dtype: object"
      ]
     },
     "execution_count": 12,
     "metadata": {},
     "output_type": "execute_result"
    }
   ],
   "source": [
    "s = pd.Series(['Tiger', 'Bear', 'Moose'], index=['India', 'America', 'Canada'])\n",
    "s"
   ]
  },
  {
   "cell_type": "code",
   "execution_count": 2,
   "metadata": {},
   "outputs": [
    {
     "ename": "NameError",
     "evalue": "name 'pd' is not defined",
     "output_type": "error",
     "traceback": [
      "\u001b[0;31m---------------------------------------------------------------------------\u001b[0m",
      "\u001b[0;31mNameError\u001b[0m                                 Traceback (most recent call last)",
      "\u001b[0;32m<ipython-input-2-27685dca5773>\u001b[0m in \u001b[0;36m<module>\u001b[0;34m()\u001b[0m\n\u001b[1;32m      3\u001b[0m           \u001b[0;34m'Sumo'\u001b[0m\u001b[0;34m:\u001b[0m \u001b[0;34m'Japan'\u001b[0m\u001b[0;34m,\u001b[0m\u001b[0;34m\u001b[0m\u001b[0m\n\u001b[1;32m      4\u001b[0m           'Taekwondo': 'South Korea'}\n\u001b[0;32m----> 5\u001b[0;31m \u001b[0ms\u001b[0m \u001b[0;34m=\u001b[0m \u001b[0mpd\u001b[0m\u001b[0;34m.\u001b[0m\u001b[0mSeries\u001b[0m\u001b[0;34m(\u001b[0m\u001b[0msports\u001b[0m\u001b[0;34m,\u001b[0m \u001b[0mindex\u001b[0m\u001b[0;34m=\u001b[0m\u001b[0;34m[\u001b[0m\u001b[0;34m'Golf'\u001b[0m\u001b[0;34m,\u001b[0m \u001b[0;34m'Sumo'\u001b[0m\u001b[0;34m,\u001b[0m \u001b[0;34m'Hockey'\u001b[0m\u001b[0;34m]\u001b[0m\u001b[0;34m)\u001b[0m\u001b[0;34m\u001b[0m\u001b[0m\n\u001b[0m\u001b[1;32m      6\u001b[0m \u001b[0ms\u001b[0m\u001b[0;34m\u001b[0m\u001b[0m\n",
      "\u001b[0;31mNameError\u001b[0m: name 'pd' is not defined"
     ]
    }
   ],
   "source": [
    "sports = {'Archery': 'Bhutan',\n",
    "          'Golf': 'Scotland',\n",
    "          'Sumo': 'Japan',\n",
    "          'Taekwondo': 'South Korea'}\n",
    "s = pd.Series(sports, index=['Golf', 'Sumo', 'Hockey'])\n",
    "s"
   ]
  },
  {
   "cell_type": "code",
   "execution_count": 4,
   "metadata": {},
   "outputs": [
    {
     "data": {
      "text/plain": [
       "Archery           Bhutan\n",
       "Golf            Scotland\n",
       "Sumo               Japan\n",
       "Taekwondo    South Korea\n",
       "dtype: object"
      ]
     },
     "execution_count": 4,
     "metadata": {},
     "output_type": "execute_result"
    }
   ],
   "source": [
    "sports = {'Archery': 'Bhutan',\n",
    "          'Golf': 'Scotland',\n",
    "          'Sumo': 'Japan',\n",
    "          'Taekwondo': 'South Korea'}\n",
    "s = pd.Series(sports)\n",
    "s"
   ]
  },
  {
   "cell_type": "code",
   "execution_count": 3,
   "metadata": {},
   "outputs": [],
   "source": [
    "import pandas as pd"
   ]
  },
  {
   "cell_type": "code",
   "execution_count": 5,
   "metadata": {},
   "outputs": [
    {
     "data": {
      "text/plain": [
       "'South Korea'"
      ]
     },
     "execution_count": 5,
     "metadata": {},
     "output_type": "execute_result"
    }
   ],
   "source": [
    "s.iloc[3]"
   ]
  },
  {
   "cell_type": "code",
   "execution_count": null,
   "metadata": {},
   "outputs": [],
   "source": []
  },
  {
   "cell_type": "code",
   "execution_count": 1,
   "metadata": {},
   "outputs": [],
   "source": [
    "import pandas as pd"
   ]
  },
  {
   "cell_type": "code",
   "execution_count": 2,
   "metadata": {},
   "outputs": [
    {
     "data": {
      "text/plain": [
       "Archery           Bhutan\n",
       "Golf            Scotland\n",
       "Sumo               Japan\n",
       "Taekwondo    South Korea\n",
       "dtype: object"
      ]
     },
     "execution_count": 2,
     "metadata": {},
     "output_type": "execute_result"
    }
   ],
   "source": [
    "sports = {'Archery': 'Bhutan',\n",
    "          'Golf': 'Scotland',\n",
    "          'Sumo': 'Japan',\n",
    "          'Taekwondo': 'South Korea'}\n",
    "s = pd.Series(sports)\n",
    "s"
   ]
  },
  {
   "cell_type": "code",
   "execution_count": 3,
   "metadata": {},
   "outputs": [
    {
     "data": {
      "text/plain": [
       "'South Korea'"
      ]
     },
     "execution_count": 3,
     "metadata": {},
     "output_type": "execute_result"
    }
   ],
   "source": [
    "s.iloc[3]"
   ]
  },
  {
   "cell_type": "code",
   "execution_count": 4,
   "metadata": {},
   "outputs": [
    {
     "data": {
      "text/plain": [
       "'South Korea'"
      ]
     },
     "execution_count": 4,
     "metadata": {},
     "output_type": "execute_result"
    }
   ],
   "source": [
    "s.loc['Taekwondo']"
   ]
  },
  {
   "cell_type": "code",
   "execution_count": 6,
   "metadata": {},
   "outputs": [
    {
     "data": {
      "text/plain": [
       "'Japan'"
      ]
     },
     "execution_count": 6,
     "metadata": {},
     "output_type": "execute_result"
    }
   ],
   "source": [
    "s.iloc[2]"
   ]
  },
  {
   "cell_type": "code",
   "execution_count": 7,
   "metadata": {},
   "outputs": [
    {
     "data": {
      "text/plain": [
       "'Japan'"
      ]
     },
     "execution_count": 7,
     "metadata": {},
     "output_type": "execute_result"
    }
   ],
   "source": [
    "s[2]"
   ]
  },
  {
   "cell_type": "code",
   "execution_count": 8,
   "metadata": {},
   "outputs": [
    {
     "data": {
      "text/plain": [
       "'Scotland'"
      ]
     },
     "execution_count": 8,
     "metadata": {},
     "output_type": "execute_result"
    }
   ],
   "source": [
    "s['Golf']"
   ]
  },
  {
   "cell_type": "code",
   "execution_count": 9,
   "metadata": {},
   "outputs": [
    {
     "data": {
      "text/plain": [
       "0    100.0\n",
       "1    120.0\n",
       "2    101.0\n",
       "3      3.0\n",
       "dtype: float64"
      ]
     },
     "execution_count": 9,
     "metadata": {},
     "output_type": "execute_result"
    }
   ],
   "source": [
    "s = pd.Series([100.00,120.00,101.00,3.00])\n",
    "s"
   ]
  },
  {
   "cell_type": "code",
   "execution_count": 10,
   "metadata": {},
   "outputs": [
    {
     "name": "stdout",
     "output_type": "stream",
     "text": [
      "324.0\n"
     ]
    }
   ],
   "source": [
    "total = 0\n",
    "for item in s:\n",
    "    total += item\n",
    "print(total)    "
   ]
  },
  {
   "cell_type": "code",
   "execution_count": 11,
   "metadata": {},
   "outputs": [],
   "source": [
    "import numpy as np\n"
   ]
  },
  {
   "cell_type": "code",
   "execution_count": 12,
   "metadata": {},
   "outputs": [],
   "source": [
    "total = np.sum(s)"
   ]
  },
  {
   "cell_type": "code",
   "execution_count": 13,
   "metadata": {},
   "outputs": [
    {
     "name": "stdout",
     "output_type": "stream",
     "text": [
      "324.0\n"
     ]
    }
   ],
   "source": [
    "print(total)"
   ]
  },
  {
   "cell_type": "code",
   "execution_count": 14,
   "metadata": {},
   "outputs": [],
   "source": [
    "s = pd.Series(np.random.randint(0,1000,100000))"
   ]
  },
  {
   "cell_type": "code",
   "execution_count": 17,
   "metadata": {},
   "outputs": [
    {
     "data": {
      "text/plain": [
       "0    954\n",
       "1    459\n",
       "2    329\n",
       "3    258\n",
       "4    824\n",
       "dtype: int64"
      ]
     },
     "execution_count": 17,
     "metadata": {},
     "output_type": "execute_result"
    }
   ],
   "source": [
    "s.head()"
   ]
  },
  {
   "cell_type": "code",
   "execution_count": 18,
   "metadata": {},
   "outputs": [
    {
     "data": {
      "text/plain": [
       "0    954\n",
       "1    459\n",
       "2    329\n",
       "3    258\n",
       "4    824\n",
       "dtype: int64"
      ]
     },
     "execution_count": 18,
     "metadata": {},
     "output_type": "execute_result"
    }
   ],
   "source": [
    "s.head()"
   ]
  },
  {
   "cell_type": "code",
   "execution_count": 19,
   "metadata": {},
   "outputs": [
    {
     "data": {
      "text/plain": [
       "100000"
      ]
     },
     "execution_count": 19,
     "metadata": {},
     "output_type": "execute_result"
    }
   ],
   "source": [
    "len(s)"
   ]
  },
  {
   "cell_type": "code",
   "execution_count": 23,
   "metadata": {},
   "outputs": [
    {
     "name": "stdout",
     "output_type": "stream",
     "text": [
      "1000 loops, best of 3: 5.78 ms per loop\n"
     ]
    }
   ],
   "source": [
    "%%timeit -n 1000\n",
    "summary = 0\n",
    "for item in s:\n",
    "    summary += item"
   ]
  },
  {
   "cell_type": "code",
   "execution_count": 21,
   "metadata": {},
   "outputs": [
    {
     "data": {
      "text/plain": [
       "0    954\n",
       "1    459\n",
       "2    329\n",
       "3    258\n",
       "4    824\n",
       "dtype: int64"
      ]
     },
     "execution_count": 21,
     "metadata": {},
     "output_type": "execute_result"
    }
   ],
   "source": [
    "s.head()"
   ]
  },
  {
   "cell_type": "code",
   "execution_count": 24,
   "metadata": {},
   "outputs": [
    {
     "name": "stdout",
     "output_type": "stream",
     "text": [
      "1000 loops, best of 3: 666 µs per loop\n"
     ]
    }
   ],
   "source": [
    "%%timeit -n 1000\n",
    "summary = np.sum(s)"
   ]
  },
  {
   "cell_type": "code",
   "execution_count": 26,
   "metadata": {},
   "outputs": [
    {
     "data": {
      "text/plain": [
       "0    954\n",
       "1    459\n",
       "2    329\n",
       "3    258\n",
       "4    824\n",
       "dtype: int64"
      ]
     },
     "execution_count": 26,
     "metadata": {},
     "output_type": "execute_result"
    }
   ],
   "source": [
    "s -= 2\n",
    "s.head()"
   ]
  },
  {
   "cell_type": "code",
   "execution_count": 27,
   "metadata": {},
   "outputs": [
    {
     "name": "stderr",
     "output_type": "stream",
     "text": [
      "/usr/local/lib/python2.7/dist-packages/ipykernel_launcher.py:2: FutureWarning: set_value is deprecated and will be removed in a future release. Please use .at[] or .iat[] accessors instead\n",
      "  \n"
     ]
    },
    {
     "data": {
      "text/plain": [
       "0    956\n",
       "1    461\n",
       "2    331\n",
       "3    260\n",
       "4    826\n",
       "dtype: int64"
      ]
     },
     "execution_count": 27,
     "metadata": {},
     "output_type": "execute_result"
    }
   ],
   "source": [
    "for label,values in s.iteritems():\n",
    "    s.set_value(label,values+2)\n",
    "s.head()    "
   ]
  },
  {
   "cell_type": "code",
   "execution_count": 29,
   "metadata": {},
   "outputs": [
    {
     "ename": "KeyboardInterrupt",
     "evalue": "",
     "output_type": "error",
     "traceback": [
      "\u001b[0;31m---------------------------------------------------------------------------\u001b[0m",
      "\u001b[0;31mKeyboardInterrupt\u001b[0m                         Traceback (most recent call last)",
      "\u001b[0;32m<ipython-input-29-d4e90c44974f>\u001b[0m in \u001b[0;36m<module>\u001b[0;34m()\u001b[0m\n\u001b[0;32m----> 1\u001b[0;31m \u001b[0mget_ipython\u001b[0m\u001b[0;34m(\u001b[0m\u001b[0;34m)\u001b[0m\u001b[0;34m.\u001b[0m\u001b[0mrun_cell_magic\u001b[0m\u001b[0;34m(\u001b[0m\u001b[0;34mu'timeit'\u001b[0m\u001b[0;34m,\u001b[0m \u001b[0;34mu'-n 10'\u001b[0m\u001b[0;34m,\u001b[0m \u001b[0;34mu's = pd.Series(np.random.randint(0,1000,10000))\\nfor label, value in s.iteritems():\\n    s.loc[label]= value+2'\u001b[0m\u001b[0;34m)\u001b[0m\u001b[0;34m\u001b[0m\u001b[0m\n\u001b[0m",
      "\u001b[0;32m/usr/local/lib/python2.7/dist-packages/IPython/core/interactiveshell.pyc\u001b[0m in \u001b[0;36mrun_cell_magic\u001b[0;34m(self, magic_name, line, cell)\u001b[0m\n\u001b[1;32m   2115\u001b[0m             \u001b[0mmagic_arg_s\u001b[0m \u001b[0;34m=\u001b[0m \u001b[0mself\u001b[0m\u001b[0;34m.\u001b[0m\u001b[0mvar_expand\u001b[0m\u001b[0;34m(\u001b[0m\u001b[0mline\u001b[0m\u001b[0;34m,\u001b[0m \u001b[0mstack_depth\u001b[0m\u001b[0;34m)\u001b[0m\u001b[0;34m\u001b[0m\u001b[0m\n\u001b[1;32m   2116\u001b[0m             \u001b[0;32mwith\u001b[0m \u001b[0mself\u001b[0m\u001b[0;34m.\u001b[0m\u001b[0mbuiltin_trap\u001b[0m\u001b[0;34m:\u001b[0m\u001b[0;34m\u001b[0m\u001b[0m\n\u001b[0;32m-> 2117\u001b[0;31m                 \u001b[0mresult\u001b[0m \u001b[0;34m=\u001b[0m \u001b[0mfn\u001b[0m\u001b[0;34m(\u001b[0m\u001b[0mmagic_arg_s\u001b[0m\u001b[0;34m,\u001b[0m \u001b[0mcell\u001b[0m\u001b[0;34m)\u001b[0m\u001b[0;34m\u001b[0m\u001b[0m\n\u001b[0m\u001b[1;32m   2118\u001b[0m             \u001b[0;32mreturn\u001b[0m \u001b[0mresult\u001b[0m\u001b[0;34m\u001b[0m\u001b[0m\n\u001b[1;32m   2119\u001b[0m \u001b[0;34m\u001b[0m\u001b[0m\n",
      "\u001b[0;32m<decorator-gen-59>\u001b[0m in \u001b[0;36mtimeit\u001b[0;34m(self, line, cell)\u001b[0m\n",
      "\u001b[0;32m/usr/local/lib/python2.7/dist-packages/IPython/core/magic.pyc\u001b[0m in \u001b[0;36m<lambda>\u001b[0;34m(f, *a, **k)\u001b[0m\n\u001b[1;32m    186\u001b[0m     \u001b[0;31m# but it's overkill for just that one bit of state.\u001b[0m\u001b[0;34m\u001b[0m\u001b[0;34m\u001b[0m\u001b[0m\n\u001b[1;32m    187\u001b[0m     \u001b[0;32mdef\u001b[0m \u001b[0mmagic_deco\u001b[0m\u001b[0;34m(\u001b[0m\u001b[0marg\u001b[0m\u001b[0;34m)\u001b[0m\u001b[0;34m:\u001b[0m\u001b[0;34m\u001b[0m\u001b[0m\n\u001b[0;32m--> 188\u001b[0;31m         \u001b[0mcall\u001b[0m \u001b[0;34m=\u001b[0m \u001b[0;32mlambda\u001b[0m \u001b[0mf\u001b[0m\u001b[0;34m,\u001b[0m \u001b[0;34m*\u001b[0m\u001b[0ma\u001b[0m\u001b[0;34m,\u001b[0m \u001b[0;34m**\u001b[0m\u001b[0mk\u001b[0m\u001b[0;34m:\u001b[0m \u001b[0mf\u001b[0m\u001b[0;34m(\u001b[0m\u001b[0;34m*\u001b[0m\u001b[0ma\u001b[0m\u001b[0;34m,\u001b[0m \u001b[0;34m**\u001b[0m\u001b[0mk\u001b[0m\u001b[0;34m)\u001b[0m\u001b[0;34m\u001b[0m\u001b[0m\n\u001b[0m\u001b[1;32m    189\u001b[0m \u001b[0;34m\u001b[0m\u001b[0m\n\u001b[1;32m    190\u001b[0m         \u001b[0;32mif\u001b[0m \u001b[0mcallable\u001b[0m\u001b[0;34m(\u001b[0m\u001b[0marg\u001b[0m\u001b[0;34m)\u001b[0m\u001b[0;34m:\u001b[0m\u001b[0;34m\u001b[0m\u001b[0m\n",
      "\u001b[0;32m/usr/local/lib/python2.7/dist-packages/IPython/core/magics/execution.pyc\u001b[0m in \u001b[0;36mtimeit\u001b[0;34m(self, line, cell)\u001b[0m\n\u001b[1;32m   1060\u001b[0m                     \u001b[0;32mbreak\u001b[0m\u001b[0;34m\u001b[0m\u001b[0m\n\u001b[1;32m   1061\u001b[0m                 \u001b[0mnumber\u001b[0m \u001b[0;34m*=\u001b[0m \u001b[0;36m10\u001b[0m\u001b[0;34m\u001b[0m\u001b[0m\n\u001b[0;32m-> 1062\u001b[0;31m         \u001b[0mall_runs\u001b[0m \u001b[0;34m=\u001b[0m \u001b[0mtimer\u001b[0m\u001b[0;34m.\u001b[0m\u001b[0mrepeat\u001b[0m\u001b[0;34m(\u001b[0m\u001b[0mrepeat\u001b[0m\u001b[0;34m,\u001b[0m \u001b[0mnumber\u001b[0m\u001b[0;34m)\u001b[0m\u001b[0;34m\u001b[0m\u001b[0m\n\u001b[0m\u001b[1;32m   1063\u001b[0m         \u001b[0mbest\u001b[0m \u001b[0;34m=\u001b[0m \u001b[0mmin\u001b[0m\u001b[0;34m(\u001b[0m\u001b[0mall_runs\u001b[0m\u001b[0;34m)\u001b[0m \u001b[0;34m/\u001b[0m \u001b[0mnumber\u001b[0m\u001b[0;34m\u001b[0m\u001b[0m\n\u001b[1;32m   1064\u001b[0m \u001b[0;34m\u001b[0m\u001b[0m\n",
      "\u001b[0;32m/usr/lib/python2.7/timeit.pyc\u001b[0m in \u001b[0;36mrepeat\u001b[0;34m(self, repeat, number)\u001b[0m\n\u001b[1;32m    228\u001b[0m         \u001b[0mr\u001b[0m \u001b[0;34m=\u001b[0m \u001b[0;34m[\u001b[0m\u001b[0;34m]\u001b[0m\u001b[0;34m\u001b[0m\u001b[0m\n\u001b[1;32m    229\u001b[0m         \u001b[0;32mfor\u001b[0m \u001b[0mi\u001b[0m \u001b[0;32min\u001b[0m \u001b[0mrange\u001b[0m\u001b[0;34m(\u001b[0m\u001b[0mrepeat\u001b[0m\u001b[0;34m)\u001b[0m\u001b[0;34m:\u001b[0m\u001b[0;34m\u001b[0m\u001b[0m\n\u001b[0;32m--> 230\u001b[0;31m             \u001b[0mt\u001b[0m \u001b[0;34m=\u001b[0m \u001b[0mself\u001b[0m\u001b[0;34m.\u001b[0m\u001b[0mtimeit\u001b[0m\u001b[0;34m(\u001b[0m\u001b[0mnumber\u001b[0m\u001b[0;34m)\u001b[0m\u001b[0;34m\u001b[0m\u001b[0m\n\u001b[0m\u001b[1;32m    231\u001b[0m             \u001b[0mr\u001b[0m\u001b[0;34m.\u001b[0m\u001b[0mappend\u001b[0m\u001b[0;34m(\u001b[0m\u001b[0mt\u001b[0m\u001b[0;34m)\u001b[0m\u001b[0;34m\u001b[0m\u001b[0m\n\u001b[1;32m    232\u001b[0m         \u001b[0;32mreturn\u001b[0m \u001b[0mr\u001b[0m\u001b[0;34m\u001b[0m\u001b[0m\n",
      "\u001b[0;32m/usr/local/lib/python2.7/dist-packages/IPython/core/magics/execution.pyc\u001b[0m in \u001b[0;36mtimeit\u001b[0;34m(self, number)\u001b[0m\n\u001b[1;32m    137\u001b[0m         \u001b[0mgc\u001b[0m\u001b[0;34m.\u001b[0m\u001b[0mdisable\u001b[0m\u001b[0;34m(\u001b[0m\u001b[0;34m)\u001b[0m\u001b[0;34m\u001b[0m\u001b[0m\n\u001b[1;32m    138\u001b[0m         \u001b[0;32mtry\u001b[0m\u001b[0;34m:\u001b[0m\u001b[0;34m\u001b[0m\u001b[0m\n\u001b[0;32m--> 139\u001b[0;31m             \u001b[0mtiming\u001b[0m \u001b[0;34m=\u001b[0m \u001b[0mself\u001b[0m\u001b[0;34m.\u001b[0m\u001b[0minner\u001b[0m\u001b[0;34m(\u001b[0m\u001b[0mit\u001b[0m\u001b[0;34m,\u001b[0m \u001b[0mself\u001b[0m\u001b[0;34m.\u001b[0m\u001b[0mtimer\u001b[0m\u001b[0;34m)\u001b[0m\u001b[0;34m\u001b[0m\u001b[0m\n\u001b[0m\u001b[1;32m    140\u001b[0m         \u001b[0;32mfinally\u001b[0m\u001b[0;34m:\u001b[0m\u001b[0;34m\u001b[0m\u001b[0m\n\u001b[1;32m    141\u001b[0m             \u001b[0;32mif\u001b[0m \u001b[0mgcold\u001b[0m\u001b[0;34m:\u001b[0m\u001b[0;34m\u001b[0m\u001b[0m\n",
      "\u001b[0;32m<magic-timeit>\u001b[0m in \u001b[0;36minner\u001b[0;34m(_it, _timer)\u001b[0m\n",
      "\u001b[0;32m/usr/local/lib/python2.7/dist-packages/pandas/core/indexing.pyc\u001b[0m in \u001b[0;36m__setitem__\u001b[0;34m(self, key, value)\u001b[0m\n\u001b[1;32m    187\u001b[0m             \u001b[0mkey\u001b[0m \u001b[0;34m=\u001b[0m \u001b[0mcom\u001b[0m\u001b[0;34m.\u001b[0m\u001b[0m_apply_if_callable\u001b[0m\u001b[0;34m(\u001b[0m\u001b[0mkey\u001b[0m\u001b[0;34m,\u001b[0m \u001b[0mself\u001b[0m\u001b[0;34m.\u001b[0m\u001b[0mobj\u001b[0m\u001b[0;34m)\u001b[0m\u001b[0;34m\u001b[0m\u001b[0m\n\u001b[1;32m    188\u001b[0m         \u001b[0mindexer\u001b[0m \u001b[0;34m=\u001b[0m \u001b[0mself\u001b[0m\u001b[0;34m.\u001b[0m\u001b[0m_get_setitem_indexer\u001b[0m\u001b[0;34m(\u001b[0m\u001b[0mkey\u001b[0m\u001b[0;34m)\u001b[0m\u001b[0;34m\u001b[0m\u001b[0m\n\u001b[0;32m--> 189\u001b[0;31m         \u001b[0mself\u001b[0m\u001b[0;34m.\u001b[0m\u001b[0m_setitem_with_indexer\u001b[0m\u001b[0;34m(\u001b[0m\u001b[0mindexer\u001b[0m\u001b[0;34m,\u001b[0m \u001b[0mvalue\u001b[0m\u001b[0;34m)\u001b[0m\u001b[0;34m\u001b[0m\u001b[0m\n\u001b[0m\u001b[1;32m    190\u001b[0m \u001b[0;34m\u001b[0m\u001b[0m\n\u001b[1;32m    191\u001b[0m     \u001b[0;32mdef\u001b[0m \u001b[0m_validate_key\u001b[0m\u001b[0;34m(\u001b[0m\u001b[0mself\u001b[0m\u001b[0;34m,\u001b[0m \u001b[0mkey\u001b[0m\u001b[0;34m,\u001b[0m \u001b[0maxis\u001b[0m\u001b[0;34m)\u001b[0m\u001b[0;34m:\u001b[0m\u001b[0;34m\u001b[0m\u001b[0m\n",
      "\u001b[0;32m/usr/local/lib/python2.7/dist-packages/pandas/core/indexing.pyc\u001b[0m in \u001b[0;36m_setitem_with_indexer\u001b[0;34m(self, indexer, value)\u001b[0m\n\u001b[1;32m    649\u001b[0m             \u001b[0mself\u001b[0m\u001b[0;34m.\u001b[0m\u001b[0mobj\u001b[0m\u001b[0;34m.\u001b[0m\u001b[0m_consolidate_inplace\u001b[0m\u001b[0;34m(\u001b[0m\u001b[0;34m)\u001b[0m\u001b[0;34m\u001b[0m\u001b[0m\n\u001b[1;32m    650\u001b[0m             self.obj._data = self.obj._data.setitem(indexer=indexer,\n\u001b[0;32m--> 651\u001b[0;31m                                                     value=value)\n\u001b[0m\u001b[1;32m    652\u001b[0m             \u001b[0mself\u001b[0m\u001b[0;34m.\u001b[0m\u001b[0mobj\u001b[0m\u001b[0;34m.\u001b[0m\u001b[0m_maybe_update_cacher\u001b[0m\u001b[0;34m(\u001b[0m\u001b[0mclear\u001b[0m\u001b[0;34m=\u001b[0m\u001b[0mTrue\u001b[0m\u001b[0;34m)\u001b[0m\u001b[0;34m\u001b[0m\u001b[0m\n\u001b[1;32m    653\u001b[0m \u001b[0;34m\u001b[0m\u001b[0m\n",
      "\u001b[0;32m/usr/local/lib/python2.7/dist-packages/pandas/core/internals.pyc\u001b[0m in \u001b[0;36msetitem\u001b[0;34m(self, **kwargs)\u001b[0m\n\u001b[1;32m   3691\u001b[0m \u001b[0;34m\u001b[0m\u001b[0m\n\u001b[1;32m   3692\u001b[0m     \u001b[0;32mdef\u001b[0m \u001b[0msetitem\u001b[0m\u001b[0;34m(\u001b[0m\u001b[0mself\u001b[0m\u001b[0;34m,\u001b[0m \u001b[0;34m**\u001b[0m\u001b[0mkwargs\u001b[0m\u001b[0;34m)\u001b[0m\u001b[0;34m:\u001b[0m\u001b[0;34m\u001b[0m\u001b[0m\n\u001b[0;32m-> 3693\u001b[0;31m         \u001b[0;32mreturn\u001b[0m \u001b[0mself\u001b[0m\u001b[0;34m.\u001b[0m\u001b[0mapply\u001b[0m\u001b[0;34m(\u001b[0m\u001b[0;34m'setitem'\u001b[0m\u001b[0;34m,\u001b[0m \u001b[0;34m**\u001b[0m\u001b[0mkwargs\u001b[0m\u001b[0;34m)\u001b[0m\u001b[0;34m\u001b[0m\u001b[0m\n\u001b[0m\u001b[1;32m   3694\u001b[0m \u001b[0;34m\u001b[0m\u001b[0m\n\u001b[1;32m   3695\u001b[0m     \u001b[0;32mdef\u001b[0m \u001b[0mputmask\u001b[0m\u001b[0;34m(\u001b[0m\u001b[0mself\u001b[0m\u001b[0;34m,\u001b[0m \u001b[0;34m**\u001b[0m\u001b[0mkwargs\u001b[0m\u001b[0;34m)\u001b[0m\u001b[0;34m:\u001b[0m\u001b[0;34m\u001b[0m\u001b[0m\n",
      "\u001b[0;32m/usr/local/lib/python2.7/dist-packages/pandas/core/internals.pyc\u001b[0m in \u001b[0;36mapply\u001b[0;34m(self, f, axes, filter, do_integrity_check, consolidate, **kwargs)\u001b[0m\n\u001b[1;32m   3579\u001b[0m \u001b[0;34m\u001b[0m\u001b[0m\n\u001b[1;32m   3580\u001b[0m             \u001b[0mkwargs\u001b[0m\u001b[0;34m[\u001b[0m\u001b[0;34m'mgr'\u001b[0m\u001b[0;34m]\u001b[0m \u001b[0;34m=\u001b[0m \u001b[0mself\u001b[0m\u001b[0;34m\u001b[0m\u001b[0m\n\u001b[0;32m-> 3581\u001b[0;31m             \u001b[0mapplied\u001b[0m \u001b[0;34m=\u001b[0m \u001b[0mgetattr\u001b[0m\u001b[0;34m(\u001b[0m\u001b[0mb\u001b[0m\u001b[0;34m,\u001b[0m \u001b[0mf\u001b[0m\u001b[0;34m)\u001b[0m\u001b[0;34m(\u001b[0m\u001b[0;34m**\u001b[0m\u001b[0mkwargs\u001b[0m\u001b[0;34m)\u001b[0m\u001b[0;34m\u001b[0m\u001b[0m\n\u001b[0m\u001b[1;32m   3582\u001b[0m             \u001b[0mresult_blocks\u001b[0m \u001b[0;34m=\u001b[0m \u001b[0m_extend_blocks\u001b[0m\u001b[0;34m(\u001b[0m\u001b[0mapplied\u001b[0m\u001b[0;34m,\u001b[0m \u001b[0mresult_blocks\u001b[0m\u001b[0;34m)\u001b[0m\u001b[0;34m\u001b[0m\u001b[0m\n\u001b[1;32m   3583\u001b[0m \u001b[0;34m\u001b[0m\u001b[0m\n",
      "\u001b[0;32m/usr/local/lib/python2.7/dist-packages/pandas/core/internals.pyc\u001b[0m in \u001b[0;36msetitem\u001b[0;34m(self, indexer, value, mgr)\u001b[0m\n\u001b[1;32m    941\u001b[0m \u001b[0;34m\u001b[0m\u001b[0m\n\u001b[1;32m    942\u001b[0m         \u001b[0;31m# coerce and try to infer the dtypes of the result\u001b[0m\u001b[0;34m\u001b[0m\u001b[0;34m\u001b[0m\u001b[0m\n\u001b[0;32m--> 943\u001b[0;31m         \u001b[0mvalues\u001b[0m \u001b[0;34m=\u001b[0m \u001b[0mself\u001b[0m\u001b[0;34m.\u001b[0m\u001b[0m_try_coerce_and_cast_result\u001b[0m\u001b[0;34m(\u001b[0m\u001b[0mvalues\u001b[0m\u001b[0;34m,\u001b[0m \u001b[0mdtype\u001b[0m\u001b[0;34m)\u001b[0m\u001b[0;34m\u001b[0m\u001b[0m\n\u001b[0m\u001b[1;32m    944\u001b[0m         \u001b[0mblock\u001b[0m \u001b[0;34m=\u001b[0m \u001b[0mself\u001b[0m\u001b[0;34m.\u001b[0m\u001b[0mmake_block\u001b[0m\u001b[0;34m(\u001b[0m\u001b[0mtransf\u001b[0m\u001b[0;34m(\u001b[0m\u001b[0mvalues\u001b[0m\u001b[0;34m)\u001b[0m\u001b[0;34m)\u001b[0m\u001b[0;34m\u001b[0m\u001b[0m\n\u001b[1;32m    945\u001b[0m         \u001b[0;32mreturn\u001b[0m \u001b[0mblock\u001b[0m\u001b[0;34m\u001b[0m\u001b[0m\n",
      "\u001b[0;32m/usr/local/lib/python2.7/dist-packages/pandas/core/internals.pyc\u001b[0m in \u001b[0;36m_try_coerce_and_cast_result\u001b[0;34m(self, result, dtype)\u001b[0m\n\u001b[1;32m    750\u001b[0m     \u001b[0;32mdef\u001b[0m \u001b[0m_try_coerce_and_cast_result\u001b[0m\u001b[0;34m(\u001b[0m\u001b[0mself\u001b[0m\u001b[0;34m,\u001b[0m \u001b[0mresult\u001b[0m\u001b[0;34m,\u001b[0m \u001b[0mdtype\u001b[0m\u001b[0;34m=\u001b[0m\u001b[0mNone\u001b[0m\u001b[0;34m)\u001b[0m\u001b[0;34m:\u001b[0m\u001b[0;34m\u001b[0m\u001b[0m\n\u001b[1;32m    751\u001b[0m         \u001b[0mresult\u001b[0m \u001b[0;34m=\u001b[0m \u001b[0mself\u001b[0m\u001b[0;34m.\u001b[0m\u001b[0m_try_coerce_result\u001b[0m\u001b[0;34m(\u001b[0m\u001b[0mresult\u001b[0m\u001b[0;34m)\u001b[0m\u001b[0;34m\u001b[0m\u001b[0m\n\u001b[0;32m--> 752\u001b[0;31m         \u001b[0mresult\u001b[0m \u001b[0;34m=\u001b[0m \u001b[0mself\u001b[0m\u001b[0;34m.\u001b[0m\u001b[0m_try_cast_result\u001b[0m\u001b[0;34m(\u001b[0m\u001b[0mresult\u001b[0m\u001b[0;34m,\u001b[0m \u001b[0mdtype\u001b[0m\u001b[0;34m=\u001b[0m\u001b[0mdtype\u001b[0m\u001b[0;34m)\u001b[0m\u001b[0;34m\u001b[0m\u001b[0m\n\u001b[0m\u001b[1;32m    753\u001b[0m         \u001b[0;32mreturn\u001b[0m \u001b[0mresult\u001b[0m\u001b[0;34m\u001b[0m\u001b[0m\n\u001b[1;32m    754\u001b[0m \u001b[0;34m\u001b[0m\u001b[0m\n",
      "\u001b[0;32m/usr/local/lib/python2.7/dist-packages/pandas/core/internals.pyc\u001b[0m in \u001b[0;36m_try_cast_result\u001b[0;34m(self, result, dtype)\u001b[0m\n\u001b[1;32m    730\u001b[0m \u001b[0;34m\u001b[0m\u001b[0m\n\u001b[1;32m    731\u001b[0m         \u001b[0;31m# may need to change the dtype here\u001b[0m\u001b[0;34m\u001b[0m\u001b[0;34m\u001b[0m\u001b[0m\n\u001b[0;32m--> 732\u001b[0;31m         \u001b[0;32mreturn\u001b[0m \u001b[0mmaybe_downcast_to_dtype\u001b[0m\u001b[0;34m(\u001b[0m\u001b[0mresult\u001b[0m\u001b[0;34m,\u001b[0m \u001b[0mdtype\u001b[0m\u001b[0;34m)\u001b[0m\u001b[0;34m\u001b[0m\u001b[0m\n\u001b[0m\u001b[1;32m    733\u001b[0m \u001b[0;34m\u001b[0m\u001b[0m\n\u001b[1;32m    734\u001b[0m     \u001b[0;32mdef\u001b[0m \u001b[0m_try_coerce_args\u001b[0m\u001b[0;34m(\u001b[0m\u001b[0mself\u001b[0m\u001b[0;34m,\u001b[0m \u001b[0mvalues\u001b[0m\u001b[0;34m,\u001b[0m \u001b[0mother\u001b[0m\u001b[0;34m)\u001b[0m\u001b[0;34m:\u001b[0m\u001b[0;34m\u001b[0m\u001b[0m\n",
      "\u001b[0;32m/usr/local/lib/python2.7/dist-packages/pandas/core/dtypes/cast.pyc\u001b[0m in \u001b[0;36mmaybe_downcast_to_dtype\u001b[0;34m(result, dtype)\u001b[0m\n\u001b[1;32m     85\u001b[0m     \u001b[0;32mif\u001b[0m \u001b[0misinstance\u001b[0m\u001b[0;34m(\u001b[0m\u001b[0mdtype\u001b[0m\u001b[0;34m,\u001b[0m \u001b[0mstring_types\u001b[0m\u001b[0;34m)\u001b[0m\u001b[0;34m:\u001b[0m\u001b[0;34m\u001b[0m\u001b[0m\n\u001b[1;32m     86\u001b[0m         \u001b[0;32mif\u001b[0m \u001b[0mdtype\u001b[0m \u001b[0;34m==\u001b[0m \u001b[0;34m'infer'\u001b[0m\u001b[0;34m:\u001b[0m\u001b[0;34m\u001b[0m\u001b[0m\n\u001b[0;32m---> 87\u001b[0;31m             \u001b[0minferred_type\u001b[0m \u001b[0;34m=\u001b[0m \u001b[0mlib\u001b[0m\u001b[0;34m.\u001b[0m\u001b[0minfer_dtype\u001b[0m\u001b[0;34m(\u001b[0m\u001b[0m_ensure_object\u001b[0m\u001b[0;34m(\u001b[0m\u001b[0mresult\u001b[0m\u001b[0;34m.\u001b[0m\u001b[0mravel\u001b[0m\u001b[0;34m(\u001b[0m\u001b[0;34m)\u001b[0m\u001b[0;34m)\u001b[0m\u001b[0;34m)\u001b[0m\u001b[0;34m\u001b[0m\u001b[0m\n\u001b[0m\u001b[1;32m     88\u001b[0m             \u001b[0;32mif\u001b[0m \u001b[0minferred_type\u001b[0m \u001b[0;34m==\u001b[0m \u001b[0;34m'boolean'\u001b[0m\u001b[0;34m:\u001b[0m\u001b[0;34m\u001b[0m\u001b[0m\n\u001b[1;32m     89\u001b[0m                 \u001b[0mdtype\u001b[0m \u001b[0;34m=\u001b[0m \u001b[0;34m'bool'\u001b[0m\u001b[0;34m\u001b[0m\u001b[0m\n",
      "\u001b[0;31mKeyboardInterrupt\u001b[0m: "
     ]
    }
   ],
   "source": [
    "%%timeit -n 10\n",
    "s = pd.Series(np.random.randint(0,1000,10000))\n",
    "for label, value in s.iteritems():\n",
    "    s.loc[label]= value+2"
   ]
  },
  {
   "cell_type": "code",
   "execution_count": null,
   "metadata": {},
   "outputs": [],
   "source": [
    "%%timeit -n 10\n",
    "s = pd.Series(np.random.randint(0,1000,100000))\n",
    "s += 2"
   ]
  },
  {
   "cell_type": "code",
   "execution_count": 30,
   "metadata": {},
   "outputs": [
    {
     "data": {
      "text/plain": [
       "0             1\n",
       "1             2\n",
       "2             3\n",
       "Animal    Bears\n",
       "dtype: object"
      ]
     },
     "execution_count": 30,
     "metadata": {},
     "output_type": "execute_result"
    }
   ],
   "source": [
    "s = pd.Series([1, 2, 3])\n",
    "s.loc['Animal'] = 'Bears'\n",
    "s"
   ]
  },
  {
   "cell_type": "code",
   "execution_count": 31,
   "metadata": {},
   "outputs": [],
   "source": [
    "original_sports = pd.Series({'Archery': 'Bhutan',\n",
    "                             'Golf': 'Scotland',\n",
    "                             'Sumo': 'Japan',\n",
    "                             'Taekwondo': 'South Korea'})\n",
    "cricket_loving_countries = pd.Series(['Australia',\n",
    "                                      'Barbados',\n",
    "                                      'Pakistan',\n",
    "                                      'England'], \n",
    "                                   index=['Cricket',\n",
    "                                          'Cricket',\n",
    "                                          'Cricket',\n",
    "                                          'Cricket'])\n",
    "all_countries = original_sports.append(cricket_loving_countries)"
   ]
  },
  {
   "cell_type": "code",
   "execution_count": 32,
   "metadata": {},
   "outputs": [
    {
     "data": {
      "text/plain": [
       "Archery           Bhutan\n",
       "Golf            Scotland\n",
       "Sumo               Japan\n",
       "Taekwondo    South Korea\n",
       "dtype: object"
      ]
     },
     "execution_count": 32,
     "metadata": {},
     "output_type": "execute_result"
    }
   ],
   "source": [
    "original_sports"
   ]
  },
  {
   "cell_type": "code",
   "execution_count": 33,
   "metadata": {},
   "outputs": [
    {
     "data": {
      "text/plain": [
       "Cricket    Australia\n",
       "Cricket     Barbados\n",
       "Cricket     Pakistan\n",
       "Cricket      England\n",
       "dtype: object"
      ]
     },
     "execution_count": 33,
     "metadata": {},
     "output_type": "execute_result"
    }
   ],
   "source": [
    "cricket_loving_countries"
   ]
  },
  {
   "cell_type": "code",
   "execution_count": 34,
   "metadata": {},
   "outputs": [
    {
     "data": {
      "text/plain": [
       "Archery           Bhutan\n",
       "Golf            Scotland\n",
       "Sumo               Japan\n",
       "Taekwondo    South Korea\n",
       "Cricket        Australia\n",
       "Cricket         Barbados\n",
       "Cricket         Pakistan\n",
       "Cricket          England\n",
       "dtype: object"
      ]
     },
     "execution_count": 34,
     "metadata": {},
     "output_type": "execute_result"
    }
   ],
   "source": [
    "all_countries"
   ]
  },
  {
   "cell_type": "code",
   "execution_count": 35,
   "metadata": {},
   "outputs": [
    {
     "data": {
      "text/plain": [
       "Cricket    Australia\n",
       "Cricket     Barbados\n",
       "Cricket     Pakistan\n",
       "Cricket      England\n",
       "dtype: object"
      ]
     },
     "execution_count": 35,
     "metadata": {},
     "output_type": "execute_result"
    }
   ],
   "source": [
    "all_countries.loc['Cricket']"
   ]
  },
  {
   "cell_type": "code",
   "execution_count": 36,
   "metadata": {},
   "outputs": [],
   "source": [
    "import pandas as pd\n",
    "purchase_1 = pd.Series({'Name': 'Chris',\n",
    "                        'Item Purchased': 'Dog Food',\n",
    "                        'Cost': 22.50})\n",
    "purchase_2 = pd.Series({'Name': 'Kevyn',\n",
    "                        'Item Purchased': 'Kitty Litter',\n",
    "                        'Cost': 2.50})\n",
    "purchase_3 = pd.Series({'Name': 'Vinod',\n",
    "                        'Item Purchased': 'Bird Seed',\n",
    "                        'Cost': 5.00})\n",
    "df = pd.DataFrame([purchase_1, purchase_2, purchase_3], index=['Store 1', 'Store 1', 'Store 2'])"
   ]
  },
  {
   "cell_type": "code",
   "execution_count": 37,
   "metadata": {},
   "outputs": [
    {
     "data": {
      "text/html": [
       "<div>\n",
       "<style scoped>\n",
       "    .dataframe tbody tr th:only-of-type {\n",
       "        vertical-align: middle;\n",
       "    }\n",
       "\n",
       "    .dataframe tbody tr th {\n",
       "        vertical-align: top;\n",
       "    }\n",
       "\n",
       "    .dataframe thead th {\n",
       "        text-align: right;\n",
       "    }\n",
       "</style>\n",
       "<table border=\"1\" class=\"dataframe\">\n",
       "  <thead>\n",
       "    <tr style=\"text-align: right;\">\n",
       "      <th></th>\n",
       "      <th>Cost</th>\n",
       "      <th>Item Purchased</th>\n",
       "      <th>Name</th>\n",
       "    </tr>\n",
       "  </thead>\n",
       "  <tbody>\n",
       "    <tr>\n",
       "      <th>Store 1</th>\n",
       "      <td>22.5</td>\n",
       "      <td>Dog Food</td>\n",
       "      <td>Chris</td>\n",
       "    </tr>\n",
       "    <tr>\n",
       "      <th>Store 1</th>\n",
       "      <td>2.5</td>\n",
       "      <td>Kitty Litter</td>\n",
       "      <td>Kevyn</td>\n",
       "    </tr>\n",
       "    <tr>\n",
       "      <th>Store 2</th>\n",
       "      <td>5.0</td>\n",
       "      <td>Bird Seed</td>\n",
       "      <td>Vinod</td>\n",
       "    </tr>\n",
       "  </tbody>\n",
       "</table>\n",
       "</div>"
      ],
      "text/plain": [
       "         Cost Item Purchased   Name\n",
       "Store 1  22.5       Dog Food  Chris\n",
       "Store 1   2.5   Kitty Litter  Kevyn\n",
       "Store 2   5.0      Bird Seed  Vinod"
      ]
     },
     "execution_count": 37,
     "metadata": {},
     "output_type": "execute_result"
    }
   ],
   "source": [
    "df"
   ]
  },
  {
   "cell_type": "code",
   "execution_count": 38,
   "metadata": {},
   "outputs": [
    {
     "data": {
      "text/plain": [
       "pandas.core.frame.DataFrame"
      ]
     },
     "execution_count": 38,
     "metadata": {},
     "output_type": "execute_result"
    }
   ],
   "source": [
    "type(df)"
   ]
  },
  {
   "cell_type": "code",
   "execution_count": 39,
   "metadata": {},
   "outputs": [
    {
     "data": {
      "text/plain": [
       "Cost                      5\n",
       "Item Purchased    Bird Seed\n",
       "Name                  Vinod\n",
       "Name: Store 2, dtype: object"
      ]
     },
     "execution_count": 39,
     "metadata": {},
     "output_type": "execute_result"
    }
   ],
   "source": [
    "df.loc['Store 2']"
   ]
  },
  {
   "cell_type": "code",
   "execution_count": 41,
   "metadata": {},
   "outputs": [
    {
     "data": {
      "text/plain": [
       "pandas.core.frame.DataFrame"
      ]
     },
     "execution_count": 41,
     "metadata": {},
     "output_type": "execute_result"
    }
   ],
   "source": [
    "type(df.loc['Store 1'])"
   ]
  },
  {
   "cell_type": "code",
   "execution_count": 42,
   "metadata": {},
   "outputs": [
    {
     "data": {
      "text/plain": [
       "Store 1    22.5\n",
       "Store 1     2.5\n",
       "Name: Cost, dtype: float64"
      ]
     },
     "execution_count": 42,
     "metadata": {},
     "output_type": "execute_result"
    }
   ],
   "source": [
    "df.loc['Store 1', 'Cost']"
   ]
  },
  {
   "cell_type": "code",
   "execution_count": 43,
   "metadata": {},
   "outputs": [
    {
     "data": {
      "text/html": [
       "<div>\n",
       "<style scoped>\n",
       "    .dataframe tbody tr th:only-of-type {\n",
       "        vertical-align: middle;\n",
       "    }\n",
       "\n",
       "    .dataframe tbody tr th {\n",
       "        vertical-align: top;\n",
       "    }\n",
       "\n",
       "    .dataframe thead th {\n",
       "        text-align: right;\n",
       "    }\n",
       "</style>\n",
       "<table border=\"1\" class=\"dataframe\">\n",
       "  <thead>\n",
       "    <tr style=\"text-align: right;\">\n",
       "      <th></th>\n",
       "      <th>Store 1</th>\n",
       "      <th>Store 1</th>\n",
       "      <th>Store 2</th>\n",
       "    </tr>\n",
       "  </thead>\n",
       "  <tbody>\n",
       "    <tr>\n",
       "      <th>Cost</th>\n",
       "      <td>22.5</td>\n",
       "      <td>2.5</td>\n",
       "      <td>5</td>\n",
       "    </tr>\n",
       "    <tr>\n",
       "      <th>Item Purchased</th>\n",
       "      <td>Dog Food</td>\n",
       "      <td>Kitty Litter</td>\n",
       "      <td>Bird Seed</td>\n",
       "    </tr>\n",
       "    <tr>\n",
       "      <th>Name</th>\n",
       "      <td>Chris</td>\n",
       "      <td>Kevyn</td>\n",
       "      <td>Vinod</td>\n",
       "    </tr>\n",
       "  </tbody>\n",
       "</table>\n",
       "</div>"
      ],
      "text/plain": [
       "                 Store 1       Store 1    Store 2\n",
       "Cost                22.5           2.5          5\n",
       "Item Purchased  Dog Food  Kitty Litter  Bird Seed\n",
       "Name               Chris         Kevyn      Vinod"
      ]
     },
     "execution_count": 43,
     "metadata": {},
     "output_type": "execute_result"
    }
   ],
   "source": [
    "df.T"
   ]
  },
  {
   "cell_type": "code",
   "execution_count": 44,
   "metadata": {},
   "outputs": [
    {
     "data": {
      "text/plain": [
       "Store 1    22.5\n",
       "Store 1     2.5\n",
       "Store 2       5\n",
       "Name: Cost, dtype: object"
      ]
     },
     "execution_count": 44,
     "metadata": {},
     "output_type": "execute_result"
    }
   ],
   "source": [
    "df.T.loc['Cost']"
   ]
  },
  {
   "cell_type": "code",
   "execution_count": 45,
   "metadata": {},
   "outputs": [
    {
     "data": {
      "text/plain": [
       "Store 1    22.5\n",
       "Store 1     2.5\n",
       "Store 2     5.0\n",
       "Name: Cost, dtype: float64"
      ]
     },
     "execution_count": 45,
     "metadata": {},
     "output_type": "execute_result"
    }
   ],
   "source": [
    "df['Cost']"
   ]
  },
  {
   "cell_type": "code",
   "execution_count": 46,
   "metadata": {},
   "outputs": [
    {
     "data": {
      "text/html": [
       "<div>\n",
       "<style scoped>\n",
       "    .dataframe tbody tr th:only-of-type {\n",
       "        vertical-align: middle;\n",
       "    }\n",
       "\n",
       "    .dataframe tbody tr th {\n",
       "        vertical-align: top;\n",
       "    }\n",
       "\n",
       "    .dataframe thead th {\n",
       "        text-align: right;\n",
       "    }\n",
       "</style>\n",
       "<table border=\"1\" class=\"dataframe\">\n",
       "  <thead>\n",
       "    <tr style=\"text-align: right;\">\n",
       "      <th></th>\n",
       "      <th>Cost</th>\n",
       "      <th>Item Purchased</th>\n",
       "      <th>Name</th>\n",
       "    </tr>\n",
       "  </thead>\n",
       "  <tbody>\n",
       "    <tr>\n",
       "      <th>Store 1</th>\n",
       "      <td>22.5</td>\n",
       "      <td>Dog Food</td>\n",
       "      <td>Chris</td>\n",
       "    </tr>\n",
       "    <tr>\n",
       "      <th>Store 1</th>\n",
       "      <td>2.5</td>\n",
       "      <td>Kitty Litter</td>\n",
       "      <td>Kevyn</td>\n",
       "    </tr>\n",
       "    <tr>\n",
       "      <th>Store 2</th>\n",
       "      <td>5.0</td>\n",
       "      <td>Bird Seed</td>\n",
       "      <td>Vinod</td>\n",
       "    </tr>\n",
       "  </tbody>\n",
       "</table>\n",
       "</div>"
      ],
      "text/plain": [
       "         Cost Item Purchased   Name\n",
       "Store 1  22.5       Dog Food  Chris\n",
       "Store 1   2.5   Kitty Litter  Kevyn\n",
       "Store 2   5.0      Bird Seed  Vinod"
      ]
     },
     "execution_count": 46,
     "metadata": {},
     "output_type": "execute_result"
    }
   ],
   "source": [
    "df\n"
   ]
  },
  {
   "cell_type": "code",
   "execution_count": 47,
   "metadata": {},
   "outputs": [
    {
     "data": {
      "text/plain": [
       "Store 1    22.5\n",
       "Store 1     2.5\n",
       "Store 2     5.0\n",
       "Name: Cost, dtype: float64"
      ]
     },
     "execution_count": 47,
     "metadata": {},
     "output_type": "execute_result"
    }
   ],
   "source": [
    "df['Cost']"
   ]
  },
  {
   "cell_type": "code",
   "execution_count": 48,
   "metadata": {},
   "outputs": [
    {
     "data": {
      "text/plain": [
       "Store 1    22.5\n",
       "Store 1     2.5\n",
       "Name: Cost, dtype: float64"
      ]
     },
     "execution_count": 48,
     "metadata": {},
     "output_type": "execute_result"
    }
   ],
   "source": [
    "df.loc['Store 1']['Cost']"
   ]
  },
  {
   "cell_type": "code",
   "execution_count": 49,
   "metadata": {},
   "outputs": [
    {
     "data": {
      "text/html": [
       "<div>\n",
       "<style scoped>\n",
       "    .dataframe tbody tr th:only-of-type {\n",
       "        vertical-align: middle;\n",
       "    }\n",
       "\n",
       "    .dataframe tbody tr th {\n",
       "        vertical-align: top;\n",
       "    }\n",
       "\n",
       "    .dataframe thead th {\n",
       "        text-align: right;\n",
       "    }\n",
       "</style>\n",
       "<table border=\"1\" class=\"dataframe\">\n",
       "  <thead>\n",
       "    <tr style=\"text-align: right;\">\n",
       "      <th></th>\n",
       "      <th>Name</th>\n",
       "      <th>Cost</th>\n",
       "    </tr>\n",
       "  </thead>\n",
       "  <tbody>\n",
       "    <tr>\n",
       "      <th>Store 1</th>\n",
       "      <td>Chris</td>\n",
       "      <td>22.5</td>\n",
       "    </tr>\n",
       "    <tr>\n",
       "      <th>Store 1</th>\n",
       "      <td>Kevyn</td>\n",
       "      <td>2.5</td>\n",
       "    </tr>\n",
       "    <tr>\n",
       "      <th>Store 2</th>\n",
       "      <td>Vinod</td>\n",
       "      <td>5.0</td>\n",
       "    </tr>\n",
       "  </tbody>\n",
       "</table>\n",
       "</div>"
      ],
      "text/plain": [
       "          Name  Cost\n",
       "Store 1  Chris  22.5\n",
       "Store 1  Kevyn   2.5\n",
       "Store 2  Vinod   5.0"
      ]
     },
     "execution_count": 49,
     "metadata": {},
     "output_type": "execute_result"
    }
   ],
   "source": [
    "df.loc[:,['Name', 'Cost']]"
   ]
  },
  {
   "cell_type": "code",
   "execution_count": 51,
   "metadata": {},
   "outputs": [
    {
     "data": {
      "text/html": [
       "<div>\n",
       "<style scoped>\n",
       "    .dataframe tbody tr th:only-of-type {\n",
       "        vertical-align: middle;\n",
       "    }\n",
       "\n",
       "    .dataframe tbody tr th {\n",
       "        vertical-align: top;\n",
       "    }\n",
       "\n",
       "    .dataframe thead th {\n",
       "        text-align: right;\n",
       "    }\n",
       "</style>\n",
       "<table border=\"1\" class=\"dataframe\">\n",
       "  <thead>\n",
       "    <tr style=\"text-align: right;\">\n",
       "      <th></th>\n",
       "      <th>Cost</th>\n",
       "      <th>Item Purchased</th>\n",
       "      <th>Name</th>\n",
       "    </tr>\n",
       "  </thead>\n",
       "  <tbody>\n",
       "    <tr>\n",
       "      <th>Store 1</th>\n",
       "      <td>22.5</td>\n",
       "      <td>Dog Food</td>\n",
       "      <td>Chris</td>\n",
       "    </tr>\n",
       "    <tr>\n",
       "      <th>Store 1</th>\n",
       "      <td>2.5</td>\n",
       "      <td>Kitty Litter</td>\n",
       "      <td>Kevyn</td>\n",
       "    </tr>\n",
       "    <tr>\n",
       "      <th>Store 2</th>\n",
       "      <td>5.0</td>\n",
       "      <td>Bird Seed</td>\n",
       "      <td>Vinod</td>\n",
       "    </tr>\n",
       "  </tbody>\n",
       "</table>\n",
       "</div>"
      ],
      "text/plain": [
       "         Cost Item Purchased   Name\n",
       "Store 1  22.5       Dog Food  Chris\n",
       "Store 1   2.5   Kitty Litter  Kevyn\n",
       "Store 2   5.0      Bird Seed  Vinod"
      ]
     },
     "execution_count": 51,
     "metadata": {},
     "output_type": "execute_result"
    }
   ],
   "source": [
    "purchase_1 = pd.Series({'Name': 'Chris',\n",
    "                        'Item Purchased': 'Dog Food',\n",
    "                        'Cost': 22.50})\n",
    "purchase_2 = pd.Series({'Name': 'Kevyn',\n",
    "                        'Item Purchased': 'Kitty Litter',\n",
    "                        'Cost': 2.50})\n",
    "purchase_3 = pd.Series({'Name': 'Vinod',\n",
    "                        'Item Purchased': 'Bird Seed',\n",
    "                        'Cost': 5.00})\n",
    "\n",
    "df = pd.DataFrame([purchase_1, purchase_2, purchase_3], index=['Store 1', 'Store 1', 'Store 2'])\n",
    "\n",
    "df"
   ]
  },
  {
   "cell_type": "code",
   "execution_count": 52,
   "metadata": {},
   "outputs": [
    {
     "name": "stdout",
     "output_type": "stream",
     "text": [
      "         Cost Item Purchased   Name\n",
      "Store 1  18.0       Dog Food  Chris\n",
      "Store 1   2.0   Kitty Litter  Kevyn\n",
      "Store 2   4.0      Bird Seed  Vinod\n"
     ]
    }
   ],
   "source": [
    "\n",
    "df['Cost'] *= 0.8\n",
    "print(df)"
   ]
  },
  {
   "cell_type": "code",
   "execution_count": 1,
   "metadata": {},
   "outputs": [],
   "source": [
    "import pandas as pd"
   ]
  },
  {
   "cell_type": "code",
   "execution_count": 2,
   "metadata": {},
   "outputs": [],
   "source": [
    "import numpy as np"
   ]
  },
  {
   "cell_type": "code",
   "execution_count": 3,
   "metadata": {},
   "outputs": [
    {
     "data": {
      "text/html": [
       "<div>\n",
       "<style scoped>\n",
       "    .dataframe tbody tr th:only-of-type {\n",
       "        vertical-align: middle;\n",
       "    }\n",
       "\n",
       "    .dataframe tbody tr th {\n",
       "        vertical-align: top;\n",
       "    }\n",
       "\n",
       "    .dataframe thead th {\n",
       "        text-align: right;\n",
       "    }\n",
       "</style>\n",
       "<table border=\"1\" class=\"dataframe\">\n",
       "  <thead>\n",
       "    <tr style=\"text-align: right;\">\n",
       "      <th></th>\n",
       "      <th>Cost</th>\n",
       "      <th>Item Purchased</th>\n",
       "      <th>Name</th>\n",
       "    </tr>\n",
       "  </thead>\n",
       "  <tbody>\n",
       "    <tr>\n",
       "      <th>Store 1</th>\n",
       "      <td>22.5</td>\n",
       "      <td>Dog Food</td>\n",
       "      <td>Chris</td>\n",
       "    </tr>\n",
       "    <tr>\n",
       "      <th>Store 2</th>\n",
       "      <td>5.0</td>\n",
       "      <td>Bird Seed</td>\n",
       "      <td>Vinod</td>\n",
       "    </tr>\n",
       "  </tbody>\n",
       "</table>\n",
       "</div>"
      ],
      "text/plain": [
       "         Cost Item Purchased   Name\n",
       "Store 1  22.5       Dog Food  Chris\n",
       "Store 2   5.0      Bird Seed  Vinod"
      ]
     },
     "execution_count": 3,
     "metadata": {},
     "output_type": "execute_result"
    }
   ],
   "source": [
    "purchase_1 = pd.Series({'Name': 'Chris',\n",
    "                        'Item Purchased': 'Dog Food',\n",
    "                        'Cost': 22.50})\n",
    "purchase_2 = pd.Series({'Name': 'Kevyn',\n",
    "                        'Item Purchased': 'Kitty Litter',\n",
    "                        'Cost': 2.50})\n",
    "purchase_3 = pd.Series({'Name': 'Vinod',\n",
    "                        'Item Purchased': 'Bird Seed',\n",
    "                        'Cost': 5.00})\n",
    "\n",
    "df = pd.DataFrame([purchase_1, purchase_2, purchase_3], index=['Store 1', 'Store 1', 'Store 2'])\n",
    "\n",
    "\n",
    "df[df['Cost'] > 3.00]"
   ]
  },
  {
   "cell_type": "code",
   "execution_count": 4,
   "metadata": {},
   "outputs": [
    {
     "data": {
      "text/plain": [
       "Store 1    Chris\n",
       "Store 2    Vinod\n",
       "Name: Name, dtype: object"
      ]
     },
     "execution_count": 4,
     "metadata": {},
     "output_type": "execute_result"
    }
   ],
   "source": [
    "df['Name'][df['Cost']>3]"
   ]
  },
  {
   "cell_type": "code",
   "execution_count": 13,
   "metadata": {},
   "outputs": [
    {
     "data": {
      "text/html": [
       "<div>\n",
       "<style scoped>\n",
       "    .dataframe tbody tr th:only-of-type {\n",
       "        vertical-align: middle;\n",
       "    }\n",
       "\n",
       "    .dataframe tbody tr th {\n",
       "        vertical-align: top;\n",
       "    }\n",
       "\n",
       "    .dataframe thead th {\n",
       "        text-align: right;\n",
       "    }\n",
       "</style>\n",
       "<table border=\"1\" class=\"dataframe\">\n",
       "  <thead>\n",
       "    <tr style=\"text-align: right;\">\n",
       "      <th></th>\n",
       "      <th></th>\n",
       "      <th>Item Purchased</th>\n",
       "      <th>Name</th>\n",
       "    </tr>\n",
       "    <tr>\n",
       "      <th></th>\n",
       "      <th>Cost</th>\n",
       "      <th></th>\n",
       "      <th></th>\n",
       "    </tr>\n",
       "  </thead>\n",
       "  <tbody>\n",
       "    <tr>\n",
       "      <th rowspan=\"2\" valign=\"top\">Store 1</th>\n",
       "      <th>22.5</th>\n",
       "      <td>Dog Food</td>\n",
       "      <td>Chris</td>\n",
       "    </tr>\n",
       "    <tr>\n",
       "      <th>2.5</th>\n",
       "      <td>Kitty Litter</td>\n",
       "      <td>Kevyn</td>\n",
       "    </tr>\n",
       "    <tr>\n",
       "      <th>Store 2</th>\n",
       "      <th>5.0</th>\n",
       "      <td>Bird Seed</td>\n",
       "      <td>Vinod</td>\n",
       "    </tr>\n",
       "  </tbody>\n",
       "</table>\n",
       "</div>"
      ],
      "text/plain": [
       "             Item Purchased   Name\n",
       "        Cost                      \n",
       "Store 1 22.5       Dog Food  Chris\n",
       "        2.5    Kitty Litter  Kevyn\n",
       "Store 2 5.0       Bird Seed  Vinod"
      ]
     },
     "execution_count": 13,
     "metadata": {},
     "output_type": "execute_result"
    }
   ],
   "source": [
    "purchase_1 = pd.Series({'Name': 'Chris',\n",
    "                        'Item Purchased': 'Dog Food',\n",
    "                        'Cost': 22.50})\n",
    "purchase_2 = pd.Series({'Name': 'Kevyn',\n",
    "                        'Item Purchased': 'Kitty Litter',\n",
    "                        'Cost': 2.50})\n",
    "purchase_3 = pd.Series({'Name': 'Vinod',\n",
    "                        'Item Purchased': 'Bird Seed',\n",
    "                        'Cost': 5.00})\n",
    "\n",
    "df = pd.DataFrame([purchase_1, purchase_2, purchase_3], index=['Store 1', 'Store 1', 'Store 2'])\n",
    "\n",
    "\n",
    "# Your answer here\n",
    "\n",
    "df = df.set_index([df.index , 'Cost'])\n",
    "df"
   ]
  },
  {
   "cell_type": "code",
   "execution_count": 14,
   "metadata": {},
   "outputs": [
    {
     "data": {
      "text/html": [
       "<div>\n",
       "<style scoped>\n",
       "    .dataframe tbody tr th:only-of-type {\n",
       "        vertical-align: middle;\n",
       "    }\n",
       "\n",
       "    .dataframe tbody tr th {\n",
       "        vertical-align: top;\n",
       "    }\n",
       "\n",
       "    .dataframe thead th {\n",
       "        text-align: right;\n",
       "    }\n",
       "</style>\n",
       "<table border=\"1\" class=\"dataframe\">\n",
       "  <thead>\n",
       "    <tr style=\"text-align: right;\">\n",
       "      <th></th>\n",
       "      <th></th>\n",
       "      <th>Item Purchased</th>\n",
       "      <th>Name</th>\n",
       "    </tr>\n",
       "    <tr>\n",
       "      <th>Location</th>\n",
       "      <th>Cost</th>\n",
       "      <th></th>\n",
       "      <th></th>\n",
       "    </tr>\n",
       "  </thead>\n",
       "  <tbody>\n",
       "    <tr>\n",
       "      <th rowspan=\"2\" valign=\"top\">Store 1</th>\n",
       "      <th>22.5</th>\n",
       "      <td>Dog Food</td>\n",
       "      <td>Chris</td>\n",
       "    </tr>\n",
       "    <tr>\n",
       "      <th>2.5</th>\n",
       "      <td>Kitty Litter</td>\n",
       "      <td>Kevyn</td>\n",
       "    </tr>\n",
       "    <tr>\n",
       "      <th>Store 2</th>\n",
       "      <th>5.0</th>\n",
       "      <td>Bird Seed</td>\n",
       "      <td>Vinod</td>\n",
       "    </tr>\n",
       "  </tbody>\n",
       "</table>\n",
       "</div>"
      ],
      "text/plain": [
       "              Item Purchased   Name\n",
       "Location Cost                      \n",
       "Store 1  22.5       Dog Food  Chris\n",
       "         2.5    Kitty Litter  Kevyn\n",
       "Store 2  5.0       Bird Seed  Vinod"
      ]
     },
     "execution_count": 14,
     "metadata": {},
     "output_type": "execute_result"
    }
   ],
   "source": [
    "df.index.names = ['Location', 'Cost']\n",
    "df"
   ]
  },
  {
   "cell_type": "code",
   "execution_count": 9,
   "metadata": {},
   "outputs": [],
   "source": [
    "df = df.append(pd.Series(data={'Cost': 3.00, 'Item Purchased': 'Kitty Food'}, name=('Store 2', 'Kevyn')))"
   ]
  },
  {
   "cell_type": "code",
   "execution_count": 10,
   "metadata": {},
   "outputs": [
    {
     "data": {
      "text/html": [
       "<div>\n",
       "<style scoped>\n",
       "    .dataframe tbody tr th:only-of-type {\n",
       "        vertical-align: middle;\n",
       "    }\n",
       "\n",
       "    .dataframe tbody tr th {\n",
       "        vertical-align: top;\n",
       "    }\n",
       "\n",
       "    .dataframe thead th {\n",
       "        text-align: right;\n",
       "    }\n",
       "</style>\n",
       "<table border=\"1\" class=\"dataframe\">\n",
       "  <thead>\n",
       "    <tr style=\"text-align: right;\">\n",
       "      <th></th>\n",
       "      <th></th>\n",
       "      <th>Cost</th>\n",
       "      <th>Item Purchased</th>\n",
       "    </tr>\n",
       "    <tr>\n",
       "      <th>Location</th>\n",
       "      <th>Name</th>\n",
       "      <th></th>\n",
       "      <th></th>\n",
       "    </tr>\n",
       "  </thead>\n",
       "  <tbody>\n",
       "    <tr>\n",
       "      <th rowspan=\"2\" valign=\"top\">Store 1</th>\n",
       "      <th>Chris</th>\n",
       "      <td>22.5</td>\n",
       "      <td>Dog Food</td>\n",
       "    </tr>\n",
       "    <tr>\n",
       "      <th>Kevyn</th>\n",
       "      <td>2.5</td>\n",
       "      <td>Kitty Litter</td>\n",
       "    </tr>\n",
       "    <tr>\n",
       "      <th rowspan=\"2\" valign=\"top\">Store 2</th>\n",
       "      <th>Vinod</th>\n",
       "      <td>5.0</td>\n",
       "      <td>Bird Seed</td>\n",
       "    </tr>\n",
       "    <tr>\n",
       "      <th>Kevyn</th>\n",
       "      <td>3.0</td>\n",
       "      <td>Kitty Food</td>\n",
       "    </tr>\n",
       "  </tbody>\n",
       "</table>\n",
       "</div>"
      ],
      "text/plain": [
       "                Cost Item Purchased\n",
       "Location Name                      \n",
       "Store 1  Chris  22.5       Dog Food\n",
       "         Kevyn   2.5   Kitty Litter\n",
       "Store 2  Vinod   5.0      Bird Seed\n",
       "         Kevyn   3.0     Kitty Food"
      ]
     },
     "execution_count": 10,
     "metadata": {},
     "output_type": "execute_result"
    }
   ],
   "source": [
    "df"
   ]
  },
  {
   "cell_type": "code",
   "execution_count": 15,
   "metadata": {},
   "outputs": [],
   "source": [
    "df = pd.read_csv('olympics.csv', index_col=0, skiprows=1)"
   ]
  },
  {
   "cell_type": "code",
   "execution_count": 16,
   "metadata": {},
   "outputs": [
    {
     "data": {
      "text/html": [
       "<div>\n",
       "<style scoped>\n",
       "    .dataframe tbody tr th:only-of-type {\n",
       "        vertical-align: middle;\n",
       "    }\n",
       "\n",
       "    .dataframe tbody tr th {\n",
       "        vertical-align: top;\n",
       "    }\n",
       "\n",
       "    .dataframe thead th {\n",
       "        text-align: right;\n",
       "    }\n",
       "</style>\n",
       "<table border=\"1\" class=\"dataframe\">\n",
       "  <thead>\n",
       "    <tr style=\"text-align: right;\">\n",
       "      <th></th>\n",
       "    </tr>\n",
       "    <tr>\n",
       "      <th>№ Summer\t01 !\t02 !\t03 !\tTotal\t№ Winter\t01 !\t02 !\t03 !\tTotal\t№ Games\t01 !\t02 !\t03 !\tCombined total</th>\n",
       "    </tr>\n",
       "  </thead>\n",
       "  <tbody>\n",
       "    <tr>\n",
       "      <th>Afghanistan (AFG)\\t13\\t0\\t0\\t2\\t2\\t0\\t0\\t0\\t0\\t0\\t13\\t0\\t0\\t2\\t2</th>\n",
       "    </tr>\n",
       "    <tr>\n",
       "      <th>Algeria (ALG)\\t12\\t5\\t2\\t8\\t15\\t3\\t0\\t0\\t0\\t0\\t15\\t5\\t2\\t8\\t15</th>\n",
       "    </tr>\n",
       "    <tr>\n",
       "      <th>Argentina (ARG)\\t23\\t18\\t24\\t28\\t70\\t18\\t0\\t0\\t0\\t0\\t41\\t18\\t24\\t28\\t70</th>\n",
       "    </tr>\n",
       "    <tr>\n",
       "      <th>Armenia (ARM)\\t5\\t1\\t2\\t9\\t12\\t6\\t0\\t0\\t0\\t0\\t11\\t1\\t2\\t9\\t12</th>\n",
       "    </tr>\n",
       "    <tr>\n",
       "      <th>Australasia (ANZ) [ANZ]\\t2\\t3\\t4\\t5\\t12\\t0\\t0\\t0\\t0\\t0\\t2\\t3\\t4\\t5\\t12</th>\n",
       "    </tr>\n",
       "    <tr>\n",
       "      <th>Australia (AUS) [AUS] [Z]\\t25\\t139\\t152\\t177\\t468\\t18\\t5\\t3\\t4\\t12\\t43\\t144\\t155\\t181\\t480</th>\n",
       "    </tr>\n",
       "    <tr>\n",
       "      <th>Austria (AUT)\\t26\\t18\\t33\\t35\\t86\\t22\\t59\\t78\\t81\\t218\\t48\\t77\\t111\\t116\\t304</th>\n",
       "    </tr>\n",
       "    <tr>\n",
       "      <th>Azerbaijan (AZE)\\t5\\t6\\t5\\t15\\t26\\t5\\t0\\t0\\t0\\t0\\t10\\t6\\t5\\t15\\t26</th>\n",
       "    </tr>\n",
       "    <tr>\n",
       "      <th>Bahamas (BAH)\\t15\\t5\\t2\\t5\\t12\\t0\\t0\\t0\\t0\\t0\\t15\\t5\\t2\\t5\\t12</th>\n",
       "    </tr>\n",
       "    <tr>\n",
       "      <th>Bahrain (BRN)\\t8\\t0\\t0\\t1\\t1\\t0\\t0\\t0\\t0\\t0\\t8\\t0\\t0\\t1\\t1</th>\n",
       "    </tr>\n",
       "    <tr>\n",
       "      <th>Barbados (BAR) [BAR]\\t11\\t0\\t0\\t1\\t1\\t0\\t0\\t0\\t0\\t0\\t11\\t0\\t0\\t1\\t1</th>\n",
       "    </tr>\n",
       "    <tr>\n",
       "      <th>Belarus (BLR)\\t5\\t12\\t24\\t39\\t75\\t6\\t6\\t4\\t5\\t15\\t11\\t18\\t28\\t44\\t90</th>\n",
       "    </tr>\n",
       "    <tr>\n",
       "      <th>Belgium (BEL)\\t25\\t37\\t52\\t53\\t142\\t20\\t1\\t1\\t3\\t5\\t45\\t38\\t53\\t56\\t147</th>\n",
       "    </tr>\n",
       "    <tr>\n",
       "      <th>Bermuda (BER)\\t17\\t0\\t0\\t1\\t1\\t7\\t0\\t0\\t0\\t0\\t24\\t0\\t0\\t1\\t1</th>\n",
       "    </tr>\n",
       "    <tr>\n",
       "      <th>Bohemia (BOH) [BOH] [Z]\\t3\\t0\\t1\\t3\\t4\\t0\\t0\\t0\\t0\\t0\\t3\\t0\\t1\\t3\\t4</th>\n",
       "    </tr>\n",
       "    <tr>\n",
       "      <th>Botswana (BOT)\\t9\\t0\\t1\\t0\\t1\\t0\\t0\\t0\\t0\\t0\\t9\\t0\\t1\\t0\\t1</th>\n",
       "    </tr>\n",
       "    <tr>\n",
       "      <th>Brazil (BRA)\\t21\\t23\\t30\\t55\\t108\\t7\\t0\\t0\\t0\\t0\\t28\\t23\\t30\\t55\\t108</th>\n",
       "    </tr>\n",
       "    <tr>\n",
       "      <th>British West Indies (BWI) [BWI]\\t1\\t0\\t0\\t2\\t2\\t0\\t0\\t0\\t0\\t0\\t1\\t0\\t0\\t2\\t2</th>\n",
       "    </tr>\n",
       "    <tr>\n",
       "      <th>Bulgaria (BUL) [H]\\t19\\t51\\t85\\t78\\t214\\t19\\t1\\t2\\t3\\t6\\t38\\t52\\t87\\t81\\t220</th>\n",
       "    </tr>\n",
       "    <tr>\n",
       "      <th>Burundi (BDI)\\t5\\t1\\t0\\t0\\t1\\t0\\t0\\t0\\t0\\t0\\t5\\t1\\t0\\t0\\t1</th>\n",
       "    </tr>\n",
       "    <tr>\n",
       "      <th>Cameroon (CMR)\\t13\\t3\\t1\\t1\\t5\\t1\\t0\\t0\\t0\\t0\\t14\\t3\\t1\\t1\\t5</th>\n",
       "    </tr>\n",
       "    <tr>\n",
       "      <th>Canada (CAN)\\t25\\t59\\t99\\t121\\t279\\t22\\t62\\t56\\t52\\t170\\t47\\t121\\t155\\t173\\t449</th>\n",
       "    </tr>\n",
       "    <tr>\n",
       "      <th>Chile (CHI) [I]\\t22\\t2\\t7\\t4\\t13\\t16\\t0\\t0\\t0\\t0\\t38\\t2\\t7\\t4\\t13</th>\n",
       "    </tr>\n",
       "    <tr>\n",
       "      <th>China (CHN) [CHN]\\t9\\t201\\t146\\t126\\t473\\t10\\t12\\t22\\t19\\t53\\t19\\t213\\t168\\t145\\t526</th>\n",
       "    </tr>\n",
       "    <tr>\n",
       "      <th>Colombia (COL)\\t18\\t2\\t6\\t11\\t19\\t1\\t0\\t0\\t0\\t0\\t19\\t2\\t6\\t11\\t19</th>\n",
       "    </tr>\n",
       "    <tr>\n",
       "      <th>Costa Rica (CRC)\\t14\\t1\\t1\\t2\\t4\\t6\\t0\\t0\\t0\\t0\\t20\\t1\\t1\\t2\\t4</th>\n",
       "    </tr>\n",
       "    <tr>\n",
       "      <th>Ivory Coast (CIV) [CIV]\\t12\\t0\\t1\\t0\\t1\\t0\\t0\\t0\\t0\\t0\\t12\\t0\\t1\\t0\\t1</th>\n",
       "    </tr>\n",
       "    <tr>\n",
       "      <th>Croatia (CRO)\\t6\\t6\\t7\\t10\\t23\\t7\\t4\\t6\\t1\\t11\\t13\\t10\\t13\\t11\\t34</th>\n",
       "    </tr>\n",
       "    <tr>\n",
       "      <th>Cuba (CUB) [Z]\\t19\\t72\\t67\\t70\\t209\\t0\\t0\\t0\\t0\\t0\\t19\\t72\\t67\\t70\\t209</th>\n",
       "    </tr>\n",
       "    <tr>\n",
       "      <th>Cyprus (CYP)\\t9\\t0\\t1\\t0\\t1\\t10\\t0\\t0\\t0\\t0\\t19\\t0\\t1\\t0\\t1</th>\n",
       "    </tr>\n",
       "    <tr>\n",
       "      <th>...</th>\n",
       "    </tr>\n",
       "    <tr>\n",
       "      <th>Sri Lanka (SRI) [SRI]\\t16\\t0\\t2\\t0\\t2\\t0\\t0\\t0\\t0\\t0\\t16\\t0\\t2\\t0\\t2</th>\n",
       "    </tr>\n",
       "    <tr>\n",
       "      <th>Sudan (SUD)\\t11\\t0\\t1\\t0\\t1\\t0\\t0\\t0\\t0\\t0\\t11\\t0\\t1\\t0\\t1</th>\n",
       "    </tr>\n",
       "    <tr>\n",
       "      <th>Suriname (SUR) [E]\\t11\\t1\\t0\\t1\\t2\\t0\\t0\\t0\\t0\\t0\\t11\\t1\\t0\\t1\\t2</th>\n",
       "    </tr>\n",
       "    <tr>\n",
       "      <th>Sweden (SWE) [Z]\\t26\\t143\\t164\\t176\\t483\\t22\\t50\\t40\\t54\\t144\\t48\\t193\\t204\\t230\\t627</th>\n",
       "    </tr>\n",
       "    <tr>\n",
       "      <th>Switzerland (SUI)\\t27\\t47\\t73\\t65\\t185\\t22\\t50\\t40\\t48\\t138\\t49\\t97\\t113\\t113\\t323</th>\n",
       "    </tr>\n",
       "    <tr>\n",
       "      <th>Syria (SYR)\\t12\\t1\\t1\\t1\\t3\\t0\\t0\\t0\\t0\\t0\\t12\\t1\\t1\\t1\\t3</th>\n",
       "    </tr>\n",
       "    <tr>\n",
       "      <th>Chinese Taipei (TPE) [TPE] [TPE2]\\t13\\t2\\t7\\t12\\t21\\t11\\t0\\t0\\t0\\t0\\t24\\t2\\t7\\t12\\t21</th>\n",
       "    </tr>\n",
       "    <tr>\n",
       "      <th>Tajikistan (TJK)\\t5\\t0\\t1\\t2\\t3\\t4\\t0\\t0\\t0\\t0\\t9\\t0\\t1\\t2\\t3</th>\n",
       "    </tr>\n",
       "    <tr>\n",
       "      <th>Tanzania (TAN) [TAN]\\t12\\t0\\t2\\t0\\t2\\t0\\t0\\t0\\t0\\t0\\t12\\t0\\t2\\t0\\t2</th>\n",
       "    </tr>\n",
       "    <tr>\n",
       "      <th>Thailand (THA)\\t15\\t7\\t6\\t11\\t24\\t3\\t0\\t0\\t0\\t0\\t18\\t7\\t6\\t11\\t24</th>\n",
       "    </tr>\n",
       "    <tr>\n",
       "      <th>Togo (TOG)\\t9\\t0\\t0\\t1\\t1\\t1\\t0\\t0\\t0\\t0\\t10\\t0\\t0\\t1\\t1</th>\n",
       "    </tr>\n",
       "    <tr>\n",
       "      <th>Tonga (TGA)\\t8\\t0\\t1\\t0\\t1\\t1\\t0\\t0\\t0\\t0\\t9\\t0\\t1\\t0\\t1</th>\n",
       "    </tr>\n",
       "    <tr>\n",
       "      <th>Trinidad and Tobago (TRI) [TRI]\\t16\\t2\\t5\\t11\\t18\\t3\\t0\\t0\\t0\\t0\\t19\\t2\\t5\\t11\\t18</th>\n",
       "    </tr>\n",
       "    <tr>\n",
       "      <th>Tunisia (TUN)\\t13\\t3\\t3\\t4\\t10\\t0\\t0\\t0\\t0\\t0\\t13\\t3\\t3\\t4\\t10</th>\n",
       "    </tr>\n",
       "    <tr>\n",
       "      <th>Turkey (TUR)\\t21\\t39\\t25\\t24\\t88\\t16\\t0\\t0\\t0\\t0\\t37\\t39\\t25\\t24\\t88</th>\n",
       "    </tr>\n",
       "    <tr>\n",
       "      <th>Uganda (UGA)\\t14\\t2\\t3\\t2\\t7\\t0\\t0\\t0\\t0\\t0\\t14\\t2\\t3\\t2\\t7</th>\n",
       "    </tr>\n",
       "    <tr>\n",
       "      <th>Ukraine (UKR)\\t5\\t33\\t27\\t55\\t115\\t6\\t2\\t1\\t4\\t7\\t11\\t35\\t28\\t59\\t122</th>\n",
       "    </tr>\n",
       "    <tr>\n",
       "      <th>United Arab Emirates (UAE)\\t8\\t1\\t0\\t0\\t1\\t0\\t0\\t0\\t0\\t0\\t8\\t1\\t0\\t0\\t1</th>\n",
       "    </tr>\n",
       "    <tr>\n",
       "      <th>United States (USA) [P] [Q] [R] [Z]\\t26\\t976\\t757\\t666\\t2399\\t22\\t96\\t102\\t84\\t282\\t48\\t1072\\t859\\t750\\t2681</th>\n",
       "    </tr>\n",
       "    <tr>\n",
       "      <th>Uruguay (URU)\\t20\\t2\\t2\\t6\\t10\\t1\\t0\\t0\\t0\\t0\\t21\\t2\\t2\\t6\\t10</th>\n",
       "    </tr>\n",
       "    <tr>\n",
       "      <th>Uzbekistan (UZB)\\t5\\t5\\t5\\t10\\t20\\t6\\t1\\t0\\t0\\t1\\t11\\t6\\t5\\t10\\t21</th>\n",
       "    </tr>\n",
       "    <tr>\n",
       "      <th>Venezuela (VEN)\\t17\\t2\\t2\\t8\\t12\\t4\\t0\\t0\\t0\\t0\\t21\\t2\\t2\\t8\\t12</th>\n",
       "    </tr>\n",
       "    <tr>\n",
       "      <th>Vietnam (VIE)\\t14\\t0\\t2\\t0\\t2\\t0\\t0\\t0\\t0\\t0\\t14\\t0\\t2\\t0\\t2</th>\n",
       "    </tr>\n",
       "    <tr>\n",
       "      <th>Virgin Islands (ISV)\\t11\\t0\\t1\\t0\\t1\\t7\\t0\\t0\\t0\\t0\\t18\\t0\\t1\\t0\\t1</th>\n",
       "    </tr>\n",
       "    <tr>\n",
       "      <th>Yugoslavia (YUG) [YUG]\\t16\\t26\\t29\\t28\\t83\\t14\\t0\\t3\\t1\\t4\\t30\\t26\\t32\\t29\\t87</th>\n",
       "    </tr>\n",
       "    <tr>\n",
       "      <th>Independent Olympic Participants (IOP) [IOP]\\t1\\t0\\t1\\t2\\t3\\t0\\t0\\t0\\t0\\t0\\t1\\t0\\t1\\t2\\t3</th>\n",
       "    </tr>\n",
       "    <tr>\n",
       "      <th>Zambia (ZAM) [ZAM]\\t12\\t0\\t1\\t1\\t2\\t0\\t0\\t0\\t0\\t0\\t12\\t0\\t1\\t1\\t2</th>\n",
       "    </tr>\n",
       "    <tr>\n",
       "      <th>Zimbabwe (ZIM) [ZIM]\\t12\\t3\\t4\\t1\\t8\\t1\\t0\\t0\\t0\\t0\\t13\\t3\\t4\\t1\\t8</th>\n",
       "    </tr>\n",
       "    <tr>\n",
       "      <th>Mixed team (ZZX) [ZZX]\\t3\\t8\\t5\\t4\\t17\\t0\\t0\\t0\\t0\\t0\\t3\\t8\\t5\\t4\\t17</th>\n",
       "    </tr>\n",
       "    <tr>\n",
       "      <th>Totals\\t27\\t4809\\t4775\\t5130\\t14714\\t22\\t959\\t958\\t948\\t2865\\t49\\t5768\\t5733\\t6078\\t17579</th>\n",
       "    </tr>\n",
       "  </tbody>\n",
       "</table>\n",
       "<p>147 rows × 0 columns</p>\n",
       "</div>"
      ],
      "text/plain": [
       "Empty DataFrame\n",
       "Columns: []\n",
       "Index: [Afghanistan (AFG)\t13\t0\t0\t2\t2\t0\t0\t0\t0\t0\t13\t0\t0\t2\t2, Algeria (ALG)\t12\t5\t2\t8\t15\t3\t0\t0\t0\t0\t15\t5\t2\t8\t15, Argentina (ARG)\t23\t18\t24\t28\t70\t18\t0\t0\t0\t0\t41\t18\t24\t28\t70, Armenia (ARM)\t5\t1\t2\t9\t12\t6\t0\t0\t0\t0\t11\t1\t2\t9\t12, Australasia (ANZ) [ANZ]\t2\t3\t4\t5\t12\t0\t0\t0\t0\t0\t2\t3\t4\t5\t12, Australia (AUS) [AUS] [Z]\t25\t139\t152\t177\t468\t18\t5\t3\t4\t12\t43\t144\t155\t181\t480, Austria (AUT)\t26\t18\t33\t35\t86\t22\t59\t78\t81\t218\t48\t77\t111\t116\t304, Azerbaijan (AZE)\t5\t6\t5\t15\t26\t5\t0\t0\t0\t0\t10\t6\t5\t15\t26, Bahamas (BAH)\t15\t5\t2\t5\t12\t0\t0\t0\t0\t0\t15\t5\t2\t5\t12, Bahrain (BRN)\t8\t0\t0\t1\t1\t0\t0\t0\t0\t0\t8\t0\t0\t1\t1, Barbados (BAR) [BAR]\t11\t0\t0\t1\t1\t0\t0\t0\t0\t0\t11\t0\t0\t1\t1, Belarus (BLR)\t5\t12\t24\t39\t75\t6\t6\t4\t5\t15\t11\t18\t28\t44\t90, Belgium (BEL)\t25\t37\t52\t53\t142\t20\t1\t1\t3\t5\t45\t38\t53\t56\t147, Bermuda (BER)\t17\t0\t0\t1\t1\t7\t0\t0\t0\t0\t24\t0\t0\t1\t1, Bohemia (BOH) [BOH] [Z]\t3\t0\t1\t3\t4\t0\t0\t0\t0\t0\t3\t0\t1\t3\t4, Botswana (BOT)\t9\t0\t1\t0\t1\t0\t0\t0\t0\t0\t9\t0\t1\t0\t1, Brazil (BRA)\t21\t23\t30\t55\t108\t7\t0\t0\t0\t0\t28\t23\t30\t55\t108, British West Indies (BWI) [BWI]\t1\t0\t0\t2\t2\t0\t0\t0\t0\t0\t1\t0\t0\t2\t2, Bulgaria (BUL) [H]\t19\t51\t85\t78\t214\t19\t1\t2\t3\t6\t38\t52\t87\t81\t220, Burundi (BDI)\t5\t1\t0\t0\t1\t0\t0\t0\t0\t0\t5\t1\t0\t0\t1, Cameroon (CMR)\t13\t3\t1\t1\t5\t1\t0\t0\t0\t0\t14\t3\t1\t1\t5, Canada (CAN)\t25\t59\t99\t121\t279\t22\t62\t56\t52\t170\t47\t121\t155\t173\t449, Chile (CHI) [I]\t22\t2\t7\t4\t13\t16\t0\t0\t0\t0\t38\t2\t7\t4\t13, China (CHN) [CHN]\t9\t201\t146\t126\t473\t10\t12\t22\t19\t53\t19\t213\t168\t145\t526, Colombia (COL)\t18\t2\t6\t11\t19\t1\t0\t0\t0\t0\t19\t2\t6\t11\t19, Costa Rica (CRC)\t14\t1\t1\t2\t4\t6\t0\t0\t0\t0\t20\t1\t1\t2\t4, Ivory Coast (CIV) [CIV]\t12\t0\t1\t0\t1\t0\t0\t0\t0\t0\t12\t0\t1\t0\t1, Croatia (CRO)\t6\t6\t7\t10\t23\t7\t4\t6\t1\t11\t13\t10\t13\t11\t34, Cuba (CUB) [Z]\t19\t72\t67\t70\t209\t0\t0\t0\t0\t0\t19\t72\t67\t70\t209, Cyprus (CYP)\t9\t0\t1\t0\t1\t10\t0\t0\t0\t0\t19\t0\t1\t0\t1, Czech Republic (CZE) [CZE]\t5\t14\t15\t15\t44\t6\t7\t9\t8\t24\t11\t21\t24\t23\t68, Czechoslovakia (TCH) [TCH]\t16\t49\t49\t45\t143\t16\t2\t8\t15\t25\t32\t51\t57\t60\t168, Denmark (DEN) [Z]\t26\t43\t68\t68\t179\t13\t0\t1\t0\t1\t39\t43\t69\t68\t180, Djibouti (DJI) [B]\t7\t0\t0\t1\t1\t0\t0\t0\t0\t0\t7\t0\t0\t1\t1, Dominican Republic (DOM)\t13\t3\t2\t1\t6\t0\t0\t0\t0\t0\t13\t3\t2\t1\t6, Ecuador (ECU)\t13\t1\t1\t0\t2\t0\t0\t0\t0\t0\t13\t1\t1\t0\t2, Egypt (EGY) [EGY] [Z]\t21\t7\t9\t10\t26\t1\t0\t0\t0\t0\t22\t7\t9\t10\t26, Eritrea (ERI)\t4\t0\t0\t1\t1\t0\t0\t0\t0\t0\t4\t0\t0\t1\t1, Estonia (EST)\t11\t9\t9\t15\t33\t9\t4\t2\t1\t7\t20\t13\t11\t16\t40, Ethiopia (ETH)\t12\t21\t7\t17\t45\t2\t0\t0\t0\t0\t14\t21\t7\t17\t45, Finland (FIN)\t24\t101\t84\t117\t302\t22\t42\t62\t57\t161\t46\t143\t146\t174\t463, France (FRA) [O] [P] [Z]\t27\t202\t223\t246\t671\t22\t31\t31\t47\t109\t49\t233\t254\t293\t780, Gabon (GAB)\t9\t0\t1\t0\t1\t0\t0\t0\t0\t0\t9\t0\t1\t0\t1, Georgia (GEO)\t5\t6\t5\t14\t25\t6\t0\t0\t0\t0\t11\t6\t5\t14\t25, Germany (GER) [GER] [Z]\t15\t174\t182\t217\t573\t11\t78\t78\t53\t209\t26\t252\t260\t270\t782, United Team of Germany (EUA) [EUA]\t3\t28\t54\t36\t118\t3\t8\t6\t5\t19\t6\t36\t60\t41\t137, East Germany (GDR) [GDR]\t5\t153\t129\t127\t409\t6\t39\t36\t35\t110\t11\t192\t165\t162\t519, West Germany (FRG) [FRG]\t5\t56\t67\t81\t204\t6\t11\t15\t13\t39\t11\t67\t82\t94\t243, Ghana (GHA) [GHA]\t13\t0\t1\t3\t4\t1\t0\t0\t0\t0\t14\t0\t1\t3\t4, Great Britain (GBR) [GBR] [Z]\t27\t236\t272\t272\t780\t22\t10\t4\t12\t26\t49\t246\t276\t284\t806, Greece (GRE) [Z]\t27\t30\t42\t39\t111\t18\t0\t0\t0\t0\t45\t30\t42\t39\t111, Grenada (GRN)\t8\t1\t0\t0\t1\t0\t0\t0\t0\t0\t8\t1\t0\t0\t1, Guatemala (GUA)\t13\t0\t1\t0\t1\t1\t0\t0\t0\t0\t14\t0\t1\t0\t1, Guyana (GUY) [GUY]\t16\t0\t0\t1\t1\t0\t0\t0\t0\t0\t16\t0\t0\t1\t1, Haiti (HAI) [J]\t14\t0\t1\t1\t2\t0\t0\t0\t0\t0\t14\t0\t1\t1\t2, Hong Kong (HKG) [HKG]\t15\t1\t1\t1\t3\t4\t0\t0\t0\t0\t19\t1\t1\t1\t3, Hungary (HUN)\t25\t167\t144\t165\t476\t22\t0\t2\t4\t6\t47\t167\t146\t169\t482, Iceland (ISL)\t19\t0\t2\t2\t4\t17\t0\t0\t0\t0\t36\t0\t2\t2\t4, India (IND) [F]\t23\t9\t6\t11\t26\t9\t0\t0\t0\t0\t32\t9\t6\t11\t26, Indonesia (INA)\t14\t6\t10\t11\t27\t0\t0\t0\t0\t0\t14\t6\t10\t11\t27, Iran (IRI) [K]\t15\t15\t20\t25\t60\t10\t0\t0\t0\t0\t25\t15\t20\t25\t60, Iraq (IRQ)\t13\t0\t0\t1\t1\t0\t0\t0\t0\t0\t13\t0\t0\t1\t1, Ireland (IRL)\t20\t9\t8\t12\t29\t6\t0\t0\t0\t0\t26\t9\t8\t12\t29, Israel (ISR)\t15\t1\t1\t5\t7\t6\t0\t0\t0\t0\t21\t1\t1\t5\t7, Italy (ITA) [M] [S]\t26\t198\t166\t185\t549\t22\t37\t34\t43\t114\t48\t235\t200\t228\t663, Jamaica (JAM) [JAM]\t16\t17\t30\t20\t67\t7\t0\t0\t0\t0\t23\t17\t30\t20\t67, Japan (JPN)\t21\t130\t126\t142\t398\t20\t10\t17\t18\t45\t41\t140\t143\t160\t443, Kazakhstan (KAZ)\t5\t16\t17\t19\t52\t6\t1\t3\t3\t7\t11\t17\t20\t22\t59, Kenya (KEN)\t13\t25\t32\t29\t86\t3\t0\t0\t0\t0\t16\t25\t32\t29\t86, North Korea (PRK)\t9\t14\t12\t21\t47\t8\t0\t1\t1\t2\t17\t14\t13\t22\t49, South Korea (KOR)\t16\t81\t82\t80\t243\t17\t26\t17\t10\t53\t33\t107\t99\t90\t296, Kuwait (KUW)\t12\t0\t0\t2\t2\t0\t0\t0\t0\t0\t12\t0\t0\t2\t2, Kyrgyzstan (KGZ)\t5\t0\t1\t2\t3\t6\t0\t0\t0\t0\t11\t0\t1\t2\t3, Latvia (LAT)\t10\t3\t11\t5\t19\t10\t0\t4\t3\t7\t20\t3\t15\t8\t26, Lebanon (LIB)\t16\t0\t2\t2\t4\t16\t0\t0\t0\t0\t32\t0\t2\t2\t4, Liechtenstein (LIE)\t16\t0\t0\t0\t0\t18\t2\t2\t5\t9\t34\t2\t2\t5\t9, Lithuania (LTU)\t8\t6\t5\t10\t21\t8\t0\t0\t0\t0\t16\t6\t5\t10\t21, Luxembourg (LUX) [O]\t22\t1\t1\t0\t2\t8\t0\t2\t0\t2\t30\t1\t3\t0\t4, Macedonia (MKD)\t5\t0\t0\t1\t1\t5\t0\t0\t0\t0\t10\t0\t0\t1\t1, Malaysia (MAS) [MAS]\t12\t0\t3\t3\t6\t0\t0\t0\t0\t0\t12\t0\t3\t3\t6, Mauritius (MRI)\t8\t0\t0\t1\t1\t0\t0\t0\t0\t0\t8\t0\t0\t1\t1, Mexico (MEX)\t22\t13\t21\t28\t62\t8\t0\t0\t0\t0\t30\t13\t21\t28\t62, Moldova (MDA)\t5\t0\t2\t5\t7\t6\t0\t0\t0\t0\t11\t0\t2\t5\t7, Mongolia (MGL)\t12\t2\t9\t13\t24\t13\t0\t0\t0\t0\t25\t2\t9\t13\t24, Montenegro (MNE)\t2\t0\t1\t0\t1\t2\t0\t0\t0\t0\t4\t0\t1\t0\t1, Morocco (MAR)\t13\t6\t5\t11\t22\t6\t0\t0\t0\t0\t19\t6\t5\t11\t22, Mozambique (MOZ)\t9\t1\t0\t1\t2\t0\t0\t0\t0\t0\t9\t1\t0\t1\t2, Namibia (NAM)\t6\t0\t4\t0\t4\t0\t0\t0\t0\t0\t6\t0\t4\t0\t4, Netherlands (NED) [Z]\t25\t77\t85\t104\t266\t20\t37\t38\t35\t110\t45\t114\t123\t139\t376, Netherlands Antilles (AHO) [AHO] [I]\t13\t0\t1\t0\t1\t2\t0\t0\t0\t0\t15\t0\t1\t0\t1, New Zealand (NZL) [NZL]\t22\t42\t18\t39\t99\t15\t0\t1\t0\t1\t37\t42\t19\t39\t100, Niger (NIG)\t11\t0\t0\t1\t1\t0\t0\t0\t0\t0\t11\t0\t0\t1\t1, Nigeria (NGR)\t15\t3\t8\t12\t23\t0\t0\t0\t0\t0\t15\t3\t8\t12\t23, Norway (NOR) [Q]\t24\t56\t49\t43\t148\t22\t118\t111\t100\t329\t46\t174\t160\t143\t477, Pakistan (PAK)\t16\t3\t3\t4\t10\t2\t0\t0\t0\t0\t18\t3\t3\t4\t10, Panama (PAN)\t16\t1\t0\t2\t3\t0\t0\t0\t0\t0\t16\t1\t0\t2\t3, Paraguay (PAR)\t11\t0\t1\t0\t1\t1\t0\t0\t0\t0\t12\t0\t1\t0\t1, Peru (PER) [L]\t17\t1\t3\t0\t4\t2\t0\t0\t0\t0\t19\t1\t3\t0\t4, Philippines (PHI)\t20\t0\t2\t7\t9\t4\t0\t0\t0\t0\t24\t0\t2\t7\t9, Poland (POL)\t20\t64\t82\t125\t271\t22\t6\t7\t7\t20\t42\t70\t89\t132\t291, ...]\n",
       "\n",
       "[147 rows x 0 columns]"
      ]
     },
     "execution_count": 16,
     "metadata": {},
     "output_type": "execute_result"
    }
   ],
   "source": [
    "df\n"
   ]
  },
  {
   "cell_type": "code",
   "execution_count": 17,
   "metadata": {},
   "outputs": [],
   "source": [
    "for col in df.columns:\n",
    "    if col[:2]=='01':\n",
    "        df.rename(columns={col:'Gold'+col[4:]}, inplace=True)"
   ]
  },
  {
   "cell_type": "code",
   "execution_count": 18,
   "metadata": {},
   "outputs": [
    {
     "data": {
      "text/html": [
       "<div>\n",
       "<style scoped>\n",
       "    .dataframe tbody tr th:only-of-type {\n",
       "        vertical-align: middle;\n",
       "    }\n",
       "\n",
       "    .dataframe tbody tr th {\n",
       "        vertical-align: top;\n",
       "    }\n",
       "\n",
       "    .dataframe thead th {\n",
       "        text-align: right;\n",
       "    }\n",
       "</style>\n",
       "<table border=\"1\" class=\"dataframe\">\n",
       "  <thead>\n",
       "    <tr style=\"text-align: right;\">\n",
       "      <th></th>\n",
       "    </tr>\n",
       "    <tr>\n",
       "      <th>№ Summer\t01 !\t02 !\t03 !\tTotal\t№ Winter\t01 !\t02 !\t03 !\tTotal\t№ Games\t01 !\t02 !\t03 !\tCombined total</th>\n",
       "    </tr>\n",
       "  </thead>\n",
       "  <tbody>\n",
       "    <tr>\n",
       "      <th>Afghanistan (AFG)\\t13\\t0\\t0\\t2\\t2\\t0\\t0\\t0\\t0\\t0\\t13\\t0\\t0\\t2\\t2</th>\n",
       "    </tr>\n",
       "    <tr>\n",
       "      <th>Algeria (ALG)\\t12\\t5\\t2\\t8\\t15\\t3\\t0\\t0\\t0\\t0\\t15\\t5\\t2\\t8\\t15</th>\n",
       "    </tr>\n",
       "    <tr>\n",
       "      <th>Argentina (ARG)\\t23\\t18\\t24\\t28\\t70\\t18\\t0\\t0\\t0\\t0\\t41\\t18\\t24\\t28\\t70</th>\n",
       "    </tr>\n",
       "    <tr>\n",
       "      <th>Armenia (ARM)\\t5\\t1\\t2\\t9\\t12\\t6\\t0\\t0\\t0\\t0\\t11\\t1\\t2\\t9\\t12</th>\n",
       "    </tr>\n",
       "    <tr>\n",
       "      <th>Australasia (ANZ) [ANZ]\\t2\\t3\\t4\\t5\\t12\\t0\\t0\\t0\\t0\\t0\\t2\\t3\\t4\\t5\\t12</th>\n",
       "    </tr>\n",
       "    <tr>\n",
       "      <th>Australia (AUS) [AUS] [Z]\\t25\\t139\\t152\\t177\\t468\\t18\\t5\\t3\\t4\\t12\\t43\\t144\\t155\\t181\\t480</th>\n",
       "    </tr>\n",
       "    <tr>\n",
       "      <th>Austria (AUT)\\t26\\t18\\t33\\t35\\t86\\t22\\t59\\t78\\t81\\t218\\t48\\t77\\t111\\t116\\t304</th>\n",
       "    </tr>\n",
       "    <tr>\n",
       "      <th>Azerbaijan (AZE)\\t5\\t6\\t5\\t15\\t26\\t5\\t0\\t0\\t0\\t0\\t10\\t6\\t5\\t15\\t26</th>\n",
       "    </tr>\n",
       "    <tr>\n",
       "      <th>Bahamas (BAH)\\t15\\t5\\t2\\t5\\t12\\t0\\t0\\t0\\t0\\t0\\t15\\t5\\t2\\t5\\t12</th>\n",
       "    </tr>\n",
       "    <tr>\n",
       "      <th>Bahrain (BRN)\\t8\\t0\\t0\\t1\\t1\\t0\\t0\\t0\\t0\\t0\\t8\\t0\\t0\\t1\\t1</th>\n",
       "    </tr>\n",
       "    <tr>\n",
       "      <th>Barbados (BAR) [BAR]\\t11\\t0\\t0\\t1\\t1\\t0\\t0\\t0\\t0\\t0\\t11\\t0\\t0\\t1\\t1</th>\n",
       "    </tr>\n",
       "    <tr>\n",
       "      <th>Belarus (BLR)\\t5\\t12\\t24\\t39\\t75\\t6\\t6\\t4\\t5\\t15\\t11\\t18\\t28\\t44\\t90</th>\n",
       "    </tr>\n",
       "    <tr>\n",
       "      <th>Belgium (BEL)\\t25\\t37\\t52\\t53\\t142\\t20\\t1\\t1\\t3\\t5\\t45\\t38\\t53\\t56\\t147</th>\n",
       "    </tr>\n",
       "    <tr>\n",
       "      <th>Bermuda (BER)\\t17\\t0\\t0\\t1\\t1\\t7\\t0\\t0\\t0\\t0\\t24\\t0\\t0\\t1\\t1</th>\n",
       "    </tr>\n",
       "    <tr>\n",
       "      <th>Bohemia (BOH) [BOH] [Z]\\t3\\t0\\t1\\t3\\t4\\t0\\t0\\t0\\t0\\t0\\t3\\t0\\t1\\t3\\t4</th>\n",
       "    </tr>\n",
       "    <tr>\n",
       "      <th>Botswana (BOT)\\t9\\t0\\t1\\t0\\t1\\t0\\t0\\t0\\t0\\t0\\t9\\t0\\t1\\t0\\t1</th>\n",
       "    </tr>\n",
       "    <tr>\n",
       "      <th>Brazil (BRA)\\t21\\t23\\t30\\t55\\t108\\t7\\t0\\t0\\t0\\t0\\t28\\t23\\t30\\t55\\t108</th>\n",
       "    </tr>\n",
       "    <tr>\n",
       "      <th>British West Indies (BWI) [BWI]\\t1\\t0\\t0\\t2\\t2\\t0\\t0\\t0\\t0\\t0\\t1\\t0\\t0\\t2\\t2</th>\n",
       "    </tr>\n",
       "    <tr>\n",
       "      <th>Bulgaria (BUL) [H]\\t19\\t51\\t85\\t78\\t214\\t19\\t1\\t2\\t3\\t6\\t38\\t52\\t87\\t81\\t220</th>\n",
       "    </tr>\n",
       "    <tr>\n",
       "      <th>Burundi (BDI)\\t5\\t1\\t0\\t0\\t1\\t0\\t0\\t0\\t0\\t0\\t5\\t1\\t0\\t0\\t1</th>\n",
       "    </tr>\n",
       "    <tr>\n",
       "      <th>Cameroon (CMR)\\t13\\t3\\t1\\t1\\t5\\t1\\t0\\t0\\t0\\t0\\t14\\t3\\t1\\t1\\t5</th>\n",
       "    </tr>\n",
       "    <tr>\n",
       "      <th>Canada (CAN)\\t25\\t59\\t99\\t121\\t279\\t22\\t62\\t56\\t52\\t170\\t47\\t121\\t155\\t173\\t449</th>\n",
       "    </tr>\n",
       "    <tr>\n",
       "      <th>Chile (CHI) [I]\\t22\\t2\\t7\\t4\\t13\\t16\\t0\\t0\\t0\\t0\\t38\\t2\\t7\\t4\\t13</th>\n",
       "    </tr>\n",
       "    <tr>\n",
       "      <th>China (CHN) [CHN]\\t9\\t201\\t146\\t126\\t473\\t10\\t12\\t22\\t19\\t53\\t19\\t213\\t168\\t145\\t526</th>\n",
       "    </tr>\n",
       "    <tr>\n",
       "      <th>Colombia (COL)\\t18\\t2\\t6\\t11\\t19\\t1\\t0\\t0\\t0\\t0\\t19\\t2\\t6\\t11\\t19</th>\n",
       "    </tr>\n",
       "    <tr>\n",
       "      <th>Costa Rica (CRC)\\t14\\t1\\t1\\t2\\t4\\t6\\t0\\t0\\t0\\t0\\t20\\t1\\t1\\t2\\t4</th>\n",
       "    </tr>\n",
       "    <tr>\n",
       "      <th>Ivory Coast (CIV) [CIV]\\t12\\t0\\t1\\t0\\t1\\t0\\t0\\t0\\t0\\t0\\t12\\t0\\t1\\t0\\t1</th>\n",
       "    </tr>\n",
       "    <tr>\n",
       "      <th>Croatia (CRO)\\t6\\t6\\t7\\t10\\t23\\t7\\t4\\t6\\t1\\t11\\t13\\t10\\t13\\t11\\t34</th>\n",
       "    </tr>\n",
       "    <tr>\n",
       "      <th>Cuba (CUB) [Z]\\t19\\t72\\t67\\t70\\t209\\t0\\t0\\t0\\t0\\t0\\t19\\t72\\t67\\t70\\t209</th>\n",
       "    </tr>\n",
       "    <tr>\n",
       "      <th>Cyprus (CYP)\\t9\\t0\\t1\\t0\\t1\\t10\\t0\\t0\\t0\\t0\\t19\\t0\\t1\\t0\\t1</th>\n",
       "    </tr>\n",
       "    <tr>\n",
       "      <th>...</th>\n",
       "    </tr>\n",
       "    <tr>\n",
       "      <th>Sri Lanka (SRI) [SRI]\\t16\\t0\\t2\\t0\\t2\\t0\\t0\\t0\\t0\\t0\\t16\\t0\\t2\\t0\\t2</th>\n",
       "    </tr>\n",
       "    <tr>\n",
       "      <th>Sudan (SUD)\\t11\\t0\\t1\\t0\\t1\\t0\\t0\\t0\\t0\\t0\\t11\\t0\\t1\\t0\\t1</th>\n",
       "    </tr>\n",
       "    <tr>\n",
       "      <th>Suriname (SUR) [E]\\t11\\t1\\t0\\t1\\t2\\t0\\t0\\t0\\t0\\t0\\t11\\t1\\t0\\t1\\t2</th>\n",
       "    </tr>\n",
       "    <tr>\n",
       "      <th>Sweden (SWE) [Z]\\t26\\t143\\t164\\t176\\t483\\t22\\t50\\t40\\t54\\t144\\t48\\t193\\t204\\t230\\t627</th>\n",
       "    </tr>\n",
       "    <tr>\n",
       "      <th>Switzerland (SUI)\\t27\\t47\\t73\\t65\\t185\\t22\\t50\\t40\\t48\\t138\\t49\\t97\\t113\\t113\\t323</th>\n",
       "    </tr>\n",
       "    <tr>\n",
       "      <th>Syria (SYR)\\t12\\t1\\t1\\t1\\t3\\t0\\t0\\t0\\t0\\t0\\t12\\t1\\t1\\t1\\t3</th>\n",
       "    </tr>\n",
       "    <tr>\n",
       "      <th>Chinese Taipei (TPE) [TPE] [TPE2]\\t13\\t2\\t7\\t12\\t21\\t11\\t0\\t0\\t0\\t0\\t24\\t2\\t7\\t12\\t21</th>\n",
       "    </tr>\n",
       "    <tr>\n",
       "      <th>Tajikistan (TJK)\\t5\\t0\\t1\\t2\\t3\\t4\\t0\\t0\\t0\\t0\\t9\\t0\\t1\\t2\\t3</th>\n",
       "    </tr>\n",
       "    <tr>\n",
       "      <th>Tanzania (TAN) [TAN]\\t12\\t0\\t2\\t0\\t2\\t0\\t0\\t0\\t0\\t0\\t12\\t0\\t2\\t0\\t2</th>\n",
       "    </tr>\n",
       "    <tr>\n",
       "      <th>Thailand (THA)\\t15\\t7\\t6\\t11\\t24\\t3\\t0\\t0\\t0\\t0\\t18\\t7\\t6\\t11\\t24</th>\n",
       "    </tr>\n",
       "    <tr>\n",
       "      <th>Togo (TOG)\\t9\\t0\\t0\\t1\\t1\\t1\\t0\\t0\\t0\\t0\\t10\\t0\\t0\\t1\\t1</th>\n",
       "    </tr>\n",
       "    <tr>\n",
       "      <th>Tonga (TGA)\\t8\\t0\\t1\\t0\\t1\\t1\\t0\\t0\\t0\\t0\\t9\\t0\\t1\\t0\\t1</th>\n",
       "    </tr>\n",
       "    <tr>\n",
       "      <th>Trinidad and Tobago (TRI) [TRI]\\t16\\t2\\t5\\t11\\t18\\t3\\t0\\t0\\t0\\t0\\t19\\t2\\t5\\t11\\t18</th>\n",
       "    </tr>\n",
       "    <tr>\n",
       "      <th>Tunisia (TUN)\\t13\\t3\\t3\\t4\\t10\\t0\\t0\\t0\\t0\\t0\\t13\\t3\\t3\\t4\\t10</th>\n",
       "    </tr>\n",
       "    <tr>\n",
       "      <th>Turkey (TUR)\\t21\\t39\\t25\\t24\\t88\\t16\\t0\\t0\\t0\\t0\\t37\\t39\\t25\\t24\\t88</th>\n",
       "    </tr>\n",
       "    <tr>\n",
       "      <th>Uganda (UGA)\\t14\\t2\\t3\\t2\\t7\\t0\\t0\\t0\\t0\\t0\\t14\\t2\\t3\\t2\\t7</th>\n",
       "    </tr>\n",
       "    <tr>\n",
       "      <th>Ukraine (UKR)\\t5\\t33\\t27\\t55\\t115\\t6\\t2\\t1\\t4\\t7\\t11\\t35\\t28\\t59\\t122</th>\n",
       "    </tr>\n",
       "    <tr>\n",
       "      <th>United Arab Emirates (UAE)\\t8\\t1\\t0\\t0\\t1\\t0\\t0\\t0\\t0\\t0\\t8\\t1\\t0\\t0\\t1</th>\n",
       "    </tr>\n",
       "    <tr>\n",
       "      <th>United States (USA) [P] [Q] [R] [Z]\\t26\\t976\\t757\\t666\\t2399\\t22\\t96\\t102\\t84\\t282\\t48\\t1072\\t859\\t750\\t2681</th>\n",
       "    </tr>\n",
       "    <tr>\n",
       "      <th>Uruguay (URU)\\t20\\t2\\t2\\t6\\t10\\t1\\t0\\t0\\t0\\t0\\t21\\t2\\t2\\t6\\t10</th>\n",
       "    </tr>\n",
       "    <tr>\n",
       "      <th>Uzbekistan (UZB)\\t5\\t5\\t5\\t10\\t20\\t6\\t1\\t0\\t0\\t1\\t11\\t6\\t5\\t10\\t21</th>\n",
       "    </tr>\n",
       "    <tr>\n",
       "      <th>Venezuela (VEN)\\t17\\t2\\t2\\t8\\t12\\t4\\t0\\t0\\t0\\t0\\t21\\t2\\t2\\t8\\t12</th>\n",
       "    </tr>\n",
       "    <tr>\n",
       "      <th>Vietnam (VIE)\\t14\\t0\\t2\\t0\\t2\\t0\\t0\\t0\\t0\\t0\\t14\\t0\\t2\\t0\\t2</th>\n",
       "    </tr>\n",
       "    <tr>\n",
       "      <th>Virgin Islands (ISV)\\t11\\t0\\t1\\t0\\t1\\t7\\t0\\t0\\t0\\t0\\t18\\t0\\t1\\t0\\t1</th>\n",
       "    </tr>\n",
       "    <tr>\n",
       "      <th>Yugoslavia (YUG) [YUG]\\t16\\t26\\t29\\t28\\t83\\t14\\t0\\t3\\t1\\t4\\t30\\t26\\t32\\t29\\t87</th>\n",
       "    </tr>\n",
       "    <tr>\n",
       "      <th>Independent Olympic Participants (IOP) [IOP]\\t1\\t0\\t1\\t2\\t3\\t0\\t0\\t0\\t0\\t0\\t1\\t0\\t1\\t2\\t3</th>\n",
       "    </tr>\n",
       "    <tr>\n",
       "      <th>Zambia (ZAM) [ZAM]\\t12\\t0\\t1\\t1\\t2\\t0\\t0\\t0\\t0\\t0\\t12\\t0\\t1\\t1\\t2</th>\n",
       "    </tr>\n",
       "    <tr>\n",
       "      <th>Zimbabwe (ZIM) [ZIM]\\t12\\t3\\t4\\t1\\t8\\t1\\t0\\t0\\t0\\t0\\t13\\t3\\t4\\t1\\t8</th>\n",
       "    </tr>\n",
       "    <tr>\n",
       "      <th>Mixed team (ZZX) [ZZX]\\t3\\t8\\t5\\t4\\t17\\t0\\t0\\t0\\t0\\t0\\t3\\t8\\t5\\t4\\t17</th>\n",
       "    </tr>\n",
       "    <tr>\n",
       "      <th>Totals\\t27\\t4809\\t4775\\t5130\\t14714\\t22\\t959\\t958\\t948\\t2865\\t49\\t5768\\t5733\\t6078\\t17579</th>\n",
       "    </tr>\n",
       "  </tbody>\n",
       "</table>\n",
       "<p>147 rows × 0 columns</p>\n",
       "</div>"
      ],
      "text/plain": [
       "Empty DataFrame\n",
       "Columns: []\n",
       "Index: [Afghanistan (AFG)\t13\t0\t0\t2\t2\t0\t0\t0\t0\t0\t13\t0\t0\t2\t2, Algeria (ALG)\t12\t5\t2\t8\t15\t3\t0\t0\t0\t0\t15\t5\t2\t8\t15, Argentina (ARG)\t23\t18\t24\t28\t70\t18\t0\t0\t0\t0\t41\t18\t24\t28\t70, Armenia (ARM)\t5\t1\t2\t9\t12\t6\t0\t0\t0\t0\t11\t1\t2\t9\t12, Australasia (ANZ) [ANZ]\t2\t3\t4\t5\t12\t0\t0\t0\t0\t0\t2\t3\t4\t5\t12, Australia (AUS) [AUS] [Z]\t25\t139\t152\t177\t468\t18\t5\t3\t4\t12\t43\t144\t155\t181\t480, Austria (AUT)\t26\t18\t33\t35\t86\t22\t59\t78\t81\t218\t48\t77\t111\t116\t304, Azerbaijan (AZE)\t5\t6\t5\t15\t26\t5\t0\t0\t0\t0\t10\t6\t5\t15\t26, Bahamas (BAH)\t15\t5\t2\t5\t12\t0\t0\t0\t0\t0\t15\t5\t2\t5\t12, Bahrain (BRN)\t8\t0\t0\t1\t1\t0\t0\t0\t0\t0\t8\t0\t0\t1\t1, Barbados (BAR) [BAR]\t11\t0\t0\t1\t1\t0\t0\t0\t0\t0\t11\t0\t0\t1\t1, Belarus (BLR)\t5\t12\t24\t39\t75\t6\t6\t4\t5\t15\t11\t18\t28\t44\t90, Belgium (BEL)\t25\t37\t52\t53\t142\t20\t1\t1\t3\t5\t45\t38\t53\t56\t147, Bermuda (BER)\t17\t0\t0\t1\t1\t7\t0\t0\t0\t0\t24\t0\t0\t1\t1, Bohemia (BOH) [BOH] [Z]\t3\t0\t1\t3\t4\t0\t0\t0\t0\t0\t3\t0\t1\t3\t4, Botswana (BOT)\t9\t0\t1\t0\t1\t0\t0\t0\t0\t0\t9\t0\t1\t0\t1, Brazil (BRA)\t21\t23\t30\t55\t108\t7\t0\t0\t0\t0\t28\t23\t30\t55\t108, British West Indies (BWI) [BWI]\t1\t0\t0\t2\t2\t0\t0\t0\t0\t0\t1\t0\t0\t2\t2, Bulgaria (BUL) [H]\t19\t51\t85\t78\t214\t19\t1\t2\t3\t6\t38\t52\t87\t81\t220, Burundi (BDI)\t5\t1\t0\t0\t1\t0\t0\t0\t0\t0\t5\t1\t0\t0\t1, Cameroon (CMR)\t13\t3\t1\t1\t5\t1\t0\t0\t0\t0\t14\t3\t1\t1\t5, Canada (CAN)\t25\t59\t99\t121\t279\t22\t62\t56\t52\t170\t47\t121\t155\t173\t449, Chile (CHI) [I]\t22\t2\t7\t4\t13\t16\t0\t0\t0\t0\t38\t2\t7\t4\t13, China (CHN) [CHN]\t9\t201\t146\t126\t473\t10\t12\t22\t19\t53\t19\t213\t168\t145\t526, Colombia (COL)\t18\t2\t6\t11\t19\t1\t0\t0\t0\t0\t19\t2\t6\t11\t19, Costa Rica (CRC)\t14\t1\t1\t2\t4\t6\t0\t0\t0\t0\t20\t1\t1\t2\t4, Ivory Coast (CIV) [CIV]\t12\t0\t1\t0\t1\t0\t0\t0\t0\t0\t12\t0\t1\t0\t1, Croatia (CRO)\t6\t6\t7\t10\t23\t7\t4\t6\t1\t11\t13\t10\t13\t11\t34, Cuba (CUB) [Z]\t19\t72\t67\t70\t209\t0\t0\t0\t0\t0\t19\t72\t67\t70\t209, Cyprus (CYP)\t9\t0\t1\t0\t1\t10\t0\t0\t0\t0\t19\t0\t1\t0\t1, Czech Republic (CZE) [CZE]\t5\t14\t15\t15\t44\t6\t7\t9\t8\t24\t11\t21\t24\t23\t68, Czechoslovakia (TCH) [TCH]\t16\t49\t49\t45\t143\t16\t2\t8\t15\t25\t32\t51\t57\t60\t168, Denmark (DEN) [Z]\t26\t43\t68\t68\t179\t13\t0\t1\t0\t1\t39\t43\t69\t68\t180, Djibouti (DJI) [B]\t7\t0\t0\t1\t1\t0\t0\t0\t0\t0\t7\t0\t0\t1\t1, Dominican Republic (DOM)\t13\t3\t2\t1\t6\t0\t0\t0\t0\t0\t13\t3\t2\t1\t6, Ecuador (ECU)\t13\t1\t1\t0\t2\t0\t0\t0\t0\t0\t13\t1\t1\t0\t2, Egypt (EGY) [EGY] [Z]\t21\t7\t9\t10\t26\t1\t0\t0\t0\t0\t22\t7\t9\t10\t26, Eritrea (ERI)\t4\t0\t0\t1\t1\t0\t0\t0\t0\t0\t4\t0\t0\t1\t1, Estonia (EST)\t11\t9\t9\t15\t33\t9\t4\t2\t1\t7\t20\t13\t11\t16\t40, Ethiopia (ETH)\t12\t21\t7\t17\t45\t2\t0\t0\t0\t0\t14\t21\t7\t17\t45, Finland (FIN)\t24\t101\t84\t117\t302\t22\t42\t62\t57\t161\t46\t143\t146\t174\t463, France (FRA) [O] [P] [Z]\t27\t202\t223\t246\t671\t22\t31\t31\t47\t109\t49\t233\t254\t293\t780, Gabon (GAB)\t9\t0\t1\t0\t1\t0\t0\t0\t0\t0\t9\t0\t1\t0\t1, Georgia (GEO)\t5\t6\t5\t14\t25\t6\t0\t0\t0\t0\t11\t6\t5\t14\t25, Germany (GER) [GER] [Z]\t15\t174\t182\t217\t573\t11\t78\t78\t53\t209\t26\t252\t260\t270\t782, United Team of Germany (EUA) [EUA]\t3\t28\t54\t36\t118\t3\t8\t6\t5\t19\t6\t36\t60\t41\t137, East Germany (GDR) [GDR]\t5\t153\t129\t127\t409\t6\t39\t36\t35\t110\t11\t192\t165\t162\t519, West Germany (FRG) [FRG]\t5\t56\t67\t81\t204\t6\t11\t15\t13\t39\t11\t67\t82\t94\t243, Ghana (GHA) [GHA]\t13\t0\t1\t3\t4\t1\t0\t0\t0\t0\t14\t0\t1\t3\t4, Great Britain (GBR) [GBR] [Z]\t27\t236\t272\t272\t780\t22\t10\t4\t12\t26\t49\t246\t276\t284\t806, Greece (GRE) [Z]\t27\t30\t42\t39\t111\t18\t0\t0\t0\t0\t45\t30\t42\t39\t111, Grenada (GRN)\t8\t1\t0\t0\t1\t0\t0\t0\t0\t0\t8\t1\t0\t0\t1, Guatemala (GUA)\t13\t0\t1\t0\t1\t1\t0\t0\t0\t0\t14\t0\t1\t0\t1, Guyana (GUY) [GUY]\t16\t0\t0\t1\t1\t0\t0\t0\t0\t0\t16\t0\t0\t1\t1, Haiti (HAI) [J]\t14\t0\t1\t1\t2\t0\t0\t0\t0\t0\t14\t0\t1\t1\t2, Hong Kong (HKG) [HKG]\t15\t1\t1\t1\t3\t4\t0\t0\t0\t0\t19\t1\t1\t1\t3, Hungary (HUN)\t25\t167\t144\t165\t476\t22\t0\t2\t4\t6\t47\t167\t146\t169\t482, Iceland (ISL)\t19\t0\t2\t2\t4\t17\t0\t0\t0\t0\t36\t0\t2\t2\t4, India (IND) [F]\t23\t9\t6\t11\t26\t9\t0\t0\t0\t0\t32\t9\t6\t11\t26, Indonesia (INA)\t14\t6\t10\t11\t27\t0\t0\t0\t0\t0\t14\t6\t10\t11\t27, Iran (IRI) [K]\t15\t15\t20\t25\t60\t10\t0\t0\t0\t0\t25\t15\t20\t25\t60, Iraq (IRQ)\t13\t0\t0\t1\t1\t0\t0\t0\t0\t0\t13\t0\t0\t1\t1, Ireland (IRL)\t20\t9\t8\t12\t29\t6\t0\t0\t0\t0\t26\t9\t8\t12\t29, Israel (ISR)\t15\t1\t1\t5\t7\t6\t0\t0\t0\t0\t21\t1\t1\t5\t7, Italy (ITA) [M] [S]\t26\t198\t166\t185\t549\t22\t37\t34\t43\t114\t48\t235\t200\t228\t663, Jamaica (JAM) [JAM]\t16\t17\t30\t20\t67\t7\t0\t0\t0\t0\t23\t17\t30\t20\t67, Japan (JPN)\t21\t130\t126\t142\t398\t20\t10\t17\t18\t45\t41\t140\t143\t160\t443, Kazakhstan (KAZ)\t5\t16\t17\t19\t52\t6\t1\t3\t3\t7\t11\t17\t20\t22\t59, Kenya (KEN)\t13\t25\t32\t29\t86\t3\t0\t0\t0\t0\t16\t25\t32\t29\t86, North Korea (PRK)\t9\t14\t12\t21\t47\t8\t0\t1\t1\t2\t17\t14\t13\t22\t49, South Korea (KOR)\t16\t81\t82\t80\t243\t17\t26\t17\t10\t53\t33\t107\t99\t90\t296, Kuwait (KUW)\t12\t0\t0\t2\t2\t0\t0\t0\t0\t0\t12\t0\t0\t2\t2, Kyrgyzstan (KGZ)\t5\t0\t1\t2\t3\t6\t0\t0\t0\t0\t11\t0\t1\t2\t3, Latvia (LAT)\t10\t3\t11\t5\t19\t10\t0\t4\t3\t7\t20\t3\t15\t8\t26, Lebanon (LIB)\t16\t0\t2\t2\t4\t16\t0\t0\t0\t0\t32\t0\t2\t2\t4, Liechtenstein (LIE)\t16\t0\t0\t0\t0\t18\t2\t2\t5\t9\t34\t2\t2\t5\t9, Lithuania (LTU)\t8\t6\t5\t10\t21\t8\t0\t0\t0\t0\t16\t6\t5\t10\t21, Luxembourg (LUX) [O]\t22\t1\t1\t0\t2\t8\t0\t2\t0\t2\t30\t1\t3\t0\t4, Macedonia (MKD)\t5\t0\t0\t1\t1\t5\t0\t0\t0\t0\t10\t0\t0\t1\t1, Malaysia (MAS) [MAS]\t12\t0\t3\t3\t6\t0\t0\t0\t0\t0\t12\t0\t3\t3\t6, Mauritius (MRI)\t8\t0\t0\t1\t1\t0\t0\t0\t0\t0\t8\t0\t0\t1\t1, Mexico (MEX)\t22\t13\t21\t28\t62\t8\t0\t0\t0\t0\t30\t13\t21\t28\t62, Moldova (MDA)\t5\t0\t2\t5\t7\t6\t0\t0\t0\t0\t11\t0\t2\t5\t7, Mongolia (MGL)\t12\t2\t9\t13\t24\t13\t0\t0\t0\t0\t25\t2\t9\t13\t24, Montenegro (MNE)\t2\t0\t1\t0\t1\t2\t0\t0\t0\t0\t4\t0\t1\t0\t1, Morocco (MAR)\t13\t6\t5\t11\t22\t6\t0\t0\t0\t0\t19\t6\t5\t11\t22, Mozambique (MOZ)\t9\t1\t0\t1\t2\t0\t0\t0\t0\t0\t9\t1\t0\t1\t2, Namibia (NAM)\t6\t0\t4\t0\t4\t0\t0\t0\t0\t0\t6\t0\t4\t0\t4, Netherlands (NED) [Z]\t25\t77\t85\t104\t266\t20\t37\t38\t35\t110\t45\t114\t123\t139\t376, Netherlands Antilles (AHO) [AHO] [I]\t13\t0\t1\t0\t1\t2\t0\t0\t0\t0\t15\t0\t1\t0\t1, New Zealand (NZL) [NZL]\t22\t42\t18\t39\t99\t15\t0\t1\t0\t1\t37\t42\t19\t39\t100, Niger (NIG)\t11\t0\t0\t1\t1\t0\t0\t0\t0\t0\t11\t0\t0\t1\t1, Nigeria (NGR)\t15\t3\t8\t12\t23\t0\t0\t0\t0\t0\t15\t3\t8\t12\t23, Norway (NOR) [Q]\t24\t56\t49\t43\t148\t22\t118\t111\t100\t329\t46\t174\t160\t143\t477, Pakistan (PAK)\t16\t3\t3\t4\t10\t2\t0\t0\t0\t0\t18\t3\t3\t4\t10, Panama (PAN)\t16\t1\t0\t2\t3\t0\t0\t0\t0\t0\t16\t1\t0\t2\t3, Paraguay (PAR)\t11\t0\t1\t0\t1\t1\t0\t0\t0\t0\t12\t0\t1\t0\t1, Peru (PER) [L]\t17\t1\t3\t0\t4\t2\t0\t0\t0\t0\t19\t1\t3\t0\t4, Philippines (PHI)\t20\t0\t2\t7\t9\t4\t0\t0\t0\t0\t24\t0\t2\t7\t9, Poland (POL)\t20\t64\t82\t125\t271\t22\t6\t7\t7\t20\t42\t70\t89\t132\t291, ...]\n",
       "\n",
       "[147 rows x 0 columns]"
      ]
     },
     "execution_count": 18,
     "metadata": {},
     "output_type": "execute_result"
    }
   ],
   "source": [
    "df"
   ]
  },
  {
   "cell_type": "code",
   "execution_count": 19,
   "metadata": {},
   "outputs": [],
   "source": [
    "for col in df.columns:\n",
    "    if col[:2]=='01':\n",
    "        df.rename(columns={col:'Gold'+col[4:]}, inplace=True)\n",
    "    if col[:2]=='02':\n",
    "        df.rename(columns={col:'Silver'+col[4:]}, inplace=True)\n",
    "    if col[:2]=='03':\n",
    "        df.rename(columns={col:'Bronze'+col[4:]}, inplace=True)\n",
    "    if col[:1]=='№':\n",
    "        df.rename(columns={col:'#'+col[1:]}, inplace=True)"
   ]
  },
  {
   "cell_type": "code",
   "execution_count": 20,
   "metadata": {},
   "outputs": [
    {
     "data": {
      "text/html": [
       "<div>\n",
       "<style scoped>\n",
       "    .dataframe tbody tr th:only-of-type {\n",
       "        vertical-align: middle;\n",
       "    }\n",
       "\n",
       "    .dataframe tbody tr th {\n",
       "        vertical-align: top;\n",
       "    }\n",
       "\n",
       "    .dataframe thead th {\n",
       "        text-align: right;\n",
       "    }\n",
       "</style>\n",
       "<table border=\"1\" class=\"dataframe\">\n",
       "  <thead>\n",
       "    <tr style=\"text-align: right;\">\n",
       "      <th></th>\n",
       "    </tr>\n",
       "    <tr>\n",
       "      <th>№ Summer\t01 !\t02 !\t03 !\tTotal\t№ Winter\t01 !\t02 !\t03 !\tTotal\t№ Games\t01 !\t02 !\t03 !\tCombined total</th>\n",
       "    </tr>\n",
       "  </thead>\n",
       "  <tbody>\n",
       "    <tr>\n",
       "      <th>Afghanistan (AFG)\\t13\\t0\\t0\\t2\\t2\\t0\\t0\\t0\\t0\\t0\\t13\\t0\\t0\\t2\\t2</th>\n",
       "    </tr>\n",
       "    <tr>\n",
       "      <th>Algeria (ALG)\\t12\\t5\\t2\\t8\\t15\\t3\\t0\\t0\\t0\\t0\\t15\\t5\\t2\\t8\\t15</th>\n",
       "    </tr>\n",
       "    <tr>\n",
       "      <th>Argentina (ARG)\\t23\\t18\\t24\\t28\\t70\\t18\\t0\\t0\\t0\\t0\\t41\\t18\\t24\\t28\\t70</th>\n",
       "    </tr>\n",
       "    <tr>\n",
       "      <th>Armenia (ARM)\\t5\\t1\\t2\\t9\\t12\\t6\\t0\\t0\\t0\\t0\\t11\\t1\\t2\\t9\\t12</th>\n",
       "    </tr>\n",
       "    <tr>\n",
       "      <th>Australasia (ANZ) [ANZ]\\t2\\t3\\t4\\t5\\t12\\t0\\t0\\t0\\t0\\t0\\t2\\t3\\t4\\t5\\t12</th>\n",
       "    </tr>\n",
       "    <tr>\n",
       "      <th>Australia (AUS) [AUS] [Z]\\t25\\t139\\t152\\t177\\t468\\t18\\t5\\t3\\t4\\t12\\t43\\t144\\t155\\t181\\t480</th>\n",
       "    </tr>\n",
       "    <tr>\n",
       "      <th>Austria (AUT)\\t26\\t18\\t33\\t35\\t86\\t22\\t59\\t78\\t81\\t218\\t48\\t77\\t111\\t116\\t304</th>\n",
       "    </tr>\n",
       "    <tr>\n",
       "      <th>Azerbaijan (AZE)\\t5\\t6\\t5\\t15\\t26\\t5\\t0\\t0\\t0\\t0\\t10\\t6\\t5\\t15\\t26</th>\n",
       "    </tr>\n",
       "    <tr>\n",
       "      <th>Bahamas (BAH)\\t15\\t5\\t2\\t5\\t12\\t0\\t0\\t0\\t0\\t0\\t15\\t5\\t2\\t5\\t12</th>\n",
       "    </tr>\n",
       "    <tr>\n",
       "      <th>Bahrain (BRN)\\t8\\t0\\t0\\t1\\t1\\t0\\t0\\t0\\t0\\t0\\t8\\t0\\t0\\t1\\t1</th>\n",
       "    </tr>\n",
       "    <tr>\n",
       "      <th>Barbados (BAR) [BAR]\\t11\\t0\\t0\\t1\\t1\\t0\\t0\\t0\\t0\\t0\\t11\\t0\\t0\\t1\\t1</th>\n",
       "    </tr>\n",
       "    <tr>\n",
       "      <th>Belarus (BLR)\\t5\\t12\\t24\\t39\\t75\\t6\\t6\\t4\\t5\\t15\\t11\\t18\\t28\\t44\\t90</th>\n",
       "    </tr>\n",
       "    <tr>\n",
       "      <th>Belgium (BEL)\\t25\\t37\\t52\\t53\\t142\\t20\\t1\\t1\\t3\\t5\\t45\\t38\\t53\\t56\\t147</th>\n",
       "    </tr>\n",
       "    <tr>\n",
       "      <th>Bermuda (BER)\\t17\\t0\\t0\\t1\\t1\\t7\\t0\\t0\\t0\\t0\\t24\\t0\\t0\\t1\\t1</th>\n",
       "    </tr>\n",
       "    <tr>\n",
       "      <th>Bohemia (BOH) [BOH] [Z]\\t3\\t0\\t1\\t3\\t4\\t0\\t0\\t0\\t0\\t0\\t3\\t0\\t1\\t3\\t4</th>\n",
       "    </tr>\n",
       "    <tr>\n",
       "      <th>Botswana (BOT)\\t9\\t0\\t1\\t0\\t1\\t0\\t0\\t0\\t0\\t0\\t9\\t0\\t1\\t0\\t1</th>\n",
       "    </tr>\n",
       "    <tr>\n",
       "      <th>Brazil (BRA)\\t21\\t23\\t30\\t55\\t108\\t7\\t0\\t0\\t0\\t0\\t28\\t23\\t30\\t55\\t108</th>\n",
       "    </tr>\n",
       "    <tr>\n",
       "      <th>British West Indies (BWI) [BWI]\\t1\\t0\\t0\\t2\\t2\\t0\\t0\\t0\\t0\\t0\\t1\\t0\\t0\\t2\\t2</th>\n",
       "    </tr>\n",
       "    <tr>\n",
       "      <th>Bulgaria (BUL) [H]\\t19\\t51\\t85\\t78\\t214\\t19\\t1\\t2\\t3\\t6\\t38\\t52\\t87\\t81\\t220</th>\n",
       "    </tr>\n",
       "    <tr>\n",
       "      <th>Burundi (BDI)\\t5\\t1\\t0\\t0\\t1\\t0\\t0\\t0\\t0\\t0\\t5\\t1\\t0\\t0\\t1</th>\n",
       "    </tr>\n",
       "    <tr>\n",
       "      <th>Cameroon (CMR)\\t13\\t3\\t1\\t1\\t5\\t1\\t0\\t0\\t0\\t0\\t14\\t3\\t1\\t1\\t5</th>\n",
       "    </tr>\n",
       "    <tr>\n",
       "      <th>Canada (CAN)\\t25\\t59\\t99\\t121\\t279\\t22\\t62\\t56\\t52\\t170\\t47\\t121\\t155\\t173\\t449</th>\n",
       "    </tr>\n",
       "    <tr>\n",
       "      <th>Chile (CHI) [I]\\t22\\t2\\t7\\t4\\t13\\t16\\t0\\t0\\t0\\t0\\t38\\t2\\t7\\t4\\t13</th>\n",
       "    </tr>\n",
       "    <tr>\n",
       "      <th>China (CHN) [CHN]\\t9\\t201\\t146\\t126\\t473\\t10\\t12\\t22\\t19\\t53\\t19\\t213\\t168\\t145\\t526</th>\n",
       "    </tr>\n",
       "    <tr>\n",
       "      <th>Colombia (COL)\\t18\\t2\\t6\\t11\\t19\\t1\\t0\\t0\\t0\\t0\\t19\\t2\\t6\\t11\\t19</th>\n",
       "    </tr>\n",
       "    <tr>\n",
       "      <th>Costa Rica (CRC)\\t14\\t1\\t1\\t2\\t4\\t6\\t0\\t0\\t0\\t0\\t20\\t1\\t1\\t2\\t4</th>\n",
       "    </tr>\n",
       "    <tr>\n",
       "      <th>Ivory Coast (CIV) [CIV]\\t12\\t0\\t1\\t0\\t1\\t0\\t0\\t0\\t0\\t0\\t12\\t0\\t1\\t0\\t1</th>\n",
       "    </tr>\n",
       "    <tr>\n",
       "      <th>Croatia (CRO)\\t6\\t6\\t7\\t10\\t23\\t7\\t4\\t6\\t1\\t11\\t13\\t10\\t13\\t11\\t34</th>\n",
       "    </tr>\n",
       "    <tr>\n",
       "      <th>Cuba (CUB) [Z]\\t19\\t72\\t67\\t70\\t209\\t0\\t0\\t0\\t0\\t0\\t19\\t72\\t67\\t70\\t209</th>\n",
       "    </tr>\n",
       "    <tr>\n",
       "      <th>Cyprus (CYP)\\t9\\t0\\t1\\t0\\t1\\t10\\t0\\t0\\t0\\t0\\t19\\t0\\t1\\t0\\t1</th>\n",
       "    </tr>\n",
       "    <tr>\n",
       "      <th>...</th>\n",
       "    </tr>\n",
       "    <tr>\n",
       "      <th>Sri Lanka (SRI) [SRI]\\t16\\t0\\t2\\t0\\t2\\t0\\t0\\t0\\t0\\t0\\t16\\t0\\t2\\t0\\t2</th>\n",
       "    </tr>\n",
       "    <tr>\n",
       "      <th>Sudan (SUD)\\t11\\t0\\t1\\t0\\t1\\t0\\t0\\t0\\t0\\t0\\t11\\t0\\t1\\t0\\t1</th>\n",
       "    </tr>\n",
       "    <tr>\n",
       "      <th>Suriname (SUR) [E]\\t11\\t1\\t0\\t1\\t2\\t0\\t0\\t0\\t0\\t0\\t11\\t1\\t0\\t1\\t2</th>\n",
       "    </tr>\n",
       "    <tr>\n",
       "      <th>Sweden (SWE) [Z]\\t26\\t143\\t164\\t176\\t483\\t22\\t50\\t40\\t54\\t144\\t48\\t193\\t204\\t230\\t627</th>\n",
       "    </tr>\n",
       "    <tr>\n",
       "      <th>Switzerland (SUI)\\t27\\t47\\t73\\t65\\t185\\t22\\t50\\t40\\t48\\t138\\t49\\t97\\t113\\t113\\t323</th>\n",
       "    </tr>\n",
       "    <tr>\n",
       "      <th>Syria (SYR)\\t12\\t1\\t1\\t1\\t3\\t0\\t0\\t0\\t0\\t0\\t12\\t1\\t1\\t1\\t3</th>\n",
       "    </tr>\n",
       "    <tr>\n",
       "      <th>Chinese Taipei (TPE) [TPE] [TPE2]\\t13\\t2\\t7\\t12\\t21\\t11\\t0\\t0\\t0\\t0\\t24\\t2\\t7\\t12\\t21</th>\n",
       "    </tr>\n",
       "    <tr>\n",
       "      <th>Tajikistan (TJK)\\t5\\t0\\t1\\t2\\t3\\t4\\t0\\t0\\t0\\t0\\t9\\t0\\t1\\t2\\t3</th>\n",
       "    </tr>\n",
       "    <tr>\n",
       "      <th>Tanzania (TAN) [TAN]\\t12\\t0\\t2\\t0\\t2\\t0\\t0\\t0\\t0\\t0\\t12\\t0\\t2\\t0\\t2</th>\n",
       "    </tr>\n",
       "    <tr>\n",
       "      <th>Thailand (THA)\\t15\\t7\\t6\\t11\\t24\\t3\\t0\\t0\\t0\\t0\\t18\\t7\\t6\\t11\\t24</th>\n",
       "    </tr>\n",
       "    <tr>\n",
       "      <th>Togo (TOG)\\t9\\t0\\t0\\t1\\t1\\t1\\t0\\t0\\t0\\t0\\t10\\t0\\t0\\t1\\t1</th>\n",
       "    </tr>\n",
       "    <tr>\n",
       "      <th>Tonga (TGA)\\t8\\t0\\t1\\t0\\t1\\t1\\t0\\t0\\t0\\t0\\t9\\t0\\t1\\t0\\t1</th>\n",
       "    </tr>\n",
       "    <tr>\n",
       "      <th>Trinidad and Tobago (TRI) [TRI]\\t16\\t2\\t5\\t11\\t18\\t3\\t0\\t0\\t0\\t0\\t19\\t2\\t5\\t11\\t18</th>\n",
       "    </tr>\n",
       "    <tr>\n",
       "      <th>Tunisia (TUN)\\t13\\t3\\t3\\t4\\t10\\t0\\t0\\t0\\t0\\t0\\t13\\t3\\t3\\t4\\t10</th>\n",
       "    </tr>\n",
       "    <tr>\n",
       "      <th>Turkey (TUR)\\t21\\t39\\t25\\t24\\t88\\t16\\t0\\t0\\t0\\t0\\t37\\t39\\t25\\t24\\t88</th>\n",
       "    </tr>\n",
       "    <tr>\n",
       "      <th>Uganda (UGA)\\t14\\t2\\t3\\t2\\t7\\t0\\t0\\t0\\t0\\t0\\t14\\t2\\t3\\t2\\t7</th>\n",
       "    </tr>\n",
       "    <tr>\n",
       "      <th>Ukraine (UKR)\\t5\\t33\\t27\\t55\\t115\\t6\\t2\\t1\\t4\\t7\\t11\\t35\\t28\\t59\\t122</th>\n",
       "    </tr>\n",
       "    <tr>\n",
       "      <th>United Arab Emirates (UAE)\\t8\\t1\\t0\\t0\\t1\\t0\\t0\\t0\\t0\\t0\\t8\\t1\\t0\\t0\\t1</th>\n",
       "    </tr>\n",
       "    <tr>\n",
       "      <th>United States (USA) [P] [Q] [R] [Z]\\t26\\t976\\t757\\t666\\t2399\\t22\\t96\\t102\\t84\\t282\\t48\\t1072\\t859\\t750\\t2681</th>\n",
       "    </tr>\n",
       "    <tr>\n",
       "      <th>Uruguay (URU)\\t20\\t2\\t2\\t6\\t10\\t1\\t0\\t0\\t0\\t0\\t21\\t2\\t2\\t6\\t10</th>\n",
       "    </tr>\n",
       "    <tr>\n",
       "      <th>Uzbekistan (UZB)\\t5\\t5\\t5\\t10\\t20\\t6\\t1\\t0\\t0\\t1\\t11\\t6\\t5\\t10\\t21</th>\n",
       "    </tr>\n",
       "    <tr>\n",
       "      <th>Venezuela (VEN)\\t17\\t2\\t2\\t8\\t12\\t4\\t0\\t0\\t0\\t0\\t21\\t2\\t2\\t8\\t12</th>\n",
       "    </tr>\n",
       "    <tr>\n",
       "      <th>Vietnam (VIE)\\t14\\t0\\t2\\t0\\t2\\t0\\t0\\t0\\t0\\t0\\t14\\t0\\t2\\t0\\t2</th>\n",
       "    </tr>\n",
       "    <tr>\n",
       "      <th>Virgin Islands (ISV)\\t11\\t0\\t1\\t0\\t1\\t7\\t0\\t0\\t0\\t0\\t18\\t0\\t1\\t0\\t1</th>\n",
       "    </tr>\n",
       "    <tr>\n",
       "      <th>Yugoslavia (YUG) [YUG]\\t16\\t26\\t29\\t28\\t83\\t14\\t0\\t3\\t1\\t4\\t30\\t26\\t32\\t29\\t87</th>\n",
       "    </tr>\n",
       "    <tr>\n",
       "      <th>Independent Olympic Participants (IOP) [IOP]\\t1\\t0\\t1\\t2\\t3\\t0\\t0\\t0\\t0\\t0\\t1\\t0\\t1\\t2\\t3</th>\n",
       "    </tr>\n",
       "    <tr>\n",
       "      <th>Zambia (ZAM) [ZAM]\\t12\\t0\\t1\\t1\\t2\\t0\\t0\\t0\\t0\\t0\\t12\\t0\\t1\\t1\\t2</th>\n",
       "    </tr>\n",
       "    <tr>\n",
       "      <th>Zimbabwe (ZIM) [ZIM]\\t12\\t3\\t4\\t1\\t8\\t1\\t0\\t0\\t0\\t0\\t13\\t3\\t4\\t1\\t8</th>\n",
       "    </tr>\n",
       "    <tr>\n",
       "      <th>Mixed team (ZZX) [ZZX]\\t3\\t8\\t5\\t4\\t17\\t0\\t0\\t0\\t0\\t0\\t3\\t8\\t5\\t4\\t17</th>\n",
       "    </tr>\n",
       "    <tr>\n",
       "      <th>Totals\\t27\\t4809\\t4775\\t5130\\t14714\\t22\\t959\\t958\\t948\\t2865\\t49\\t5768\\t5733\\t6078\\t17579</th>\n",
       "    </tr>\n",
       "  </tbody>\n",
       "</table>\n",
       "<p>147 rows × 0 columns</p>\n",
       "</div>"
      ],
      "text/plain": [
       "Empty DataFrame\n",
       "Columns: []\n",
       "Index: [Afghanistan (AFG)\t13\t0\t0\t2\t2\t0\t0\t0\t0\t0\t13\t0\t0\t2\t2, Algeria (ALG)\t12\t5\t2\t8\t15\t3\t0\t0\t0\t0\t15\t5\t2\t8\t15, Argentina (ARG)\t23\t18\t24\t28\t70\t18\t0\t0\t0\t0\t41\t18\t24\t28\t70, Armenia (ARM)\t5\t1\t2\t9\t12\t6\t0\t0\t0\t0\t11\t1\t2\t9\t12, Australasia (ANZ) [ANZ]\t2\t3\t4\t5\t12\t0\t0\t0\t0\t0\t2\t3\t4\t5\t12, Australia (AUS) [AUS] [Z]\t25\t139\t152\t177\t468\t18\t5\t3\t4\t12\t43\t144\t155\t181\t480, Austria (AUT)\t26\t18\t33\t35\t86\t22\t59\t78\t81\t218\t48\t77\t111\t116\t304, Azerbaijan (AZE)\t5\t6\t5\t15\t26\t5\t0\t0\t0\t0\t10\t6\t5\t15\t26, Bahamas (BAH)\t15\t5\t2\t5\t12\t0\t0\t0\t0\t0\t15\t5\t2\t5\t12, Bahrain (BRN)\t8\t0\t0\t1\t1\t0\t0\t0\t0\t0\t8\t0\t0\t1\t1, Barbados (BAR) [BAR]\t11\t0\t0\t1\t1\t0\t0\t0\t0\t0\t11\t0\t0\t1\t1, Belarus (BLR)\t5\t12\t24\t39\t75\t6\t6\t4\t5\t15\t11\t18\t28\t44\t90, Belgium (BEL)\t25\t37\t52\t53\t142\t20\t1\t1\t3\t5\t45\t38\t53\t56\t147, Bermuda (BER)\t17\t0\t0\t1\t1\t7\t0\t0\t0\t0\t24\t0\t0\t1\t1, Bohemia (BOH) [BOH] [Z]\t3\t0\t1\t3\t4\t0\t0\t0\t0\t0\t3\t0\t1\t3\t4, Botswana (BOT)\t9\t0\t1\t0\t1\t0\t0\t0\t0\t0\t9\t0\t1\t0\t1, Brazil (BRA)\t21\t23\t30\t55\t108\t7\t0\t0\t0\t0\t28\t23\t30\t55\t108, British West Indies (BWI) [BWI]\t1\t0\t0\t2\t2\t0\t0\t0\t0\t0\t1\t0\t0\t2\t2, Bulgaria (BUL) [H]\t19\t51\t85\t78\t214\t19\t1\t2\t3\t6\t38\t52\t87\t81\t220, Burundi (BDI)\t5\t1\t0\t0\t1\t0\t0\t0\t0\t0\t5\t1\t0\t0\t1, Cameroon (CMR)\t13\t3\t1\t1\t5\t1\t0\t0\t0\t0\t14\t3\t1\t1\t5, Canada (CAN)\t25\t59\t99\t121\t279\t22\t62\t56\t52\t170\t47\t121\t155\t173\t449, Chile (CHI) [I]\t22\t2\t7\t4\t13\t16\t0\t0\t0\t0\t38\t2\t7\t4\t13, China (CHN) [CHN]\t9\t201\t146\t126\t473\t10\t12\t22\t19\t53\t19\t213\t168\t145\t526, Colombia (COL)\t18\t2\t6\t11\t19\t1\t0\t0\t0\t0\t19\t2\t6\t11\t19, Costa Rica (CRC)\t14\t1\t1\t2\t4\t6\t0\t0\t0\t0\t20\t1\t1\t2\t4, Ivory Coast (CIV) [CIV]\t12\t0\t1\t0\t1\t0\t0\t0\t0\t0\t12\t0\t1\t0\t1, Croatia (CRO)\t6\t6\t7\t10\t23\t7\t4\t6\t1\t11\t13\t10\t13\t11\t34, Cuba (CUB) [Z]\t19\t72\t67\t70\t209\t0\t0\t0\t0\t0\t19\t72\t67\t70\t209, Cyprus (CYP)\t9\t0\t1\t0\t1\t10\t0\t0\t0\t0\t19\t0\t1\t0\t1, Czech Republic (CZE) [CZE]\t5\t14\t15\t15\t44\t6\t7\t9\t8\t24\t11\t21\t24\t23\t68, Czechoslovakia (TCH) [TCH]\t16\t49\t49\t45\t143\t16\t2\t8\t15\t25\t32\t51\t57\t60\t168, Denmark (DEN) [Z]\t26\t43\t68\t68\t179\t13\t0\t1\t0\t1\t39\t43\t69\t68\t180, Djibouti (DJI) [B]\t7\t0\t0\t1\t1\t0\t0\t0\t0\t0\t7\t0\t0\t1\t1, Dominican Republic (DOM)\t13\t3\t2\t1\t6\t0\t0\t0\t0\t0\t13\t3\t2\t1\t6, Ecuador (ECU)\t13\t1\t1\t0\t2\t0\t0\t0\t0\t0\t13\t1\t1\t0\t2, Egypt (EGY) [EGY] [Z]\t21\t7\t9\t10\t26\t1\t0\t0\t0\t0\t22\t7\t9\t10\t26, Eritrea (ERI)\t4\t0\t0\t1\t1\t0\t0\t0\t0\t0\t4\t0\t0\t1\t1, Estonia (EST)\t11\t9\t9\t15\t33\t9\t4\t2\t1\t7\t20\t13\t11\t16\t40, Ethiopia (ETH)\t12\t21\t7\t17\t45\t2\t0\t0\t0\t0\t14\t21\t7\t17\t45, Finland (FIN)\t24\t101\t84\t117\t302\t22\t42\t62\t57\t161\t46\t143\t146\t174\t463, France (FRA) [O] [P] [Z]\t27\t202\t223\t246\t671\t22\t31\t31\t47\t109\t49\t233\t254\t293\t780, Gabon (GAB)\t9\t0\t1\t0\t1\t0\t0\t0\t0\t0\t9\t0\t1\t0\t1, Georgia (GEO)\t5\t6\t5\t14\t25\t6\t0\t0\t0\t0\t11\t6\t5\t14\t25, Germany (GER) [GER] [Z]\t15\t174\t182\t217\t573\t11\t78\t78\t53\t209\t26\t252\t260\t270\t782, United Team of Germany (EUA) [EUA]\t3\t28\t54\t36\t118\t3\t8\t6\t5\t19\t6\t36\t60\t41\t137, East Germany (GDR) [GDR]\t5\t153\t129\t127\t409\t6\t39\t36\t35\t110\t11\t192\t165\t162\t519, West Germany (FRG) [FRG]\t5\t56\t67\t81\t204\t6\t11\t15\t13\t39\t11\t67\t82\t94\t243, Ghana (GHA) [GHA]\t13\t0\t1\t3\t4\t1\t0\t0\t0\t0\t14\t0\t1\t3\t4, Great Britain (GBR) [GBR] [Z]\t27\t236\t272\t272\t780\t22\t10\t4\t12\t26\t49\t246\t276\t284\t806, Greece (GRE) [Z]\t27\t30\t42\t39\t111\t18\t0\t0\t0\t0\t45\t30\t42\t39\t111, Grenada (GRN)\t8\t1\t0\t0\t1\t0\t0\t0\t0\t0\t8\t1\t0\t0\t1, Guatemala (GUA)\t13\t0\t1\t0\t1\t1\t0\t0\t0\t0\t14\t0\t1\t0\t1, Guyana (GUY) [GUY]\t16\t0\t0\t1\t1\t0\t0\t0\t0\t0\t16\t0\t0\t1\t1, Haiti (HAI) [J]\t14\t0\t1\t1\t2\t0\t0\t0\t0\t0\t14\t0\t1\t1\t2, Hong Kong (HKG) [HKG]\t15\t1\t1\t1\t3\t4\t0\t0\t0\t0\t19\t1\t1\t1\t3, Hungary (HUN)\t25\t167\t144\t165\t476\t22\t0\t2\t4\t6\t47\t167\t146\t169\t482, Iceland (ISL)\t19\t0\t2\t2\t4\t17\t0\t0\t0\t0\t36\t0\t2\t2\t4, India (IND) [F]\t23\t9\t6\t11\t26\t9\t0\t0\t0\t0\t32\t9\t6\t11\t26, Indonesia (INA)\t14\t6\t10\t11\t27\t0\t0\t0\t0\t0\t14\t6\t10\t11\t27, Iran (IRI) [K]\t15\t15\t20\t25\t60\t10\t0\t0\t0\t0\t25\t15\t20\t25\t60, Iraq (IRQ)\t13\t0\t0\t1\t1\t0\t0\t0\t0\t0\t13\t0\t0\t1\t1, Ireland (IRL)\t20\t9\t8\t12\t29\t6\t0\t0\t0\t0\t26\t9\t8\t12\t29, Israel (ISR)\t15\t1\t1\t5\t7\t6\t0\t0\t0\t0\t21\t1\t1\t5\t7, Italy (ITA) [M] [S]\t26\t198\t166\t185\t549\t22\t37\t34\t43\t114\t48\t235\t200\t228\t663, Jamaica (JAM) [JAM]\t16\t17\t30\t20\t67\t7\t0\t0\t0\t0\t23\t17\t30\t20\t67, Japan (JPN)\t21\t130\t126\t142\t398\t20\t10\t17\t18\t45\t41\t140\t143\t160\t443, Kazakhstan (KAZ)\t5\t16\t17\t19\t52\t6\t1\t3\t3\t7\t11\t17\t20\t22\t59, Kenya (KEN)\t13\t25\t32\t29\t86\t3\t0\t0\t0\t0\t16\t25\t32\t29\t86, North Korea (PRK)\t9\t14\t12\t21\t47\t8\t0\t1\t1\t2\t17\t14\t13\t22\t49, South Korea (KOR)\t16\t81\t82\t80\t243\t17\t26\t17\t10\t53\t33\t107\t99\t90\t296, Kuwait (KUW)\t12\t0\t0\t2\t2\t0\t0\t0\t0\t0\t12\t0\t0\t2\t2, Kyrgyzstan (KGZ)\t5\t0\t1\t2\t3\t6\t0\t0\t0\t0\t11\t0\t1\t2\t3, Latvia (LAT)\t10\t3\t11\t5\t19\t10\t0\t4\t3\t7\t20\t3\t15\t8\t26, Lebanon (LIB)\t16\t0\t2\t2\t4\t16\t0\t0\t0\t0\t32\t0\t2\t2\t4, Liechtenstein (LIE)\t16\t0\t0\t0\t0\t18\t2\t2\t5\t9\t34\t2\t2\t5\t9, Lithuania (LTU)\t8\t6\t5\t10\t21\t8\t0\t0\t0\t0\t16\t6\t5\t10\t21, Luxembourg (LUX) [O]\t22\t1\t1\t0\t2\t8\t0\t2\t0\t2\t30\t1\t3\t0\t4, Macedonia (MKD)\t5\t0\t0\t1\t1\t5\t0\t0\t0\t0\t10\t0\t0\t1\t1, Malaysia (MAS) [MAS]\t12\t0\t3\t3\t6\t0\t0\t0\t0\t0\t12\t0\t3\t3\t6, Mauritius (MRI)\t8\t0\t0\t1\t1\t0\t0\t0\t0\t0\t8\t0\t0\t1\t1, Mexico (MEX)\t22\t13\t21\t28\t62\t8\t0\t0\t0\t0\t30\t13\t21\t28\t62, Moldova (MDA)\t5\t0\t2\t5\t7\t6\t0\t0\t0\t0\t11\t0\t2\t5\t7, Mongolia (MGL)\t12\t2\t9\t13\t24\t13\t0\t0\t0\t0\t25\t2\t9\t13\t24, Montenegro (MNE)\t2\t0\t1\t0\t1\t2\t0\t0\t0\t0\t4\t0\t1\t0\t1, Morocco (MAR)\t13\t6\t5\t11\t22\t6\t0\t0\t0\t0\t19\t6\t5\t11\t22, Mozambique (MOZ)\t9\t1\t0\t1\t2\t0\t0\t0\t0\t0\t9\t1\t0\t1\t2, Namibia (NAM)\t6\t0\t4\t0\t4\t0\t0\t0\t0\t0\t6\t0\t4\t0\t4, Netherlands (NED) [Z]\t25\t77\t85\t104\t266\t20\t37\t38\t35\t110\t45\t114\t123\t139\t376, Netherlands Antilles (AHO) [AHO] [I]\t13\t0\t1\t0\t1\t2\t0\t0\t0\t0\t15\t0\t1\t0\t1, New Zealand (NZL) [NZL]\t22\t42\t18\t39\t99\t15\t0\t1\t0\t1\t37\t42\t19\t39\t100, Niger (NIG)\t11\t0\t0\t1\t1\t0\t0\t0\t0\t0\t11\t0\t0\t1\t1, Nigeria (NGR)\t15\t3\t8\t12\t23\t0\t0\t0\t0\t0\t15\t3\t8\t12\t23, Norway (NOR) [Q]\t24\t56\t49\t43\t148\t22\t118\t111\t100\t329\t46\t174\t160\t143\t477, Pakistan (PAK)\t16\t3\t3\t4\t10\t2\t0\t0\t0\t0\t18\t3\t3\t4\t10, Panama (PAN)\t16\t1\t0\t2\t3\t0\t0\t0\t0\t0\t16\t1\t0\t2\t3, Paraguay (PAR)\t11\t0\t1\t0\t1\t1\t0\t0\t0\t0\t12\t0\t1\t0\t1, Peru (PER) [L]\t17\t1\t3\t0\t4\t2\t0\t0\t0\t0\t19\t1\t3\t0\t4, Philippines (PHI)\t20\t0\t2\t7\t9\t4\t0\t0\t0\t0\t24\t0\t2\t7\t9, Poland (POL)\t20\t64\t82\t125\t271\t22\t6\t7\t7\t20\t42\t70\t89\t132\t291, ...]\n",
       "\n",
       "[147 rows x 0 columns]"
      ]
     },
     "execution_count": 20,
     "metadata": {},
     "output_type": "execute_result"
    }
   ],
   "source": [
    "df"
   ]
  },
  {
   "cell_type": "code",
   "execution_count": null,
   "metadata": {},
   "outputs": [],
   "source": [
    "\n",
    "\n",
    "\n",
    "\n"
   ]
  },
  {
   "cell_type": "code",
   "execution_count": null,
   "metadata": {},
   "outputs": [],
   "source": []
  },
  {
   "cell_type": "code",
   "execution_count": null,
   "metadata": {},
   "outputs": [],
   "source": []
  },
  {
   "cell_type": "code",
   "execution_count": null,
   "metadata": {},
   "outputs": [],
   "source": []
  },
  {
   "cell_type": "code",
   "execution_count": null,
   "metadata": {},
   "outputs": [],
   "source": []
  },
  {
   "cell_type": "code",
   "execution_count": null,
   "metadata": {},
   "outputs": [],
   "source": []
  },
  {
   "cell_type": "code",
   "execution_count": null,
   "metadata": {},
   "outputs": [],
   "source": []
  }
 ],
 "metadata": {
  "kernelspec": {
   "display_name": "Python 2",
   "language": "python",
   "name": "python2"
  },
  "language_info": {
   "codemirror_mode": {
    "name": "ipython",
    "version": 2
   },
   "file_extension": ".py",
   "mimetype": "text/x-python",
   "name": "python",
   "nbconvert_exporter": "python",
   "pygments_lexer": "ipython2",
   "version": "2.7.12"
  }
 },
 "nbformat": 4,
 "nbformat_minor": 2
}
