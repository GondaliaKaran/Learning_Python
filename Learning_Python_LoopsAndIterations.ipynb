{
 "cells": [
  {
   "cell_type": "code",
   "execution_count": 1,
   "metadata": {},
   "outputs": [
    {
     "name": "stdout",
     "output_type": "stream",
     "text": [
      "5\n",
      "4\n",
      "3\n",
      "2\n",
      "1\n",
      "Blastoff!\n"
     ]
    }
   ],
   "source": [
    "#While Statement\n",
    "#One form of iteration in Python is the while statement. Here is a simple program that counts down from five and then says \"Blastoff!\".\n",
    "\n",
    "n = 5\n",
    "while n > 0:\n",
    "    print(n)\n",
    "    n = n - 1\n",
    "print('Blastoff!')"
   ]
  },
  {
   "cell_type": "code",
   "execution_count": 6,
   "metadata": {},
   "outputs": [
    {
     "name": "stdout",
     "output_type": "stream",
     "text": [
      "Please enter a value:hello there\n",
      "hello there\n",
      "Please enter a value:done\n",
      "Done!\n"
     ]
    }
   ],
   "source": [
    "#\"Infinite loops\" and break\n",
    "#For example, suppose you want to take input from the user until they type done. You could write:\n",
    "\n",
    "while True:\n",
    "    line = raw_input('Please enter a value:')\n",
    "    if line == 'done':\n",
    "        break\n",
    "    print(line)\n",
    "print('Done!')\n",
    "\n",
    "#The loop condition is True, which is always true, so the loop runs repeatedly until it hits the break statement.\n",
    "\n",
    "#Each time through, it prompts the user with an angle bracket. If the user types done, the break statement exits the loop. Otherwise the program echoes whatever the user types and goes back to the top of the loop. Here's a sample run:\n"
   ]
  },
  {
   "cell_type": "code",
   "execution_count": 7,
   "metadata": {},
   "outputs": [],
   "source": [
    "#Make sure if we use Python 3 , we need to use 'input' instead of 'raw_input'."
   ]
  },
  {
   "cell_type": "code",
   "execution_count": 8,
   "metadata": {},
   "outputs": [
    {
     "name": "stdout",
     "output_type": "stream",
     "text": [
      "> hey there!\n",
      "hey there!\n",
      "> # Is Manchester United really that bad?\n",
      "> done\n",
      "Done!\n"
     ]
    }
   ],
   "source": [
    "#Finishing iterations with continue\n",
    "\n",
    "#Sometimes you are in an iteration of a loop and want to finish the current iteration and immediately jump to the next iteration. In that case you can use the continue statement to skip to the next iteration without finishing the body of the loop for the current iteration.Here is an example of a loop that copies its input until the user types \"done\", but treats lines that start with the hash character as lines not to be printed (kind of like Python comments).\n",
    "\n",
    "while True:\n",
    "    line = raw_input('> ')\n",
    "    if line[0] == '#':\n",
    "        continue\n",
    "    if line == 'done':\n",
    "        break\n",
    "    print(line)\n",
    "print('Done!')\n",
    "\n"
   ]
  },
  {
   "cell_type": "code",
   "execution_count": 10,
   "metadata": {},
   "outputs": [
    {
     "name": "stdout",
     "output_type": "stream",
     "text": [
      "('UEFA best player nominee', 'Modric')\n",
      "('UEFA best player nominee', 'Salah')\n",
      "('UEFA best player nominee', 'Ronaldo')\n",
      "Ronaldo might win\n"
     ]
    }
   ],
   "source": [
    "#Definite loops using for\n",
    "\n",
    "players = ['Modric', 'Salah', 'Ronaldo']\n",
    "for player in players:\n",
    "    print('UEFA best player nominee', player)\n",
    "print('Ronaldo might win')"
   ]
  },
  {
   "cell_type": "code",
   "execution_count": 11,
   "metadata": {},
   "outputs": [
    {
     "name": "stdout",
     "output_type": "stream",
     "text": [
      "('Count: ', 6)\n"
     ]
    }
   ],
   "source": [
    "#Counting and summing loops\n",
    "\n",
    "count = 0\n",
    "for itervar in [3, 41, 12, 9, 74, 15]:\n",
    "    count = count + 1\n",
    "print('Count: ', count)"
   ]
  },
  {
   "cell_type": "code",
   "execution_count": 12,
   "metadata": {},
   "outputs": [
    {
     "name": "stdout",
     "output_type": "stream",
     "text": [
      "('Total: ', 154)\n"
     ]
    }
   ],
   "source": [
    "total = 0\n",
    "for itervar in [3, 41, 12, 9, 74, 15]:\n",
    "    total = total + itervar\n",
    "print('Total: ', total)"
   ]
  },
  {
   "cell_type": "code",
   "execution_count": 13,
   "metadata": {},
   "outputs": [],
   "source": [
    "#Neither the counting loop nor the summing loop are particularly useful in practice because there are built-in functions len() and sum() that compute the number of items in a list and the total of the items in the list respectively."
   ]
  },
  {
   "cell_type": "code",
   "execution_count": 14,
   "metadata": {},
   "outputs": [
    {
     "name": "stdout",
     "output_type": "stream",
     "text": [
      "('Before:', None)\n",
      "('Loop:', 3, 3)\n",
      "('Loop:', 41, 41)\n",
      "('Loop:', 12, 41)\n",
      "('Loop:', 9, 41)\n",
      "('Loop:', 74, 74)\n",
      "('Loop:', 15, 74)\n",
      "('Largest:', 74)\n"
     ]
    }
   ],
   "source": [
    "#Maximum and minimum loops : To find the largest value in a list or sequence, we construct the following loop:\n",
    "\n",
    "largest = None\n",
    "print('Before:', largest)\n",
    "for itervar in [3, 41, 12, 9, 74, 15]:\n",
    "    if largest is None or itervar > largest :\n",
    "        largest = itervar\n",
    "    print('Loop:', itervar, largest)\n",
    "print('Largest:', largest)"
   ]
  },
  {
   "cell_type": "code",
   "execution_count": 15,
   "metadata": {},
   "outputs": [
    {
     "name": "stdout",
     "output_type": "stream",
     "text": [
      "('Before:', None)\n",
      "('Loop:', 3, 3)\n",
      "('Loop:', 41, 3)\n",
      "('Loop:', 12, 3)\n",
      "('Loop:', 9, 3)\n",
      "('Loop:', 74, 3)\n",
      "('Loop:', 15, 3)\n",
      "('Smallest:', 3)\n"
     ]
    }
   ],
   "source": [
    "#To compute the smallest number, the code is very similar with one small change:\n",
    "\n",
    "smallest = None\n",
    "print('Before:', smallest)\n",
    "for itervar in [3, 41, 12, 9, 74, 15]:\n",
    "    if smallest is None or itervar < smallest:\n",
    "        smallest = itervar\n",
    "    print('Loop:', itervar, smallest)\n",
    "print('Smallest:', smallest)"
   ]
  },
  {
   "cell_type": "code",
   "execution_count": 16,
   "metadata": {},
   "outputs": [],
   "source": [
    "#Again as in counting and summing, the built-in functions max() and min() make writing these exact loops unnecessary."
   ]
  },
  {
   "cell_type": "code",
   "execution_count": 18,
   "metadata": {},
   "outputs": [
    {
     "name": "stdout",
     "output_type": "stream",
     "text": [
      "Enter a number: 7\n",
      "Enter a number: 2\n",
      "Enter a number: Messi\n",
      "Invalid input\n",
      "Enter a number: 10\n",
      "Enter a number: 4\n",
      "Enter a number: done\n",
      "Maximum is 10\n",
      "Minimum is 2\n"
     ]
    }
   ],
   "source": [
    "#5.2 Write a program that repeatedly prompts a user for integer numbers until the user enters 'done'. Once 'done' is entered, print out the largest and smallest of the numbers. If the user enters anything other than a valid number catch it with a try/except and put out an appropriate message and ignore the number. Enter 7, 2, Messi, 10, and 4 and match the output below.\n",
    "\n",
    "largest = None\n",
    "smallest = None\n",
    "while True:\n",
    "    try: \n",
    "    \tnum = raw_input(\"Enter a number: \")\n",
    "    \tif num == \"done\" : break\n",
    "    \tn = int(num)\n",
    "    \tif largest < n :\n",
    "        \tlargest = n\n",
    "    \tif smallest == None or smallest > n : smallest = n\n",
    "        \n",
    "    \n",
    "    except:\n",
    "        print \"Invalid input\"   \n",
    "    \n",
    "\n",
    "print \"Maximum is\", largest\n",
    "print \"Minimum is\", smallest"
   ]
  },
  {
   "cell_type": "code",
   "execution_count": null,
   "metadata": {},
   "outputs": [],
   "source": []
  }
 ],
 "metadata": {
  "kernelspec": {
   "display_name": "Python 2",
   "language": "python",
   "name": "python2"
  },
  "language_info": {
   "codemirror_mode": {
    "name": "ipython",
    "version": 2
   },
   "file_extension": ".py",
   "mimetype": "text/x-python",
   "name": "python",
   "nbconvert_exporter": "python",
   "pygments_lexer": "ipython2",
   "version": "2.7.12"
  }
 },
 "nbformat": 4,
 "nbformat_minor": 2
}
